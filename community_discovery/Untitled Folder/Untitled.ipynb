{
 "cells": [
  {
   "cell_type": "code",
   "execution_count": 2,
   "id": "61dadc75",
   "metadata": {},
   "outputs": [],
   "source": [
    "import pandas as pd \n",
    "import numpy as np\n",
    "import networkx as nx \n",
    "import json \n",
    "import csv \n",
    "import matplotlib as plt \n",
    "import cdlib\n",
    "import os\n"
   ]
  },
  {
   "cell_type": "code",
   "execution_count": null,
   "id": "b5b6e4ca",
   "metadata": {},
   "outputs": [],
   "source": [
    "G = list()\n",
    "\n",
    "\n",
    "for f in os.listdir('../../data/years/'):\n",
    "    if f.find('.weighted.edgelist')>=0:\n",
    "        g = nx.read_weighted_edgelist('../../data/years/'+f)\n",
    "        G.append(g)\n"
   ]
  },
  {
   "cell_type": "code",
   "execution_count": null,
   "id": "e3418fbf",
   "metadata": {},
   "outputs": [],
   "source": [
    "\n",
    "maxW = 0\n",
    "for g in G:\n",
    "    weights = [g.edges[edge]['weight'] for edge in g.edges()]\n",
    "    if max(weights) > maxW : maxW = max(weights) \n",
    "        \n",
    "for edge in G.edges():\n",
    "    # G.edges[edge]['dissimilarity'] = 10000 - G.edges[edge]['weight']\n",
    "    G.edges[edge]['dissimilarity'] =  maxW+1 - G.edges[edge]['weight']"
   ]
  },
  {
   "cell_type": "code",
   "execution_count": null,
   "id": "e4af6cfc",
   "metadata": {},
   "outputs": [],
   "source": [
    "def localCloseNeighborThreshold(G,p,t):\n",
    "    \n",
    "    \n",
    "    geomin = 1\n",
    "    for q in g.neighbor(p):\n",
    "        geomin*= g.edges[p,q]\n",
    "    "
   ]
  }
 ],
 "metadata": {
  "kernelspec": {
   "display_name": "Python 3",
   "language": "python",
   "name": "python3"
  },
  "language_info": {
   "codemirror_mode": {
    "name": "ipython",
    "version": 3
   },
   "file_extension": ".py",
   "mimetype": "text/x-python",
   "name": "python",
   "nbconvert_exporter": "python",
   "pygments_lexer": "ipython3",
   "version": "3.7.9"
  }
 },
 "nbformat": 4,
 "nbformat_minor": 5
}
