{
 "cells": [
  {
   "cell_type": "code",
   "execution_count": 1,
   "id": "aece0e9c",
   "metadata": {},
   "outputs": [],
   "source": [
    "import pandas as pd \n",
    "import numpy as np \n",
    "import networkx as nx \n",
    "import json \n",
    "import matplotlib.pyplot as plt \n",
    "import seaborn as sns\n",
    "from datetime import datetime\n",
    "import tqdm"
   ]
  },
  {
   "cell_type": "code",
   "execution_count": 13,
   "id": "74fbc979",
   "metadata": {},
   "outputs": [],
   "source": [
    "\n",
    "import cdlib\n",
    "from cdlib import algorithms as cd\n",
    "from cdlib import readwrite, viz, evaluation"
   ]
  },
  {
   "cell_type": "code",
   "execution_count": 16,
   "id": "41435d4e",
   "metadata": {},
   "outputs": [
    {
     "name": "stdout",
     "output_type": "stream",
     "text": [
      "9107 111741\n"
     ]
    }
   ],
   "source": [
    "G = nx.read_graphml('../data/clean/byuser.graphml',node_type=int)\n",
    "print(len(G),len(G.edges))"
   ]
  },
  {
   "cell_type": "code",
   "execution_count": 17,
   "id": "242dae12",
   "metadata": {},
   "outputs": [
    {
     "name": "stdout",
     "output_type": "stream",
     "text": [
      "0 {'province': 'PI', 'covidMeasure': 0, 'latitude': 43.85180773789867, 'longitude': 10.506207}\n",
      "15775 {'province': 'LU', 'covidMeasure': 0, 'latitude': 43.85135, 'longitude': 10.506207}\n",
      "1979 {'province': 'FI', 'covidMeasure': 0, 'latitude': 43.76973, 'longitude': 11.26562}\n",
      "(0, 15775, 0) {'start': 414, 'end': 414, 'user': 'RobertaC2372', 'days': 0, 'geodistance': 0.0004577378986709846}\n",
      "(0, 15775, 1) {'start': 414, 'end': 414, 'user': 'ClaudioC138', 'days': 0, 'geodistance': 0.0004577378986709846}\n",
      "(0, 15775, 2) {'start': 414, 'end': 414, 'user': 'juan pablo A 116887066', 'days': 0, 'geodistance': 0.0004577378986709846}\n"
     ]
    }
   ],
   "source": [
    "for node in list(G.nodes)[:3]: print(node,G.nodes[node])\n",
    "for node in list(G.edges)[:3]: print(node,G.edges[node])"
   ]
  },
  {
   "cell_type": "code",
   "execution_count": 18,
   "id": "95516f98",
   "metadata": {},
   "outputs": [],
   "source": [
    "provinceTags = ['PI','PO','LI','FI','AR','PT','GR','MS','SI','LU']"
   ]
  },
  {
   "cell_type": "code",
   "execution_count": 19,
   "id": "4410f48f",
   "metadata": {},
   "outputs": [],
   "source": [
    "communities = {p:list() for p in provinceTags}\n",
    "\n",
    "for node, attr in G.nodes.items(): \n",
    "    p = attr['province']\n",
    "    communities[p].append(node)"
   ]
  },
  {
   "cell_type": "code",
   "execution_count": 24,
   "id": "cd3db02e",
   "metadata": {},
   "outputs": [],
   "source": [
    "communityObj = {\"communities\" : [c for c in communities.values()],\"overlap\": False, \"coverage\": 1.0,\"algorithm\": \"provinces\",\"params\": {\"initial_membership\": None, \"weights\": None}}\n"
   ]
  },
  {
   "cell_type": "code",
   "execution_count": 26,
   "id": "e479f529",
   "metadata": {},
   "outputs": [],
   "source": [
    "with open('../data/clean/provinceCommunity.json','w+') as jf:\n",
    "    json.dump(communityObj,jf)"
   ]
  },
  {
   "cell_type": "code",
   "execution_count": 28,
   "id": "17b3f6ee",
   "metadata": {},
   "outputs": [],
   "source": [
    "communities = readwrite.read_community_json('../data/clean/provinceCommunity.json')"
   ]
  },
  {
   "cell_type": "markdown",
   "id": "609cd080",
   "metadata": {},
   "source": [
    "## Fitness"
   ]
  },
  {
   "cell_type": "code",
   "execution_count": 32,
   "id": "f08f35c2",
   "metadata": {},
   "outputs": [],
   "source": [
    "all_evalution_functions = [evaluation.avg_distance, evaluation.avg_embeddedness, evaluation.average_internal_degree, evaluation.avg_transitivity, evaluation.conductance, evaluation.cut_ratio, evaluation.edges_inside, evaluation.expansion,  evaluation.fraction_over_median_degree,  evaluation.hub_dominance,  evaluation.internal_edge_density, evaluation.normalized_cut, evaluation.max_odf, evaluation.avg_odf, evaluation.flake_odf, evaluation.scaled_density, evaluation.significance, evaluation.size , evaluation.surprise , evaluation.triangle_participation_ratio, evaluation.purity]  "
   ]
  },
  {
   "cell_type": "code",
   "execution_count": 36,
   "id": "efa4a648",
   "metadata": {},
   "outputs": [
    {
     "name": "stdout",
     "output_type": "stream",
     "text": [
      "AVG_DISTANCE\n",
      "Graph is not weakly connected.\n",
      "\n",
      "\n",
      "AVG_EMBEDDEDNESS\n",
      "FitnessResult(min=0.3867069061354015, max=0.748056841634982, score=0.6086676282313765, std=0.1088729865406125)\n",
      "0.6086676282313765\n",
      "\n",
      "\n",
      "AVERAGE_INTERNAL_DEGREE\n",
      "FitnessResult(min=4.32280701754386, max=26.45205479452055, score=14.1045748893863, std=7.792780876465862)\n",
      "14.1045748893863\n",
      "\n",
      "\n",
      "AVG_TRANSITIVITY\n",
      "not implemented for multigraph type\n",
      "\n",
      "\n",
      "CONDUCTANCE\n",
      "FitnessResult(min=0.12000607625702567, max=0.4169427354472314, score=0.2268540594325537, std=0.09377424414023365)\n",
      "0.2268540594325537\n",
      "\n",
      "\n",
      "CUT_RATIO\n",
      "FitnessResult(min=0.00026907664778897105, max=0.0006315676086321799, score=0.0004059325475443626, std=0.00010497078115369946)\n",
      "0.0004059325475443626\n",
      "\n",
      "\n",
      "EDGES_INSIDE\n",
      "FitnessResult(min=616, max=20584, score=7792.2, std=6695.464969664168)\n",
      "7792.2\n",
      "\n",
      "\n",
      "EXPANSION\n",
      "FitnessResult(min=2.3202479338842976, max=5.211695906432748, score=3.307951784831225, std=0.8229952271174137)\n",
      "3.307951784831225\n",
      "\n",
      "\n",
      "FRACTION_OVER_MEDIAN_DEGREE\n",
      "FitnessResult(min=0.4358047016274864, max=0.4992389649923896, score=0.4718251925722045, std=0.022245843194405573)\n",
      "0.4718251925722045\n",
      "\n",
      "\n",
      "HUB_DOMINANCE\n",
      "FitnessResult(min=0.11619718309859155, max=0.4426229508196721, score=0.25474570751346787, std=0.09991683080122657)\n",
      "0.25474570751346787\n",
      "\n",
      "\n",
      "INTERNAL_EDGE_DENSITY\n",
      "FitnessResult(min=0.010238706915007494, max=0.027631921333388116, score=0.015708678604294108, std=0.005122545244598989)\n",
      "0.015708678604294108\n",
      "\n",
      "\n",
      "NORMALIZED_CUT\n",
      "FitnessResult(min=0.1379367329405825, max=0.420891088656781, score=0.2419247607858543, std=0.08753716810658323)\n",
      "0.2419247607858543\n",
      "\n",
      "\n",
      "MAX_ODF\n",
      "FitnessResult(min=44, max=352, score=155.4, std=85.32549443161756)\n",
      "155.4\n",
      "\n",
      "\n",
      "AVG_ODF\n",
      "FitnessResult(min=4.9421487603305785, max=12.238596491228071, score=7.234158097341475, std=2.0304648450359952)\n",
      "7.234158097341475\n",
      "\n",
      "\n",
      "FLAKE_ODF\n",
      "FitnessResult(min=0.11839708561020036, max=0.6385964912280702, score=0.3053551057650217, std=0.15568348474583327)\n",
      "0.3053551057650217\n",
      "\n",
      "\n",
      "SCALED_DENSITY\n",
      "FitnessResult(min=3.7993171203296296, max=10.253485392346164, score=5.829080962515927, std=1.9008429491170589)\n",
      "5.829080962515927\n",
      "\n",
      "\n",
      "SIGNIFICANCE\n",
      "FitnessResult(min=None, max=None, score=450843.92054802517, std=None)\n",
      "450843.92054802517\n",
      "\n",
      "\n",
      "SIZE\n",
      "FitnessResult(min=285, max=1980, score=910.7, std=474.38803737025245)\n",
      "910.7\n",
      "\n",
      "\n",
      "SURPRISE\n",
      "FitnessResult(min=None, max=None, score=96860.51052010029, std=None)\n",
      "96860.51052010029\n",
      "\n",
      "\n",
      "TRIANGLE_PARTICIPATION_RATIO\n",
      "not implemented for directed type\n",
      "\n",
      "\n",
      "PURITY\n",
      "purity() takes 1 positional argument but 2 were given\n",
      "\n",
      "\n"
     ]
    }
   ],
   "source": [
    "fitness = dict()\n",
    "\n",
    "for evaluation_function in all_evalution_functions:\n",
    "    f_name = str(evaluation_function).split(' ')[1].upper()\n",
    "    print(f_name)\n",
    "    try: \n",
    "        ev = evaluation_function(G,communities)\n",
    "        print(ev)\n",
    "        fitness[f_name] = ev.score\n",
    "        print(ev.score)\n",
    "\n",
    "    except Exception as e: \n",
    "        print(e) \n",
    "    \n",
    "    print('\\n')"
   ]
  },
  {
   "cell_type": "markdown",
   "id": "ed1bd337",
   "metadata": {},
   "source": [
    "## Modularities"
   ]
  },
  {
   "cell_type": "code",
   "execution_count": 37,
   "id": "e9782d60",
   "metadata": {},
   "outputs": [],
   "source": [
    "all_modularities = [evaluation.erdos_renyi_modularity, evaluation.link_modularity , evaluation.modularity_density , evaluation.newman_girvan_modularity , evaluation.z_modularity]"
   ]
  },
  {
   "cell_type": "code",
   "execution_count": 38,
   "id": "39ec4a13",
   "metadata": {},
   "outputs": [
    {
     "name": "stdout",
     "output_type": "stream",
     "text": [
      "ERDOS_RENYI_MODULARITY\n",
      "FitnessResult(min=None, max=None, score=0.5703064235302439, std=None)\n",
      "0.5703064235302439\n",
      "\n",
      "\n",
      "LINK_MODULARITY\n",
      "FitnessResult(min=None, max=None, score=0.03616247289364656, std=None)\n",
      "0.03616247289364656\n",
      "\n",
      "\n",
      "MODULARITY_DENSITY\n",
      "FitnessResult(min=None, max=None, score=68.70416792044826, std=None)\n",
      "68.70416792044826\n",
      "\n",
      "\n",
      "NEWMAN_GIRVAN_MODULARITY\n",
      "FitnessResult(min=None, max=None, score=0.10942757495034788, std=None)\n",
      "0.10942757495034788\n",
      "\n",
      "\n",
      "Z_MODULARITY\n",
      "FitnessResult(min=None, max=None, score=1.4861854381310924, std=None)\n",
      "1.4861854381310924\n",
      "\n",
      "\n"
     ]
    }
   ],
   "source": [
    "modularities = dict()\n",
    "\n",
    "for modularity in all_modularities:\n",
    "    f_name = str(modularity).split(' ')[1].upper()\n",
    "    print(f_name)\n",
    "    try: \n",
    "        ev = modularity(G,communities)\n",
    "        print(ev)\n",
    "        modularities[f_name] = ev.score\n",
    "        print(ev.score)\n",
    "\n",
    "    except Exception as e: \n",
    "        print(e) \n",
    "    \n",
    "    print('\\n')"
   ]
  },
  {
   "cell_type": "code",
   "execution_count": null,
   "id": "c13f38a0",
   "metadata": {},
   "outputs": [],
   "source": []
  }
 ],
 "metadata": {
  "kernelspec": {
   "display_name": "Python 3",
   "language": "python",
   "name": "python3"
  },
  "language_info": {
   "codemirror_mode": {
    "name": "ipython",
    "version": 3
   },
   "file_extension": ".py",
   "mimetype": "text/x-python",
   "name": "python",
   "nbconvert_exporter": "python",
   "pygments_lexer": "ipython3",
   "version": "3.8.8"
  }
 },
 "nbformat": 4,
 "nbformat_minor": 5
}
