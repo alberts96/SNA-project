{
 "cells": [
  {
   "cell_type": "code",
   "execution_count": 1,
   "id": "aece0e9c",
   "metadata": {},
   "outputs": [],
   "source": [
    "import pandas as pd \n",
    "import numpy as np \n",
    "import networkx as nx \n",
    "import json \n",
    "import matplotlib.pyplot as plt \n",
    "import seaborn as sns\n",
    "from datetime import datetime\n",
    "import tqdm"
   ]
  },
  {
   "cell_type": "code",
   "execution_count": 2,
   "id": "74fbc979",
   "metadata": {},
   "outputs": [
    {
     "name": "stderr",
     "output_type": "stream",
     "text": [
      "C:\\Users\\carlo\\anaconda3\\lib\\site-packages\\gensim\\similarities\\__init__.py:15: UserWarning: The gensim.similarities.levenshtein submodule is disabled, because the optional Levenshtein package <https://pypi.org/project/python-Levenshtein/> is unavailable. Install Levenhstein (e.g. `pip install python-Levenshtein`) to suppress this warning.\n",
      "  warnings.warn(msg)\n"
     ]
    }
   ],
   "source": [
    "\n",
    "import cdlib\n",
    "from cdlib import algorithms as cd\n",
    "from cdlib import readwrite, viz, evaluation"
   ]
  },
  {
   "cell_type": "code",
   "execution_count": 3,
   "id": "41435d4e",
   "metadata": {},
   "outputs": [
    {
     "name": "stdout",
     "output_type": "stream",
     "text": [
      "9107 111741\n"
     ]
    }
   ],
   "source": [
    "G = nx.read_graphml('../data/clean/byuser.graphml',node_type=int)\n",
    "print(len(G),len(G.edges))"
   ]
  },
  {
   "cell_type": "code",
   "execution_count": 4,
   "id": "242dae12",
   "metadata": {},
   "outputs": [
    {
     "name": "stdout",
     "output_type": "stream",
     "text": [
      "0 {'province': 'PI', 'covidMeasure': 0, 'latitude': 43.85180773789867, 'longitude': 10.506207}\n",
      "15775 {'province': 'LU', 'covidMeasure': 0, 'latitude': 43.85135, 'longitude': 10.506207}\n",
      "1979 {'province': 'FI', 'covidMeasure': 0, 'latitude': 43.76973, 'longitude': 11.26562}\n",
      "(0, 15775, 0) {'start': 414, 'end': 414, 'user': 'RobertaC2372', 'days': 0, 'geodistance': 0.0004577378986709846}\n",
      "(0, 15775, 1) {'start': 414, 'end': 414, 'user': 'ClaudioC138', 'days': 0, 'geodistance': 0.0004577378986709846}\n",
      "(0, 15775, 2) {'start': 414, 'end': 414, 'user': 'juan pablo A 116887066', 'days': 0, 'geodistance': 0.0004577378986709846}\n"
     ]
    }
   ],
   "source": [
    "for node in list(G.nodes)[:3]: print(node,G.nodes[node])\n",
    "for node in list(G.edges)[:3]: print(node,G.edges[node])"
   ]
  },
  {
   "cell_type": "code",
   "execution_count": 5,
   "id": "95516f98",
   "metadata": {},
   "outputs": [],
   "source": [
    "provinceTags = ['PI','PO','LI','FI','AR','PT','GR','MS','SI','LU']"
   ]
  },
  {
   "cell_type": "code",
   "execution_count": 6,
   "id": "4410f48f",
   "metadata": {},
   "outputs": [],
   "source": [
    "communities = {p:list() for p in provinceTags}\n",
    "\n",
    "for node, attr in G.nodes.items(): \n",
    "    p = attr['province']\n",
    "    communities[p].append(node)"
   ]
  },
  {
   "cell_type": "code",
   "execution_count": 7,
   "id": "cd3db02e",
   "metadata": {},
   "outputs": [],
   "source": [
    "communityObj = {\"communities\" : [c for c in communities.values()],\"overlap\": False, \"coverage\": 1.0,\"algorithm\": \"provinces\",\"params\": {\"initial_membership\": None, \"weights\": None}}\n"
   ]
  },
  {
   "cell_type": "code",
   "execution_count": 8,
   "id": "e479f529",
   "metadata": {},
   "outputs": [],
   "source": [
    "with open('../data/clean/provinceCommunity.json','w+') as jf:\n",
    "    json.dump(communityObj,jf)"
   ]
  },
  {
   "cell_type": "code",
   "execution_count": 9,
   "id": "17b3f6ee",
   "metadata": {},
   "outputs": [],
   "source": [
    "communities = readwrite.read_community_json('../data/clean/provinceCommunity.json')"
   ]
  },
  {
   "cell_type": "markdown",
   "id": "609cd080",
   "metadata": {},
   "source": [
    "## Fitness"
   ]
  },
  {
   "cell_type": "code",
   "execution_count": 17,
   "id": "f08f35c2",
   "metadata": {},
   "outputs": [],
   "source": [
    "all_evalution_functions = [evaluation.avg_distance, evaluation.avg_embeddedness, evaluation.average_internal_degree, evaluation.avg_transitivity, evaluation.conductance, evaluation.cut_ratio, evaluation.edges_inside, evaluation.expansion,  evaluation.fraction_over_median_degree,  evaluation.hub_dominance,  evaluation.internal_edge_density, evaluation.normalized_cut, evaluation.max_odf, evaluation.avg_odf, evaluation.flake_odf, evaluation.scaled_density, evaluation.significance, evaluation.size , evaluation.surprise , evaluation.triangle_participation_ratio, evaluation.purity]  "
   ]
  },
  {
   "cell_type": "code",
   "execution_count": null,
   "id": "106cf9a3",
   "metadata": {},
   "outputs": [],
   "source": []
  },
  {
   "cell_type": "code",
   "execution_count": 20,
   "id": "efa4a648",
   "metadata": {},
   "outputs": [
    {
     "name": "stdout",
     "output_type": "stream",
     "text": [
      "AVG_DISTANCE\n",
      "Graph is not weakly connected.\n",
      "\n",
      "\n",
      "AVG_EMBEDDEDNESS\n",
      "[0.7008817105636693, 0.7430236148767924, 0.6343410423651683, 0.748056841634982, 0.5208650675279324, 0.6409079046004966, 0.5949691544719298, 0.4927136921690475, 0.6242103479683465, 0.3867069061354015]\n",
      "\n",
      "\n",
      "AVERAGE_INTERNAL_DEGREE\n",
      "[20.79191919191919, 26.45205479452055, 14.1326352530541, 21.280510018214937, 8.846242774566473, 23.59766081871345, 8.264014466546111, 6.064516129032258, 7.293388429752066, 4.32280701754386]\n",
      "\n",
      "\n",
      "AVG_TRANSITIVITY\n",
      "not implemented for multigraph type\n",
      "\n",
      "\n",
      "CONDUCTANCE\n",
      "[0.12799983054796552, 0.12000607625702567, 0.1906046976511744, 0.12197504885014279, 0.3251609489372961, 0.1809028905488795, 0.23807935978659553, 0.3055193394176445, 0.24134966688158177, 0.4169427354472314]\n",
      "\n",
      "\n",
      "CUT_RATIO\n",
      "[0.0004282335066676304, 0.00046289053459169246, 0.00041805021118441056, 0.0003691202588344943, 0.0005171593964650254, 0.0006315676086321799, 0.0003018796447290926, 0.00031094774927792004, 0.00026907664778897105, 0.0003503999172722102]\n",
      "\n",
      "\n",
      "EDGES_INSIDE\n",
      "[20584, 17379, 8098, 11683, 3826, 10088, 2285, 1598, 1765, 616]\n",
      "\n",
      "\n",
      "EXPANSION\n",
      "[3.052020202020202, 3.6073059360730593, 3.3280977312390925, 2.9562841530054644, 4.2624277456647395, 5.211695906432748, 2.5822784810126582, 2.667931688804554, 2.3202479338842976, 3.0912280701754384]\n",
      "\n",
      "\n",
      "FRACTION_OVER_MEDIAN_DEGREE\n",
      "[0.49343434343434345, 0.4992389649923896, 0.48778359511343805, 0.4681238615664845, 0.44739884393063584, 0.4783625730994152, 0.4358047016274864, 0.44022770398481975, 0.4731404958677686, 0.49473684210526314]\n",
      "\n",
      "\n",
      "HUB_DOMINANCE\n",
      "[0.258211217786761, 0.33663366336633666, 0.25327510917030566, 0.381950774840474, 0.24537037037037038, 0.4426229508196721, 0.19927536231884058, 0.1482889733840304, 0.16563146997929606, 0.11619718309859155]\n",
      "\n",
      "\n",
      "INTERNAL_EDGE_DENSITY\n",
      "[0.010506275488589789, 0.020146271739924254, 0.012342912884763408, 0.019398824082237864, 0.010238706915007494, 0.027631921333388116, 0.014971040700264697, 0.01152949834416779, 0.015100183084372807, 0.015221151470224858]\n",
      "\n",
      "\n",
      "NORMALIZED_CUT\n",
      "[0.16008252458110472, 0.14450675855450737, 0.20867196434942167, 0.1379367329405825, 0.3419569146256027, 0.20235050849633862, 0.244560252951704, 0.3118614717453784, 0.24642939095712174, 0.420891088656781]\n",
      "\n",
      "\n",
      "MAX_ODF\n",
      "[172, 172, 193, 111, 352, 225, 87, 130, 68, 44]\n",
      "\n",
      "\n",
      "AVG_ODF\n",
      "[6.7853535353535355, 7.581430745814307, 7.386561954624782, 6.321493624772313, 9.278612716763005, 12.238596491228071, 5.556962025316456, 5.738140417457306, 4.9421487603305785, 6.512280701754386]\n",
      "\n",
      "\n",
      "FLAKE_ODF\n",
      "[0.1919191919191919, 0.1232876712328767, 0.24781849912739964, 0.11839708561020036, 0.42658959537572255, 0.23391812865497075, 0.32730560578661844, 0.4667931688804554, 0.27892561983471076, 0.6385964912280702]\n",
      "\n",
      "\n",
      "SCALED_DENSITY\n",
      "[3.898604840049718, 7.475756046900303, 4.580133079996896, 7.198397713863567, 3.7993171203296296, 10.253485392346164, 5.555362773232162, 4.2782961570667, 5.603284144062981, 5.648172357311147]\n",
      "\n",
      "\n",
      "SIGNIFICANCE\n",
      "FitnessResult(min=None, max=None, score=450843.92054802517, std=None)\n",
      "tuple index out of range\n",
      "\n",
      "\n",
      "SIZE\n",
      "[1980, 1314, 1146, 1098, 865, 855, 553, 527, 484, 285]\n",
      "\n",
      "\n",
      "SURPRISE\n",
      "FitnessResult(min=None, max=None, score=96860.51052010029, std=None)\n",
      "tuple index out of range\n",
      "\n",
      "\n",
      "TRIANGLE_PARTICIPATION_RATIO\n",
      "not implemented for directed type\n",
      "\n",
      "\n",
      "PURITY\n",
      "purity() got an unexpected keyword argument 'summary'\n",
      "\n",
      "\n"
     ]
    }
   ],
   "source": [
    "fitness = dict()\n",
    "\n",
    "for evaluation_function in all_evalution_functions:\n",
    "    f_name = str(evaluation_function).split(' ')[1].upper()\n",
    "    print(f_name)\n",
    "    try: \n",
    "        ev = evaluation_function(G,communities,summary = False)\n",
    "        print(ev)\n",
    "        fitness[f_name] = {p:ev[i] for i,p in enumerate(provinceTags)}\n",
    "\n",
    "    except Exception as e: \n",
    "        print(e) \n",
    "    \n",
    "    print('\\n')"
   ]
  },
  {
   "cell_type": "code",
   "execution_count": 26,
   "id": "1cc34548",
   "metadata": {},
   "outputs": [
    {
     "data": {
      "text/plain": [
       "15"
      ]
     },
     "execution_count": 26,
     "metadata": {},
     "output_type": "execute_result"
    }
   ],
   "source": [
    "len(fitness)"
   ]
  },
  {
   "cell_type": "code",
   "execution_count": 22,
   "id": "8d6abc05",
   "metadata": {},
   "outputs": [
    {
     "data": {
      "text/html": [
       "<div>\n",
       "<style scoped>\n",
       "    .dataframe tbody tr th:only-of-type {\n",
       "        vertical-align: middle;\n",
       "    }\n",
       "\n",
       "    .dataframe tbody tr th {\n",
       "        vertical-align: top;\n",
       "    }\n",
       "\n",
       "    .dataframe thead th {\n",
       "        text-align: right;\n",
       "    }\n",
       "</style>\n",
       "<table border=\"1\" class=\"dataframe\">\n",
       "  <thead>\n",
       "    <tr style=\"text-align: right;\">\n",
       "      <th></th>\n",
       "      <th>AVG_EMBEDDEDNESS</th>\n",
       "      <th>AVERAGE_INTERNAL_DEGREE</th>\n",
       "      <th>CONDUCTANCE</th>\n",
       "      <th>CUT_RATIO</th>\n",
       "      <th>EDGES_INSIDE</th>\n",
       "      <th>EXPANSION</th>\n",
       "      <th>FRACTION_OVER_MEDIAN_DEGREE</th>\n",
       "      <th>HUB_DOMINANCE</th>\n",
       "      <th>INTERNAL_EDGE_DENSITY</th>\n",
       "      <th>NORMALIZED_CUT</th>\n",
       "      <th>MAX_ODF</th>\n",
       "      <th>AVG_ODF</th>\n",
       "      <th>FLAKE_ODF</th>\n",
       "      <th>SCALED_DENSITY</th>\n",
       "      <th>SIZE</th>\n",
       "    </tr>\n",
       "  </thead>\n",
       "  <tbody>\n",
       "    <tr>\n",
       "      <th>PI</th>\n",
       "      <td>0.700882</td>\n",
       "      <td>20.791919</td>\n",
       "      <td>0.128000</td>\n",
       "      <td>0.000428</td>\n",
       "      <td>20584</td>\n",
       "      <td>3.052020</td>\n",
       "      <td>0.493434</td>\n",
       "      <td>0.258211</td>\n",
       "      <td>0.010506</td>\n",
       "      <td>0.160083</td>\n",
       "      <td>172</td>\n",
       "      <td>6.785354</td>\n",
       "      <td>0.191919</td>\n",
       "      <td>3.898605</td>\n",
       "      <td>1980</td>\n",
       "    </tr>\n",
       "    <tr>\n",
       "      <th>PO</th>\n",
       "      <td>0.743024</td>\n",
       "      <td>26.452055</td>\n",
       "      <td>0.120006</td>\n",
       "      <td>0.000463</td>\n",
       "      <td>17379</td>\n",
       "      <td>3.607306</td>\n",
       "      <td>0.499239</td>\n",
       "      <td>0.336634</td>\n",
       "      <td>0.020146</td>\n",
       "      <td>0.144507</td>\n",
       "      <td>172</td>\n",
       "      <td>7.581431</td>\n",
       "      <td>0.123288</td>\n",
       "      <td>7.475756</td>\n",
       "      <td>1314</td>\n",
       "    </tr>\n",
       "    <tr>\n",
       "      <th>LI</th>\n",
       "      <td>0.634341</td>\n",
       "      <td>14.132635</td>\n",
       "      <td>0.190605</td>\n",
       "      <td>0.000418</td>\n",
       "      <td>8098</td>\n",
       "      <td>3.328098</td>\n",
       "      <td>0.487784</td>\n",
       "      <td>0.253275</td>\n",
       "      <td>0.012343</td>\n",
       "      <td>0.208672</td>\n",
       "      <td>193</td>\n",
       "      <td>7.386562</td>\n",
       "      <td>0.247818</td>\n",
       "      <td>4.580133</td>\n",
       "      <td>1146</td>\n",
       "    </tr>\n",
       "    <tr>\n",
       "      <th>FI</th>\n",
       "      <td>0.748057</td>\n",
       "      <td>21.280510</td>\n",
       "      <td>0.121975</td>\n",
       "      <td>0.000369</td>\n",
       "      <td>11683</td>\n",
       "      <td>2.956284</td>\n",
       "      <td>0.468124</td>\n",
       "      <td>0.381951</td>\n",
       "      <td>0.019399</td>\n",
       "      <td>0.137937</td>\n",
       "      <td>111</td>\n",
       "      <td>6.321494</td>\n",
       "      <td>0.118397</td>\n",
       "      <td>7.198398</td>\n",
       "      <td>1098</td>\n",
       "    </tr>\n",
       "    <tr>\n",
       "      <th>AR</th>\n",
       "      <td>0.520865</td>\n",
       "      <td>8.846243</td>\n",
       "      <td>0.325161</td>\n",
       "      <td>0.000517</td>\n",
       "      <td>3826</td>\n",
       "      <td>4.262428</td>\n",
       "      <td>0.447399</td>\n",
       "      <td>0.245370</td>\n",
       "      <td>0.010239</td>\n",
       "      <td>0.341957</td>\n",
       "      <td>352</td>\n",
       "      <td>9.278613</td>\n",
       "      <td>0.426590</td>\n",
       "      <td>3.799317</td>\n",
       "      <td>865</td>\n",
       "    </tr>\n",
       "    <tr>\n",
       "      <th>PT</th>\n",
       "      <td>0.640908</td>\n",
       "      <td>23.597661</td>\n",
       "      <td>0.180903</td>\n",
       "      <td>0.000632</td>\n",
       "      <td>10088</td>\n",
       "      <td>5.211696</td>\n",
       "      <td>0.478363</td>\n",
       "      <td>0.442623</td>\n",
       "      <td>0.027632</td>\n",
       "      <td>0.202351</td>\n",
       "      <td>225</td>\n",
       "      <td>12.238596</td>\n",
       "      <td>0.233918</td>\n",
       "      <td>10.253485</td>\n",
       "      <td>855</td>\n",
       "    </tr>\n",
       "    <tr>\n",
       "      <th>GR</th>\n",
       "      <td>0.594969</td>\n",
       "      <td>8.264014</td>\n",
       "      <td>0.238079</td>\n",
       "      <td>0.000302</td>\n",
       "      <td>2285</td>\n",
       "      <td>2.582278</td>\n",
       "      <td>0.435805</td>\n",
       "      <td>0.199275</td>\n",
       "      <td>0.014971</td>\n",
       "      <td>0.244560</td>\n",
       "      <td>87</td>\n",
       "      <td>5.556962</td>\n",
       "      <td>0.327306</td>\n",
       "      <td>5.555363</td>\n",
       "      <td>553</td>\n",
       "    </tr>\n",
       "    <tr>\n",
       "      <th>MS</th>\n",
       "      <td>0.492714</td>\n",
       "      <td>6.064516</td>\n",
       "      <td>0.305519</td>\n",
       "      <td>0.000311</td>\n",
       "      <td>1598</td>\n",
       "      <td>2.667932</td>\n",
       "      <td>0.440228</td>\n",
       "      <td>0.148289</td>\n",
       "      <td>0.011529</td>\n",
       "      <td>0.311861</td>\n",
       "      <td>130</td>\n",
       "      <td>5.738140</td>\n",
       "      <td>0.466793</td>\n",
       "      <td>4.278296</td>\n",
       "      <td>527</td>\n",
       "    </tr>\n",
       "    <tr>\n",
       "      <th>SI</th>\n",
       "      <td>0.624210</td>\n",
       "      <td>7.293388</td>\n",
       "      <td>0.241350</td>\n",
       "      <td>0.000269</td>\n",
       "      <td>1765</td>\n",
       "      <td>2.320248</td>\n",
       "      <td>0.473140</td>\n",
       "      <td>0.165631</td>\n",
       "      <td>0.015100</td>\n",
       "      <td>0.246429</td>\n",
       "      <td>68</td>\n",
       "      <td>4.942149</td>\n",
       "      <td>0.278926</td>\n",
       "      <td>5.603284</td>\n",
       "      <td>484</td>\n",
       "    </tr>\n",
       "    <tr>\n",
       "      <th>LU</th>\n",
       "      <td>0.386707</td>\n",
       "      <td>4.322807</td>\n",
       "      <td>0.416943</td>\n",
       "      <td>0.000350</td>\n",
       "      <td>616</td>\n",
       "      <td>3.091228</td>\n",
       "      <td>0.494737</td>\n",
       "      <td>0.116197</td>\n",
       "      <td>0.015221</td>\n",
       "      <td>0.420891</td>\n",
       "      <td>44</td>\n",
       "      <td>6.512281</td>\n",
       "      <td>0.638596</td>\n",
       "      <td>5.648172</td>\n",
       "      <td>285</td>\n",
       "    </tr>\n",
       "  </tbody>\n",
       "</table>\n",
       "</div>"
      ],
      "text/plain": [
       "    AVG_EMBEDDEDNESS  AVERAGE_INTERNAL_DEGREE  CONDUCTANCE  CUT_RATIO  \\\n",
       "PI          0.700882                20.791919     0.128000   0.000428   \n",
       "PO          0.743024                26.452055     0.120006   0.000463   \n",
       "LI          0.634341                14.132635     0.190605   0.000418   \n",
       "FI          0.748057                21.280510     0.121975   0.000369   \n",
       "AR          0.520865                 8.846243     0.325161   0.000517   \n",
       "PT          0.640908                23.597661     0.180903   0.000632   \n",
       "GR          0.594969                 8.264014     0.238079   0.000302   \n",
       "MS          0.492714                 6.064516     0.305519   0.000311   \n",
       "SI          0.624210                 7.293388     0.241350   0.000269   \n",
       "LU          0.386707                 4.322807     0.416943   0.000350   \n",
       "\n",
       "    EDGES_INSIDE  EXPANSION  FRACTION_OVER_MEDIAN_DEGREE  HUB_DOMINANCE  \\\n",
       "PI         20584   3.052020                     0.493434       0.258211   \n",
       "PO         17379   3.607306                     0.499239       0.336634   \n",
       "LI          8098   3.328098                     0.487784       0.253275   \n",
       "FI         11683   2.956284                     0.468124       0.381951   \n",
       "AR          3826   4.262428                     0.447399       0.245370   \n",
       "PT         10088   5.211696                     0.478363       0.442623   \n",
       "GR          2285   2.582278                     0.435805       0.199275   \n",
       "MS          1598   2.667932                     0.440228       0.148289   \n",
       "SI          1765   2.320248                     0.473140       0.165631   \n",
       "LU           616   3.091228                     0.494737       0.116197   \n",
       "\n",
       "    INTERNAL_EDGE_DENSITY  NORMALIZED_CUT  MAX_ODF    AVG_ODF  FLAKE_ODF  \\\n",
       "PI               0.010506        0.160083      172   6.785354   0.191919   \n",
       "PO               0.020146        0.144507      172   7.581431   0.123288   \n",
       "LI               0.012343        0.208672      193   7.386562   0.247818   \n",
       "FI               0.019399        0.137937      111   6.321494   0.118397   \n",
       "AR               0.010239        0.341957      352   9.278613   0.426590   \n",
       "PT               0.027632        0.202351      225  12.238596   0.233918   \n",
       "GR               0.014971        0.244560       87   5.556962   0.327306   \n",
       "MS               0.011529        0.311861      130   5.738140   0.466793   \n",
       "SI               0.015100        0.246429       68   4.942149   0.278926   \n",
       "LU               0.015221        0.420891       44   6.512281   0.638596   \n",
       "\n",
       "    SCALED_DENSITY  SIZE  \n",
       "PI        3.898605  1980  \n",
       "PO        7.475756  1314  \n",
       "LI        4.580133  1146  \n",
       "FI        7.198398  1098  \n",
       "AR        3.799317   865  \n",
       "PT       10.253485   855  \n",
       "GR        5.555363   553  \n",
       "MS        4.278296   527  \n",
       "SI        5.603284   484  \n",
       "LU        5.648172   285  "
      ]
     },
     "execution_count": 22,
     "metadata": {},
     "output_type": "execute_result"
    }
   ],
   "source": [
    "pd.DataFrame(fitness)"
   ]
  },
  {
   "cell_type": "code",
   "execution_count": 15,
   "id": "af4de0e3",
   "metadata": {},
   "outputs": [
    {
     "name": "stdout",
     "output_type": "stream",
     "text": [
      "None\n",
      "None\n",
      "96860.51052010029\n",
      "None\n"
     ]
    }
   ],
   "source": [
    "for i in ev: print(i)"
   ]
  },
  {
   "cell_type": "markdown",
   "id": "ed1bd337",
   "metadata": {},
   "source": [
    "## Modularities"
   ]
  },
  {
   "cell_type": "code",
   "execution_count": 27,
   "id": "e9782d60",
   "metadata": {},
   "outputs": [],
   "source": [
    "all_modularities = [evaluation.erdos_renyi_modularity, evaluation.link_modularity , evaluation.modularity_density , evaluation.newman_girvan_modularity , evaluation.z_modularity]"
   ]
  },
  {
   "cell_type": "code",
   "execution_count": 35,
   "id": "39ec4a13",
   "metadata": {},
   "outputs": [
    {
     "name": "stdout",
     "output_type": "stream",
     "text": [
      "ERDOS_RENYI_MODULARITY\n",
      "FitnessResult(min=None, max=None, score=0.5703064235302439, std=None)\n",
      "0.5703064235302439\n",
      "\n",
      "\n",
      "LINK_MODULARITY\n",
      "FitnessResult(min=None, max=None, score=0.03616247289364656, std=None)\n",
      "0.03616247289364656\n",
      "\n",
      "\n",
      "MODULARITY_DENSITY\n",
      "FitnessResult(min=None, max=None, score=68.70416792044826, std=None)\n",
      "68.70416792044826\n",
      "\n",
      "\n",
      "NEWMAN_GIRVAN_MODULARITY\n",
      "FitnessResult(min=None, max=None, score=0.10942757495034788, std=None)\n",
      "0.10942757495034788\n",
      "\n",
      "\n",
      "Z_MODULARITY\n",
      "FitnessResult(min=None, max=None, score=1.4861854381310924, std=None)\n",
      "1.4861854381310924\n",
      "\n",
      "\n"
     ]
    }
   ],
   "source": [
    "modularities = dict()\n",
    "\n",
    "for modularity in all_modularities:\n",
    "    f_name = str(modularity).split(' ')[1].upper()\n",
    "    print(f_name)\n",
    "    try: \n",
    "        ev = modularity(G,communities, summary =False)\n",
    "        print(ev)\n",
    "        modularities[f_name] = ev.score\n",
    "        print(ev.score)\n",
    "\n",
    "    except Exception as e: \n",
    "        print(e) \n",
    "    \n",
    "    print('\\n')"
   ]
  },
  {
   "cell_type": "code",
   "execution_count": 37,
   "id": "e17b8166",
   "metadata": {},
   "outputs": [
    {
     "data": {
      "text/plain": [
       "{'ERDOS_RENYI_MODULARITY': 0.5703064235302439,\n",
       " 'LINK_MODULARITY': 0.03616247289364656,\n",
       " 'MODULARITY_DENSITY': 68.70416792044826,\n",
       " 'NEWMAN_GIRVAN_MODULARITY': 0.10942757495034788,\n",
       " 'Z_MODULARITY': 1.4861854381310924}"
      ]
     },
     "execution_count": 37,
     "metadata": {},
     "output_type": "execute_result"
    }
   ],
   "source": [
    "modularities"
   ]
  },
  {
   "cell_type": "code",
   "execution_count": 39,
   "id": "c13f38a0",
   "metadata": {},
   "outputs": [
    {
     "name": "stdout",
     "output_type": "stream",
     "text": [
      "0.5703064235302439\n",
      "0.03616247289364656\n",
      "68.70416792044826\n",
      "0.10942757495034788\n",
      "1.4861854381310924\n"
     ]
    }
   ],
   "source": [
    "for i in modularities.values(): print(i)"
   ]
  },
  {
   "cell_type": "code",
   "execution_count": null,
   "id": "a5bdc5a4",
   "metadata": {},
   "outputs": [],
   "source": []
  }
 ],
 "metadata": {
  "kernelspec": {
   "display_name": "Python 3",
   "language": "python",
   "name": "python3"
  },
  "language_info": {
   "codemirror_mode": {
    "name": "ipython",
    "version": 3
   },
   "file_extension": ".py",
   "mimetype": "text/x-python",
   "name": "python",
   "nbconvert_exporter": "python",
   "pygments_lexer": "ipython3",
   "version": "3.8.8"
  }
 },
 "nbformat": 4,
 "nbformat_minor": 5
}
