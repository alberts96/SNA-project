{
 "cells": [
  {
   "cell_type": "code",
   "execution_count": 1,
   "id": "b7f83b98",
   "metadata": {},
   "outputs": [],
   "source": [
    "import pandas as pd \n",
    "import numpy as np \n",
    "import networkx as nx \n",
    "import json \n",
    "import matplotlib.pyplot as plt \n",
    "import seaborn as sns\n",
    "from datetime import datetime\n",
    "import tqdm\n",
    "import pickle"
   ]
  },
  {
   "cell_type": "code",
   "execution_count": 2,
   "id": "1151b3a1",
   "metadata": {},
   "outputs": [],
   "source": [
    "provinceTags = ['PI','PO','LI','FI','AR','PT','GR','MS','SI','LU']"
   ]
  },
  {
   "cell_type": "code",
   "execution_count": 3,
   "id": "779157b9",
   "metadata": {},
   "outputs": [
    {
     "name": "stdout",
     "output_type": "stream",
     "text": [
      "9107 111741\n"
     ]
    }
   ],
   "source": [
    "G = nx.read_graphml('../data/clean/byuser.graphml',node_type=int)\n",
    "print(len(G),len(G.edges))"
   ]
  },
  {
   "cell_type": "code",
   "execution_count": 4,
   "id": "952fce43",
   "metadata": {},
   "outputs": [
    {
     "name": "stdout",
     "output_type": "stream",
     "text": [
      "0 {'province': 'PI', 'covidMeasure': 0, 'latitude': 43.85180773789867, 'longitude': 10.506207}\n",
      "15775 {'province': 'LU', 'covidMeasure': 0, 'latitude': 43.85135, 'longitude': 10.506207}\n",
      "1979 {'province': 'FI', 'covidMeasure': 0, 'latitude': 43.76973, 'longitude': 11.26562}\n",
      "(0, 15775, 0) {'start': 414, 'end': 414, 'user': 'RobertaC2372', 'days': 0, 'geodistance': 0.0004577378986709846}\n",
      "(0, 15775, 1) {'start': 414, 'end': 414, 'user': 'ClaudioC138', 'days': 0, 'geodistance': 0.0004577378986709846}\n",
      "(0, 15775, 2) {'start': 414, 'end': 414, 'user': 'juan pablo A 116887066', 'days': 0, 'geodistance': 0.0004577378986709846}\n"
     ]
    }
   ],
   "source": [
    "for node in list(G.nodes)[:3]: print(node,G.nodes[node])\n",
    "for node in list(G.edges)[:3]: print(node,G.edges[node])"
   ]
  },
  {
   "cell_type": "code",
   "execution_count": 6,
   "id": "64755fc3",
   "metadata": {},
   "outputs": [
    {
     "data": {
      "text/html": [
       "<div>\n",
       "<style scoped>\n",
       "    .dataframe tbody tr th:only-of-type {\n",
       "        vertical-align: middle;\n",
       "    }\n",
       "\n",
       "    .dataframe tbody tr th {\n",
       "        vertical-align: top;\n",
       "    }\n",
       "\n",
       "    .dataframe thead th {\n",
       "        text-align: right;\n",
       "    }\n",
       "</style>\n",
       "<table border=\"1\" class=\"dataframe\">\n",
       "  <thead>\n",
       "    <tr style=\"text-align: right;\">\n",
       "      <th></th>\n",
       "      <th>PI-positivi</th>\n",
       "      <th>PI-deceduti</th>\n",
       "      <th>PO-positivi</th>\n",
       "      <th>PO-deceduti</th>\n",
       "      <th>LI-positivi</th>\n",
       "      <th>LI-deceduti</th>\n",
       "      <th>FI-positivi</th>\n",
       "      <th>FI-deceduti</th>\n",
       "      <th>AR-positivi</th>\n",
       "      <th>AR-deceduti</th>\n",
       "      <th>PT-positivi</th>\n",
       "      <th>PT-deceduti</th>\n",
       "      <th>GR-positivi</th>\n",
       "      <th>GR-deceduti</th>\n",
       "      <th>MS-positivi</th>\n",
       "      <th>MS-deceduti</th>\n",
       "      <th>SI-positivi</th>\n",
       "      <th>SI-deceduti</th>\n",
       "      <th>LU-positivi</th>\n",
       "      <th>LU-deceduti</th>\n",
       "    </tr>\n",
       "    <tr>\n",
       "      <th>index</th>\n",
       "      <th></th>\n",
       "      <th></th>\n",
       "      <th></th>\n",
       "      <th></th>\n",
       "      <th></th>\n",
       "      <th></th>\n",
       "      <th></th>\n",
       "      <th></th>\n",
       "      <th></th>\n",
       "      <th></th>\n",
       "      <th></th>\n",
       "      <th></th>\n",
       "      <th></th>\n",
       "      <th></th>\n",
       "      <th></th>\n",
       "      <th></th>\n",
       "      <th></th>\n",
       "      <th></th>\n",
       "      <th></th>\n",
       "      <th></th>\n",
       "    </tr>\n",
       "  </thead>\n",
       "  <tbody>\n",
       "    <tr>\n",
       "      <th>2020-02-14</th>\n",
       "      <td>0</td>\n",
       "      <td>0.0</td>\n",
       "      <td>0</td>\n",
       "      <td>0.0</td>\n",
       "      <td>0</td>\n",
       "      <td>0.0</td>\n",
       "      <td>0</td>\n",
       "      <td>0.0</td>\n",
       "      <td>0</td>\n",
       "      <td>0.0</td>\n",
       "      <td>0</td>\n",
       "      <td>0.0</td>\n",
       "      <td>0</td>\n",
       "      <td>0.0</td>\n",
       "      <td>0</td>\n",
       "      <td>0.0</td>\n",
       "      <td>0</td>\n",
       "      <td>0.0</td>\n",
       "      <td>0</td>\n",
       "      <td>0.0</td>\n",
       "    </tr>\n",
       "    <tr>\n",
       "      <th>2020-02-15</th>\n",
       "      <td>0</td>\n",
       "      <td>0.0</td>\n",
       "      <td>0</td>\n",
       "      <td>0.0</td>\n",
       "      <td>0</td>\n",
       "      <td>0.0</td>\n",
       "      <td>1</td>\n",
       "      <td>0.0</td>\n",
       "      <td>0</td>\n",
       "      <td>0.0</td>\n",
       "      <td>1</td>\n",
       "      <td>0.0</td>\n",
       "      <td>0</td>\n",
       "      <td>0.0</td>\n",
       "      <td>0</td>\n",
       "      <td>0.0</td>\n",
       "      <td>0</td>\n",
       "      <td>0.0</td>\n",
       "      <td>0</td>\n",
       "      <td>0.0</td>\n",
       "    </tr>\n",
       "    <tr>\n",
       "      <th>2020-02-16</th>\n",
       "      <td>0</td>\n",
       "      <td>0.0</td>\n",
       "      <td>0</td>\n",
       "      <td>0.0</td>\n",
       "      <td>0</td>\n",
       "      <td>0.0</td>\n",
       "      <td>2</td>\n",
       "      <td>0.0</td>\n",
       "      <td>0</td>\n",
       "      <td>0.0</td>\n",
       "      <td>0</td>\n",
       "      <td>0.0</td>\n",
       "      <td>0</td>\n",
       "      <td>0.0</td>\n",
       "      <td>0</td>\n",
       "      <td>0.0</td>\n",
       "      <td>0</td>\n",
       "      <td>0.0</td>\n",
       "      <td>0</td>\n",
       "      <td>0.0</td>\n",
       "    </tr>\n",
       "    <tr>\n",
       "      <th>2020-02-17</th>\n",
       "      <td>0</td>\n",
       "      <td>0.0</td>\n",
       "      <td>0</td>\n",
       "      <td>0.0</td>\n",
       "      <td>0</td>\n",
       "      <td>0.0</td>\n",
       "      <td>1</td>\n",
       "      <td>0.0</td>\n",
       "      <td>0</td>\n",
       "      <td>0.0</td>\n",
       "      <td>1</td>\n",
       "      <td>0.0</td>\n",
       "      <td>0</td>\n",
       "      <td>0.0</td>\n",
       "      <td>0</td>\n",
       "      <td>0.0</td>\n",
       "      <td>0</td>\n",
       "      <td>0.0</td>\n",
       "      <td>0</td>\n",
       "      <td>0.0</td>\n",
       "    </tr>\n",
       "    <tr>\n",
       "      <th>2020-02-18</th>\n",
       "      <td>0</td>\n",
       "      <td>0.0</td>\n",
       "      <td>0</td>\n",
       "      <td>0.0</td>\n",
       "      <td>0</td>\n",
       "      <td>0.0</td>\n",
       "      <td>7</td>\n",
       "      <td>0.0</td>\n",
       "      <td>0</td>\n",
       "      <td>0.0</td>\n",
       "      <td>1</td>\n",
       "      <td>0.0</td>\n",
       "      <td>0</td>\n",
       "      <td>0.0</td>\n",
       "      <td>0</td>\n",
       "      <td>0.0</td>\n",
       "      <td>0</td>\n",
       "      <td>0.0</td>\n",
       "      <td>0</td>\n",
       "      <td>0.0</td>\n",
       "    </tr>\n",
       "  </tbody>\n",
       "</table>\n",
       "</div>"
      ],
      "text/plain": [
       "            PI-positivi  PI-deceduti  PO-positivi  PO-deceduti  LI-positivi  \\\n",
       "index                                                                         \n",
       "2020-02-14            0          0.0            0          0.0            0   \n",
       "2020-02-15            0          0.0            0          0.0            0   \n",
       "2020-02-16            0          0.0            0          0.0            0   \n",
       "2020-02-17            0          0.0            0          0.0            0   \n",
       "2020-02-18            0          0.0            0          0.0            0   \n",
       "\n",
       "            LI-deceduti  FI-positivi  FI-deceduti  AR-positivi  AR-deceduti  \\\n",
       "index                                                                         \n",
       "2020-02-14          0.0            0          0.0            0          0.0   \n",
       "2020-02-15          0.0            1          0.0            0          0.0   \n",
       "2020-02-16          0.0            2          0.0            0          0.0   \n",
       "2020-02-17          0.0            1          0.0            0          0.0   \n",
       "2020-02-18          0.0            7          0.0            0          0.0   \n",
       "\n",
       "            PT-positivi  PT-deceduti  GR-positivi  GR-deceduti  MS-positivi  \\\n",
       "index                                                                         \n",
       "2020-02-14            0          0.0            0          0.0            0   \n",
       "2020-02-15            1          0.0            0          0.0            0   \n",
       "2020-02-16            0          0.0            0          0.0            0   \n",
       "2020-02-17            1          0.0            0          0.0            0   \n",
       "2020-02-18            1          0.0            0          0.0            0   \n",
       "\n",
       "            MS-deceduti  SI-positivi  SI-deceduti  LU-positivi  LU-deceduti  \n",
       "index                                                                        \n",
       "2020-02-14          0.0            0          0.0            0          0.0  \n",
       "2020-02-15          0.0            0          0.0            0          0.0  \n",
       "2020-02-16          0.0            0          0.0            0          0.0  \n",
       "2020-02-17          0.0            0          0.0            0          0.0  \n",
       "2020-02-18          0.0            0          0.0            0          0.0  "
      ]
     },
     "execution_count": 6,
     "metadata": {},
     "output_type": "execute_result"
    }
   ],
   "source": [
    "ts = pd.read_csv('../data/clean/covidars.csv', index_col=0)\n",
    "ts.head()\n"
   ]
  },
  {
   "cell_type": "code",
   "execution_count": 5,
   "id": "efe3cca0",
   "metadata": {},
   "outputs": [
    {
     "data": {
      "text/html": [
       "<div>\n",
       "<style scoped>\n",
       "    .dataframe tbody tr th:only-of-type {\n",
       "        vertical-align: middle;\n",
       "    }\n",
       "\n",
       "    .dataframe tbody tr th {\n",
       "        vertical-align: top;\n",
       "    }\n",
       "\n",
       "    .dataframe thead th {\n",
       "        text-align: right;\n",
       "    }\n",
       "</style>\n",
       "<table border=\"1\" class=\"dataframe\">\n",
       "  <thead>\n",
       "    <tr style=\"text-align: right;\">\n",
       "      <th></th>\n",
       "      <th>position</th>\n",
       "      <th>name</th>\n",
       "      <th>city</th>\n",
       "      <th>menu</th>\n",
       "      <th>link</th>\n",
       "      <th>score</th>\n",
       "      <th>N_reviews</th>\n",
       "      <th>price</th>\n",
       "      <th>Name</th>\n",
       "      <th>Province</th>\n",
       "      <th>...</th>\n",
       "      <th>latitude</th>\n",
       "      <th>longitude</th>\n",
       "      <th>cuisines</th>\n",
       "      <th>meals</th>\n",
       "      <th>specialDiets</th>\n",
       "      <th>positionlink</th>\n",
       "      <th>province</th>\n",
       "      <th>Link</th>\n",
       "      <th>provinceOK</th>\n",
       "      <th>longitud§e</th>\n",
       "    </tr>\n",
       "  </thead>\n",
       "  <tbody>\n",
       "    <tr>\n",
       "      <th>0</th>\n",
       "      <td>2018</td>\n",
       "      <td>Osteria al Borgo</td>\n",
       "      <td>Lucca</td>\n",
       "      <td>False</td>\n",
       "      <td>/Restaurant_Review-g187898-d23137800-Reviews-O...</td>\n",
       "      <td>5.0</td>\n",
       "      <td>6</td>\n",
       "      <td>NaN</td>\n",
       "      <td>Osteria al Borgo</td>\n",
       "      <td>lucca</td>\n",
       "      <td>...</td>\n",
       "      <td>43.851808</td>\n",
       "      <td>10.506207</td>\n",
       "      <td>Pizza, Tuscan, Central-Italian</td>\n",
       "      <td>NaN</td>\n",
       "      <td>Vegetarian Friendly, Vegan Options, Gluten Fre...</td>\n",
       "      <td>j39_https://maps.google.com/maps?saddr=&amp;daddr=...</td>\n",
       "      <td>pisa</td>\n",
       "      <td>/Restaurant_Review-g187898-d23137800-Reviews-O...</td>\n",
       "      <td>0</td>\n",
       "      <td>10.495633</td>\n",
       "    </tr>\n",
       "    <tr>\n",
       "      <th>1</th>\n",
       "      <td>551</td>\n",
       "      <td>Acino Bianco</td>\n",
       "      <td>Marina di Massa</td>\n",
       "      <td>False</td>\n",
       "      <td>/Restaurant_Review-g194814-d12843022-Reviews-A...</td>\n",
       "      <td>4.5</td>\n",
       "      <td>92</td>\n",
       "      <td>2.5</td>\n",
       "      <td>Acino Bianco</td>\n",
       "      <td>massacarrara</td>\n",
       "      <td>...</td>\n",
       "      <td>44.004616</td>\n",
       "      <td>10.115488</td>\n",
       "      <td>Italian</td>\n",
       "      <td>Dinner</td>\n",
       "      <td>Vegetarian Friendly, Gluten Free Options</td>\n",
       "      <td>yEU_https://maps.google.com/maps?saddr=&amp;daddr=...</td>\n",
       "      <td>lucca</td>\n",
       "      <td>/Restaurant_Review-g194814-d12843022-Reviews-A...</td>\n",
       "      <td>0</td>\n",
       "      <td>NaN</td>\n",
       "    </tr>\n",
       "    <tr>\n",
       "      <th>2</th>\n",
       "      <td>308</td>\n",
       "      <td>El Artista Ristorante Argentino</td>\n",
       "      <td>Massa</td>\n",
       "      <td>False</td>\n",
       "      <td>/Restaurant_Review-g660766-d17543924-Reviews-E...</td>\n",
       "      <td>4.5</td>\n",
       "      <td>78</td>\n",
       "      <td>2.5</td>\n",
       "      <td>El Artista Ristorante Argentino</td>\n",
       "      <td>massacarrara</td>\n",
       "      <td>...</td>\n",
       "      <td>44.041000</td>\n",
       "      <td>10.124396</td>\n",
       "      <td>Barbecue, Argentinean, Steakhouse</td>\n",
       "      <td>Dinner, Lunch</td>\n",
       "      <td>NaN</td>\n",
       "      <td>U0P_https://maps.google.com/maps?saddr=&amp;daddr=...</td>\n",
       "      <td>lucca</td>\n",
       "      <td>/Restaurant_Review-g660766-d17543924-Reviews-E...</td>\n",
       "      <td>0</td>\n",
       "      <td>NaN</td>\n",
       "    </tr>\n",
       "    <tr>\n",
       "      <th>3</th>\n",
       "      <td>1285</td>\n",
       "      <td>La Locanda di Bivigliano</td>\n",
       "      <td>Bivigliano</td>\n",
       "      <td>False</td>\n",
       "      <td>/Restaurant_Review-g1957776-d13948598-Reviews-...</td>\n",
       "      <td>NaN</td>\n",
       "      <td>28</td>\n",
       "      <td>NaN</td>\n",
       "      <td>La Locanda di Bivigliano</td>\n",
       "      <td>florence</td>\n",
       "      <td>...</td>\n",
       "      <td>43.893859</td>\n",
       "      <td>11.322421</td>\n",
       "      <td>Italian, Mediterranean, Barbecue, Tuscan, Cent...</td>\n",
       "      <td>NaN</td>\n",
       "      <td>Vegetarian Friendly</td>\n",
       "      <td>rg1_https://maps.google.com/maps?saddr=&amp;daddr=...</td>\n",
       "      <td>prato</td>\n",
       "      <td>/Restaurant_Review-g1957776-d13948598-Reviews-...</td>\n",
       "      <td>0</td>\n",
       "      <td>NaN</td>\n",
       "    </tr>\n",
       "    <tr>\n",
       "      <th>4</th>\n",
       "      <td>1499</td>\n",
       "      <td>Beach Bar @PuntAla</td>\n",
       "      <td>Punta Ala</td>\n",
       "      <td>False</td>\n",
       "      <td>/Restaurant_Review-g194871-d19315573-Reviews-B...</td>\n",
       "      <td>2.5</td>\n",
       "      <td>2</td>\n",
       "      <td>1.0</td>\n",
       "      <td>Beach Bar @PuntAla</td>\n",
       "      <td>grosseto</td>\n",
       "      <td>...</td>\n",
       "      <td>42.841410</td>\n",
       "      <td>10.775602</td>\n",
       "      <td>Italian, Mediterranean</td>\n",
       "      <td>Lunch, Brunch, Drinks</td>\n",
       "      <td>NaN</td>\n",
       "      <td>32Q_https://maps.google.com/maps?saddr=&amp;daddr=...</td>\n",
       "      <td>grosseto</td>\n",
       "      <td>/Restaurant_Review-g194871-d19315573-Reviews-B...</td>\n",
       "      <td>1</td>\n",
       "      <td>NaN</td>\n",
       "    </tr>\n",
       "  </tbody>\n",
       "</table>\n",
       "<p>5 rows × 24 columns</p>\n",
       "</div>"
      ],
      "text/plain": [
       "   position                             name             city   menu  \\\n",
       "0      2018                 Osteria al Borgo            Lucca  False   \n",
       "1       551                     Acino Bianco  Marina di Massa  False   \n",
       "2       308  El Artista Ristorante Argentino            Massa  False   \n",
       "3      1285         La Locanda di Bivigliano       Bivigliano  False   \n",
       "4      1499               Beach Bar @PuntAla        Punta Ala  False   \n",
       "\n",
       "                                                link  score  N_reviews  price  \\\n",
       "0  /Restaurant_Review-g187898-d23137800-Reviews-O...    5.0          6    NaN   \n",
       "1  /Restaurant_Review-g194814-d12843022-Reviews-A...    4.5         92    2.5   \n",
       "2  /Restaurant_Review-g660766-d17543924-Reviews-E...    4.5         78    2.5   \n",
       "3  /Restaurant_Review-g1957776-d13948598-Reviews-...    NaN         28    NaN   \n",
       "4  /Restaurant_Review-g194871-d19315573-Reviews-B...    2.5          2    1.0   \n",
       "\n",
       "                              Name      Province  ...   latitude  longitude  \\\n",
       "0                 Osteria al Borgo         lucca  ...  43.851808  10.506207   \n",
       "1                     Acino Bianco  massacarrara  ...  44.004616  10.115488   \n",
       "2  El Artista Ristorante Argentino  massacarrara  ...  44.041000  10.124396   \n",
       "3         La Locanda di Bivigliano      florence  ...  43.893859  11.322421   \n",
       "4               Beach Bar @PuntAla      grosseto  ...  42.841410  10.775602   \n",
       "\n",
       "                                            cuisines                  meals  \\\n",
       "0                     Pizza, Tuscan, Central-Italian                    NaN   \n",
       "1                                            Italian                 Dinner   \n",
       "2                  Barbecue, Argentinean, Steakhouse          Dinner, Lunch   \n",
       "3  Italian, Mediterranean, Barbecue, Tuscan, Cent...                    NaN   \n",
       "4                             Italian, Mediterranean  Lunch, Brunch, Drinks   \n",
       "\n",
       "                                        specialDiets  \\\n",
       "0  Vegetarian Friendly, Vegan Options, Gluten Fre...   \n",
       "1           Vegetarian Friendly, Gluten Free Options   \n",
       "2                                                NaN   \n",
       "3                                Vegetarian Friendly   \n",
       "4                                                NaN   \n",
       "\n",
       "                                        positionlink  province  \\\n",
       "0  j39_https://maps.google.com/maps?saddr=&daddr=...      pisa   \n",
       "1  yEU_https://maps.google.com/maps?saddr=&daddr=...     lucca   \n",
       "2  U0P_https://maps.google.com/maps?saddr=&daddr=...     lucca   \n",
       "3  rg1_https://maps.google.com/maps?saddr=&daddr=...     prato   \n",
       "4  32Q_https://maps.google.com/maps?saddr=&daddr=...  grosseto   \n",
       "\n",
       "                                                Link provinceOK longitud§e  \n",
       "0  /Restaurant_Review-g187898-d23137800-Reviews-O...          0  10.495633  \n",
       "1  /Restaurant_Review-g194814-d12843022-Reviews-A...          0        NaN  \n",
       "2  /Restaurant_Review-g660766-d17543924-Reviews-E...          0        NaN  \n",
       "3  /Restaurant_Review-g1957776-d13948598-Reviews-...          0        NaN  \n",
       "4  /Restaurant_Review-g194871-d19315573-Reviews-B...          1        NaN  \n",
       "\n",
       "[5 rows x 24 columns]"
      ]
     },
     "execution_count": 5,
     "metadata": {},
     "output_type": "execute_result"
    }
   ],
   "source": [
    "df = pd.read_csv('../data/raw/geotuscany.csv', index_col=0)\n",
    "df.head()"
   ]
  },
  {
   "cell_type": "code",
   "execution_count": 9,
   "id": "dd4bd908",
   "metadata": {},
   "outputs": [
    {
     "data": {
      "text/plain": [
       "position                0\n",
       "name                    0\n",
       "city                    2\n",
       "menu                    0\n",
       "link                    0\n",
       "score                 545\n",
       "N_reviews               0\n",
       "price                3041\n",
       "Name                    0\n",
       "Province                0\n",
       "City                    0\n",
       "claimed                 0\n",
       "covidMeasure            0\n",
       "travellersChoice        0\n",
       "latitude                4\n",
       "longitude               4\n",
       "cuisines             1411\n",
       "meals                6664\n",
       "specialDiets         8762\n",
       "positionlink            4\n",
       "province                0\n",
       "Link                 1839\n",
       "provinceOK              0\n",
       "longitud§e          15064\n",
       "dtype: int64"
      ]
     },
     "execution_count": 9,
     "metadata": {},
     "output_type": "execute_result"
    }
   ],
   "source": [
    "df.isnull().sum()"
   ]
  },
  {
   "cell_type": "code",
   "execution_count": 7,
   "id": "5f26bb6f",
   "metadata": {},
   "outputs": [
    {
     "name": "stdout",
     "output_type": "stream",
     "text": [
      "[3, 1450, 618, 1385, 413, 12970, 4]\n",
      "[3, 2429, 2016, 446, 2364, 2529, 2238, 2230, 1739, 13764, 13861, 13820, 13835, 12970, 4]\n",
      "[3, 1450, 2285, 1832, 999, 12970, 4]\n"
     ]
    }
   ],
   "source": [
    "print(nx.dijkstra_path(G,3,4))\n",
    "print(nx.dijkstra_path(G,3,4,weight = 'geodistance'))\n",
    "print(nx.dijkstra_path(G,3,4,weight = 'days'))"
   ]
  },
  {
   "cell_type": "code",
   "execution_count": 8,
   "id": "82e41b76",
   "metadata": {},
   "outputs": [],
   "source": [
    "o = nx.dijkstra_predecessor_and_distance(G,3, weight=\"days\")"
   ]
  },
  {
   "cell_type": "markdown",
   "id": "d709dfce",
   "metadata": {},
   "source": [
    "# Time Respecting Path "
   ]
  },
  {
   "cell_type": "code",
   "execution_count": 6,
   "id": "40852b63",
   "metadata": {},
   "outputs": [],
   "source": [
    "from heapq import heappop, heappush"
   ]
  },
  {
   "cell_type": "code",
   "execution_count": 7,
   "id": "807f8199",
   "metadata": {},
   "outputs": [],
   "source": [
    "def single_source_time_respecting_paths(g,source,weights=None):\n",
    "    \n",
    "    def mintime(g, u, v, date = 0):\n",
    "        k = 0\n",
    "        mink = 0\n",
    "        minimal = float('inf') \n",
    "        while True: \n",
    "            try :\n",
    "                end = g.edges[(u,v,k)]['end']\n",
    "                start = g.edges[(u,v,k)]['start']\n",
    "            except: break\n",
    "            if start >= date and end < minimal: \n",
    "                minimal = end \n",
    "                mink = k \n",
    "                \n",
    "            k += 1\n",
    "    \n",
    "        return minimal, mink\n",
    "\n",
    "    \n",
    "    dist = dict()\n",
    "    Q = list()\n",
    "    \n",
    "    heappush(Q, source)\n",
    " \n",
    "    # set initial distance from the source to `v` as INFINITY\n",
    "    dist = {node : float('inf') for node in g.nodes}\n",
    "    dist[source] = 0\n",
    "    \n",
    "    time = {node : 0 for node in g.nodes}\n",
    "    time[source] = 0\n",
    "    \n",
    "    prev = {node : -1 for node in g.nodes}\n",
    "    index = {source: 0}\n",
    "    done = {node : False for node in g.nodes}\n",
    "    done[source] = True\n",
    "    \n",
    "    \n",
    "    \n",
    "    while Q:\n",
    " \n",
    "        u = heappop(Q)      # Remove and return the best vertex\n",
    "        \n",
    " \n",
    "        # do for each neighbor `v` of `u`\n",
    "        for v in g.neighbors(u):\n",
    "            \n",
    "            firstvisit, firstk = mintime(g,u,v, date = time[u])\n",
    "            \n",
    "            # Relaxation step \n",
    "            if firstvisit == float('inf'): continue\n",
    "                \n",
    "            if weights ==None :weight = 1\n",
    "            else: weight = g.edges[(u,v,firstk)][weights]\n",
    "            \n",
    "            if not done[v] and (dist[u] + weight) < dist[v]:\n",
    "                \n",
    "                dist[v] = dist[u] + weight\n",
    "                prev[v] = u\n",
    "                time[v] = firstvisit\n",
    "                index[v] = firstk\n",
    "                heappush(Q, v)\n",
    " \n",
    "        # mark vertex `u` as done so it will not get picked up again\n",
    "        done[u] = True\n",
    "        \n",
    "        \n",
    "    def get_route(prev, time, index, i, route):\n",
    "        if i >= 0:\n",
    "            get_route(prev, time, index, prev[i], route)\n",
    "            route.append((i,index[i],time[i]))    \n",
    "        \n",
    "    route = list()\n",
    "    routes = dict()\n",
    "    for i in g.nodes:\n",
    "        if i != source and dist[i] <float('inf'):\n",
    "            get_route(prev, time, index, i, route)\n",
    "            routes[(source,i)] = route.copy()\n",
    "            #print(f\"Path ({source} —> {i}): Minimum cost = {dist[i]}, Route = {route}\")\n",
    "            route.clear()\n",
    "            \n",
    "    return routes"
   ]
  },
  {
   "cell_type": "code",
   "execution_count": 12,
   "id": "abb08cf5",
   "metadata": {},
   "outputs": [],
   "source": [
    "r = single_source_time_respecting_paths(G,0)"
   ]
  },
  {
   "cell_type": "code",
   "execution_count": 8,
   "id": "590df195",
   "metadata": {},
   "outputs": [],
   "source": [
    "def all_time_respecting_paths(g,weights=None):\n",
    "    all_routes = dict()\n",
    "    for node in tqdm.tqdm(g.nodes):\n",
    "        all_routes.update(single_source_time_respecting_paths(g,node,weights))\n",
    "    \n",
    "    return all_routes\n"
   ]
  },
  {
   "cell_type": "markdown",
   "id": "ef822eca",
   "metadata": {},
   "source": [
    "#### SHORTEST PATHS"
   ]
  },
  {
   "cell_type": "code",
   "execution_count": 15,
   "id": "f7e0e469",
   "metadata": {},
   "outputs": [
    {
     "name": "stderr",
     "output_type": "stream",
     "text": [
      "100%|████████████████████████████████████████████████████████████████████████████| 9107/9107 [1:27:22<00:00,  1.74it/s]\n"
     ]
    }
   ],
   "source": [
    "routes = all_time_respecting_paths(G)"
   ]
  },
  {
   "cell_type": "code",
   "execution_count": 16,
   "id": "2884927a",
   "metadata": {},
   "outputs": [],
   "source": [
    "\n",
    "with open('../data/clean/allpaths.PICKLE','wb') as f:\n",
    "    pickle.dump(routes,f)\n",
    "    \n",
    "        "
   ]
  },
  {
   "cell_type": "code",
   "execution_count": 117,
   "id": "f86ee330",
   "metadata": {},
   "outputs": [],
   "source": [
    "\n",
    "with open('../data/clean/allpaths.PICKLE','rb') as f:\n",
    "    routes = pickle.load(f)\n",
    "    \n",
    "        "
   ]
  },
  {
   "cell_type": "code",
   "execution_count": 81,
   "id": "6daa9c38",
   "metadata": {},
   "outputs": [
    {
     "name": "stderr",
     "output_type": "stream",
     "text": [
      "100%|██████████████████████████████████████████████████████████████████| 22791375/22791375 [02:47<00:00, 136285.75it/s]\n"
     ]
    }
   ],
   "source": [
    "longestRoutes = list()\n",
    "maxLength = 0\n",
    "fastestRoutes = list()\n",
    "maxVelocity = 0\n",
    "\n",
    "for i, route in tqdm.tqdm(routes.items()) :\n",
    "    \n",
    "    length = len(route)\n",
    "    \n",
    "    j,k,_ = route[1]\n",
    "    \n",
    "    start = G.edges[(i[0],j,k)]['start']\n",
    "    end = route[-1][-1]\n",
    "    timeElapsed = end-start+1\n",
    "    velocity = length / timeElapsed\n",
    "    \n",
    "    if velocity > maxVelocity:\n",
    "        maxVelocity = velocity \n",
    "        fastestRoutes = [i]\n",
    "        \n",
    "    elif velocity == maxVelocity:\n",
    "        fastestRoutes.append(i)\n",
    "    \n",
    "    \n",
    "    if length > maxLength:\n",
    "        maxLength = length \n",
    "        longestRoutes = [i]\n",
    "        \n",
    "    elif length == maxLength:\n",
    "        longestRoutes.append(i)\n",
    "    \n",
    "    "
   ]
  },
  {
   "cell_type": "code",
   "execution_count": 87,
   "id": "554c43bf",
   "metadata": {},
   "outputs": [
    {
     "name": "stdout",
     "output_type": "stream",
     "text": [
      "45 [(921, 6896), (4189, 6896), (3807, 6896), (4411, 6896)] \n",
      " 6.0 [(141, 14695), (10762, 10141), (10442, 13645)]\n"
     ]
    }
   ],
   "source": [
    "print(maxLength, longestRoutes,'\\n',maxVelocity,fastestRoutes)"
   ]
  },
  {
   "cell_type": "code",
   "execution_count": 88,
   "id": "9b916dae",
   "metadata": {},
   "outputs": [
    {
     "name": "stdout",
     "output_type": "stream",
     "text": [
      "Pizzeria Il Corso\n",
      "DA Gastone\n",
      "Il Ristoro Da Lisa\n",
      "La Vecchia Hosteria\n",
      "Oltre il Gusto\n",
      "Il Beccofino\n",
      "Zero Distanze\n",
      "La Terrazza Bistrot\n",
      "Skipper Beach Club\n",
      "MUN sushi lab\n",
      "Mister Pizza\n",
      "Osteria Vecchio Cancello\n",
      "Mattacena\n",
      "LA GROTTA TOSCANA (EX LA REPUBBLICA)\n",
      "Belfiore\n",
      "Godo\n",
      "Caffe Salvemini\n",
      "Caffetteria Piansa\n",
      "Cafe Badia\n",
      "Bar Beyfin - by Gianno\n",
      "D Osteria Moderna\n",
      "Panineria I 5 Sensi\n",
      "Friggio Pontassieve\n",
      "Otto bistro & pizza\n",
      "I Francescani\n",
      "Arnolds fiaschetteria\n",
      "Deliburger Firenze Sud\n",
      "Bistro Gran Caffe Pinseria\n",
      "La Bottega Del Caffe\n",
      "Trattoria I' Pepolino\n",
      "Hibiki-an\n",
      "Fast Mood\n",
      "L'originale Fornetto di Rufina\n",
      "Runner Pizza\n",
      "Yin Xiang\n",
      "La Bottega Di Gabri\n",
      "Pasticceria Maioli\n",
      "Bar Sport\n",
      "Mozzarella e Basilico\n",
      "Pizza Taxi\n",
      "Royal Bar\n",
      "Caffe Giannotti\n",
      "Ristorante Giapponese Kikawa\n",
      "Giglio Pizza\n",
      "Bar Tre Enne\n",
      "\n",
      "Ristorante Abramo\n",
      "Ristorante Villa Brignole\n",
      "Pescetarian\n",
      "Pizzeria O'Vesuvio\n",
      "Oscar\n",
      "Il Peperoncino\n",
      "Il Canguro\n",
      "Osteria Il Sigillo\n",
      "Da'vi'\n",
      "La Tortuga\n",
      "Il Ritrovino\n",
      "Merenderia Riserva Naturale\n",
      "Bagno Laura - Bistrot di Mare e Beach Bar\n",
      "Gli Attortellati\n",
      "Da Maurizio\n",
      "Godo\n",
      "Caffe Salvemini\n",
      "Caffetteria Piansa\n",
      "Cafe Badia\n",
      "Bar Beyfin - by Gianno\n",
      "D Osteria Moderna\n",
      "Panineria I 5 Sensi\n",
      "Friggio Pontassieve\n",
      "Otto bistro & pizza\n",
      "I Francescani\n",
      "Arnolds fiaschetteria\n",
      "Deliburger Firenze Sud\n",
      "Bistro Gran Caffe Pinseria\n",
      "La Bottega Del Caffe\n",
      "Trattoria I' Pepolino\n",
      "Hibiki-an\n",
      "Fast Mood\n",
      "L'originale Fornetto di Rufina\n",
      "Runner Pizza\n",
      "Yin Xiang\n",
      "La Bottega Di Gabri\n",
      "Pasticceria Maioli\n",
      "Bar Sport\n",
      "Mozzarella e Basilico\n",
      "Pizza Taxi\n",
      "Royal Bar\n",
      "Caffe Giannotti\n",
      "Ristorante Giapponese Kikawa\n",
      "Giglio Pizza\n",
      "Bar Tre Enne\n",
      "\n",
      "Rosticceria Mordi E Fuggi\n",
      "Ristorante Villa Brignole\n",
      "Pescetarian\n",
      "Pizzeria O'Vesuvio\n",
      "Oscar\n",
      "Il Peperoncino\n",
      "Il Canguro\n",
      "Osteria Il Sigillo\n",
      "Da'vi'\n",
      "La Tortuga\n",
      "Il Ritrovino\n",
      "Merenderia Riserva Naturale\n",
      "Bagno Laura - Bistrot di Mare e Beach Bar\n",
      "Gli Attortellati\n",
      "Da Maurizio\n",
      "Godo\n",
      "Caffe Salvemini\n",
      "Caffetteria Piansa\n",
      "Cafe Badia\n",
      "Bar Beyfin - by Gianno\n",
      "D Osteria Moderna\n",
      "Panineria I 5 Sensi\n",
      "Friggio Pontassieve\n",
      "Otto bistro & pizza\n",
      "I Francescani\n",
      "Arnolds fiaschetteria\n",
      "Deliburger Firenze Sud\n",
      "Bistro Gran Caffe Pinseria\n",
      "La Bottega Del Caffe\n",
      "Trattoria I' Pepolino\n",
      "Hibiki-an\n",
      "Fast Mood\n",
      "L'originale Fornetto di Rufina\n",
      "Runner Pizza\n",
      "Yin Xiang\n",
      "La Bottega Di Gabri\n",
      "Pasticceria Maioli\n",
      "Bar Sport\n",
      "Mozzarella e Basilico\n",
      "Pizza Taxi\n",
      "Royal Bar\n",
      "Caffe Giannotti\n",
      "Ristorante Giapponese Kikawa\n",
      "Giglio Pizza\n",
      "Bar Tre Enne\n",
      "\n",
      "Icaro's Pizzeria Lounge Bar\n",
      "Ristorante Villa Brignole\n",
      "Pescetarian\n",
      "Pizzeria O'Vesuvio\n",
      "Oscar\n",
      "Il Peperoncino\n",
      "Il Canguro\n",
      "Osteria Il Sigillo\n",
      "Da'vi'\n",
      "La Tortuga\n",
      "Il Ritrovino\n",
      "Merenderia Riserva Naturale\n",
      "Bagno Laura - Bistrot di Mare e Beach Bar\n",
      "Gli Attortellati\n",
      "Da Maurizio\n",
      "Godo\n",
      "Caffe Salvemini\n",
      "Caffetteria Piansa\n",
      "Cafe Badia\n",
      "Bar Beyfin - by Gianno\n",
      "D Osteria Moderna\n",
      "Panineria I 5 Sensi\n",
      "Friggio Pontassieve\n",
      "Otto bistro & pizza\n",
      "I Francescani\n",
      "Arnolds fiaschetteria\n",
      "Deliburger Firenze Sud\n",
      "Bistro Gran Caffe Pinseria\n",
      "La Bottega Del Caffe\n",
      "Trattoria I' Pepolino\n",
      "Hibiki-an\n",
      "Fast Mood\n",
      "L'originale Fornetto di Rufina\n",
      "Runner Pizza\n",
      "Yin Xiang\n",
      "La Bottega Di Gabri\n",
      "Pasticceria Maioli\n",
      "Bar Sport\n",
      "Mozzarella e Basilico\n",
      "Pizza Taxi\n",
      "Royal Bar\n",
      "Caffe Giannotti\n",
      "Ristorante Giapponese Kikawa\n",
      "Giglio Pizza\n",
      "Bar Tre Enne\n",
      "\n"
     ]
    }
   ],
   "source": [
    "for route in  longestRoutes: \n",
    "    for i,j,k in routes[route]: print(df.loc[i,'name'],k)\n",
    "    print()"
   ]
  },
  {
   "cell_type": "code",
   "execution_count": 92,
   "id": "b3dbc146",
   "metadata": {},
   "outputs": [
    {
     "name": "stdout",
     "output_type": "stream",
     "text": [
      "Il Cantuccio 0\n",
      "Osteria La Torre di Populonia 160\n",
      "La Baracchina 160\n",
      "Osteria del Faro 160\n",
      "Il Cedrino 160\n",
      "Osteria del Bastian Contrario 160\n",
      "\n",
      "Umami 0\n",
      "La Lucciola 182\n",
      "Ristorante Bar Maitu 182\n",
      "Osteria dei Quattro Rioni 182\n",
      "Kontiki 182\n",
      "La Rustica 182\n",
      "\n",
      "Ristorante dell'Azienda Agricola Sapereta 0\n",
      "Ristorante Bar Maitu 182\n",
      "Osteria dei Quattro Rioni 182\n",
      "Osteria Pepenero 182\n",
      "Gabbiano 3.0 182\n",
      "Da Grazia 182\n",
      "\n"
     ]
    }
   ],
   "source": [
    "for route in  fastestRoutes: \n",
    "    for i,j,k in routes[route]: print(df.loc[i,'name'],k)\n",
    "        \n",
    "    print()"
   ]
  },
  {
   "cell_type": "code",
   "execution_count": 91,
   "id": "d831e734",
   "metadata": {},
   "outputs": [
    {
     "data": {
      "text/plain": [
       "[(1886, 0, 0), (11883, 0, 244)]"
      ]
     },
     "execution_count": 91,
     "metadata": {},
     "output_type": "execute_result"
    }
   ],
   "source": [
    " routes[(1886, 11883)]"
   ]
  },
  {
   "cell_type": "code",
   "execution_count": 21,
   "id": "9eca25f4",
   "metadata": {},
   "outputs": [
    {
     "data": {
      "text/plain": [
       "False"
      ]
     },
     "execution_count": 21,
     "metadata": {},
     "output_type": "execute_result"
    }
   ],
   "source": [
    "float('inf') > float('inf')\n"
   ]
  },
  {
   "cell_type": "markdown",
   "id": "be8522f3",
   "metadata": {},
   "source": [
    "#### SHORTEST GEODISTANCE PATHS"
   ]
  },
  {
   "cell_type": "code",
   "execution_count": 9,
   "id": "53fec0d2",
   "metadata": {},
   "outputs": [],
   "source": [
    "def geoDistance(df,u,v):\n",
    "    \n",
    "    xi, yi = df.loc[u,['longitude','latitude']]\n",
    "    xj, yj = df.loc[v,['longitude','latitude']]\n",
    "    return ((xj-xi)**2 + (yj-yi)**2)**0.5"
   ]
  },
  {
   "cell_type": "code",
   "execution_count": 10,
   "id": "25d25f91",
   "metadata": {},
   "outputs": [],
   "source": [
    "def geolen(g,path):\n",
    "    dist = 0 \n",
    "    for i,u in enumerate(path):\n",
    "        if u != path[-1]:\n",
    "            v,k,t = path[i+1]\n",
    "            dist += g.edges[(u[0],v,k)]['geodistance']\n",
    "        \n",
    "    return dist\n"
   ]
  },
  {
   "cell_type": "code",
   "execution_count": 9,
   "id": "50caee16",
   "metadata": {},
   "outputs": [
    {
     "name": "stderr",
     "output_type": "stream",
     "text": [
      "100%|██████████████████████████████████████████████████████████████████████████████| 9107/9107 [46:24<00:00,  3.27it/s]\n"
     ]
    }
   ],
   "source": [
    "georoutes = all_time_respecting_paths(G,weights='geodistance')"
   ]
  },
  {
   "cell_type": "code",
   "execution_count": 10,
   "id": "dab05117",
   "metadata": {},
   "outputs": [],
   "source": [
    "\n",
    "with open('../data/clean/allpathsGeo.PICKLE','wb') as f:\n",
    "    pickle.dump(georoutes,f)\n",
    "    "
   ]
  },
  {
   "cell_type": "code",
   "execution_count": 11,
   "id": "d29f0cb0",
   "metadata": {},
   "outputs": [],
   "source": [
    "import pickle\n",
    "with open('../data/clean/allpathsGeo.PICKLE','rb') as f:\n",
    "    routes = pickle.load(f)\n",
    "    \n",
    "        "
   ]
  },
  {
   "cell_type": "code",
   "execution_count": 18,
   "id": "56fee9bf",
   "metadata": {},
   "outputs": [
    {
     "name": "stderr",
     "output_type": "stream",
     "text": [
      "100%|███████████████████████████████████████████████████████████████████| 22333895/22333895 [06:04<00:00, 61355.57it/s]\n"
     ]
    }
   ],
   "source": [
    "\n",
    "longestRoutes = list()\n",
    "maxLength = 0\n",
    "fastestRoutes = list()\n",
    "maxVelocity = 0\n",
    "\n",
    "shortestRoutes = list()\n",
    "maxShort = 0\n",
    "\n",
    "for i, route in tqdm.tqdm(routes.items()) :\n",
    "    \n",
    "    length = geolen(G,route)\n",
    "    \n",
    "    j,k,_ = route[1]\n",
    " \n",
    "    start = G.edges[(i[0],j,k)]['start']\n",
    "    end = route[-1][-1]\n",
    "    timeElapsed = end-start+1\n",
    "    velocity = length / timeElapsed\n",
    "    \n",
    "    if velocity > maxVelocity:\n",
    "        maxVelocity = velocity \n",
    "        fastestRoutes = [i]\n",
    "        \n",
    "    elif velocity == maxVelocity:\n",
    "        fastestRoutes.append(i)\n",
    "    \n",
    "    \n",
    "    if length > maxLength:\n",
    "        maxLength = length \n",
    "        longestRoutes = [i]\n",
    "        \n",
    "    elif length == maxLength:\n",
    "        longestRoutes.append(i)\n",
    "        \n",
    "  "
   ]
  },
  {
   "cell_type": "code",
   "execution_count": 13,
   "id": "37e59893",
   "metadata": {},
   "outputs": [
    {
     "name": "stderr",
     "output_type": "stream",
     "text": [
      "  0%|▎                                                                    | 85803/22333895 [00:51<3:43:38, 1658.04it/s]\n"
     ]
    },
    {
     "ename": "KeyboardInterrupt",
     "evalue": "",
     "output_type": "error",
     "traceback": [
      "\u001b[1;31m---------------------------------------------------------------------------\u001b[0m",
      "\u001b[1;31mKeyboardInterrupt\u001b[0m                         Traceback (most recent call last)",
      "\u001b[1;32m<ipython-input-13-b2caf4a121cc>\u001b[0m in \u001b[0;36m<module>\u001b[1;34m\u001b[0m\n\u001b[0;32m     12\u001b[0m \u001b[1;33m\u001b[0m\u001b[0m\n\u001b[0;32m     13\u001b[0m     \u001b[0mj\u001b[0m\u001b[1;33m,\u001b[0m\u001b[0mk\u001b[0m\u001b[1;33m,\u001b[0m\u001b[0m_\u001b[0m \u001b[1;33m=\u001b[0m \u001b[0mroute\u001b[0m\u001b[1;33m[\u001b[0m\u001b[1;36m1\u001b[0m\u001b[1;33m]\u001b[0m\u001b[1;33m\u001b[0m\u001b[1;33m\u001b[0m\u001b[0m\n\u001b[1;32m---> 14\u001b[1;33m     \u001b[0mdistance\u001b[0m \u001b[1;33m=\u001b[0m \u001b[0mgeoDistance\u001b[0m\u001b[1;33m(\u001b[0m\u001b[0mdf\u001b[0m\u001b[1;33m,\u001b[0m\u001b[0mroute\u001b[0m\u001b[1;33m[\u001b[0m\u001b[1;36m0\u001b[0m\u001b[1;33m]\u001b[0m\u001b[1;33m[\u001b[0m\u001b[1;36m0\u001b[0m\u001b[1;33m]\u001b[0m\u001b[1;33m,\u001b[0m\u001b[0mroute\u001b[0m\u001b[1;33m[\u001b[0m\u001b[1;33m-\u001b[0m\u001b[1;36m1\u001b[0m\u001b[1;33m]\u001b[0m\u001b[1;33m[\u001b[0m\u001b[1;36m0\u001b[0m\u001b[1;33m]\u001b[0m\u001b[1;33m)\u001b[0m\u001b[1;33m\u001b[0m\u001b[1;33m\u001b[0m\u001b[0m\n\u001b[0m\u001b[0;32m     15\u001b[0m     \u001b[0mshort\u001b[0m \u001b[1;33m=\u001b[0m \u001b[0mdistance\u001b[0m \u001b[1;33m/\u001b[0m \u001b[0mlength\u001b[0m\u001b[1;33m\u001b[0m\u001b[1;33m\u001b[0m\u001b[0m\n\u001b[0;32m     16\u001b[0m \u001b[1;33m\u001b[0m\u001b[0m\n",
      "\u001b[1;32m<ipython-input-9-471a22aa2e4d>\u001b[0m in \u001b[0;36mgeoDistance\u001b[1;34m(df, u, v)\u001b[0m\n\u001b[0;32m      1\u001b[0m \u001b[1;32mdef\u001b[0m \u001b[0mgeoDistance\u001b[0m\u001b[1;33m(\u001b[0m\u001b[0mdf\u001b[0m\u001b[1;33m,\u001b[0m\u001b[0mu\u001b[0m\u001b[1;33m,\u001b[0m\u001b[0mv\u001b[0m\u001b[1;33m)\u001b[0m\u001b[1;33m:\u001b[0m\u001b[1;33m\u001b[0m\u001b[1;33m\u001b[0m\u001b[0m\n\u001b[0;32m      2\u001b[0m \u001b[1;33m\u001b[0m\u001b[0m\n\u001b[1;32m----> 3\u001b[1;33m     \u001b[0mxi\u001b[0m\u001b[1;33m,\u001b[0m \u001b[0myi\u001b[0m \u001b[1;33m=\u001b[0m \u001b[0mdf\u001b[0m\u001b[1;33m.\u001b[0m\u001b[0mloc\u001b[0m\u001b[1;33m[\u001b[0m\u001b[0mu\u001b[0m\u001b[1;33m,\u001b[0m\u001b[1;33m[\u001b[0m\u001b[1;34m'longitude'\u001b[0m\u001b[1;33m,\u001b[0m\u001b[1;34m'latitude'\u001b[0m\u001b[1;33m]\u001b[0m\u001b[1;33m]\u001b[0m\u001b[1;33m\u001b[0m\u001b[1;33m\u001b[0m\u001b[0m\n\u001b[0m\u001b[0;32m      4\u001b[0m     \u001b[0mxj\u001b[0m\u001b[1;33m,\u001b[0m \u001b[0myj\u001b[0m \u001b[1;33m=\u001b[0m \u001b[0mdf\u001b[0m\u001b[1;33m.\u001b[0m\u001b[0mloc\u001b[0m\u001b[1;33m[\u001b[0m\u001b[0mv\u001b[0m\u001b[1;33m,\u001b[0m\u001b[1;33m[\u001b[0m\u001b[1;34m'longitude'\u001b[0m\u001b[1;33m,\u001b[0m\u001b[1;34m'latitude'\u001b[0m\u001b[1;33m]\u001b[0m\u001b[1;33m]\u001b[0m\u001b[1;33m\u001b[0m\u001b[1;33m\u001b[0m\u001b[0m\n\u001b[0;32m      5\u001b[0m     \u001b[1;32mreturn\u001b[0m \u001b[1;33m(\u001b[0m\u001b[1;33m(\u001b[0m\u001b[0mxj\u001b[0m\u001b[1;33m-\u001b[0m\u001b[0mxi\u001b[0m\u001b[1;33m)\u001b[0m\u001b[1;33m**\u001b[0m\u001b[1;36m2\u001b[0m \u001b[1;33m+\u001b[0m \u001b[1;33m(\u001b[0m\u001b[0myj\u001b[0m\u001b[1;33m-\u001b[0m\u001b[0myi\u001b[0m\u001b[1;33m)\u001b[0m\u001b[1;33m**\u001b[0m\u001b[1;36m2\u001b[0m\u001b[1;33m)\u001b[0m\u001b[1;33m**\u001b[0m\u001b[1;36m0.5\u001b[0m\u001b[1;33m\u001b[0m\u001b[1;33m\u001b[0m\u001b[0m\n",
      "\u001b[1;32m~\\anaconda3\\lib\\site-packages\\pandas\\core\\indexing.py\u001b[0m in \u001b[0;36m__getitem__\u001b[1;34m(self, key)\u001b[0m\n\u001b[0;32m    887\u001b[0m                     \u001b[1;31m# AttributeError for IntervalTree get_value\u001b[0m\u001b[1;33m\u001b[0m\u001b[1;33m\u001b[0m\u001b[1;33m\u001b[0m\u001b[0m\n\u001b[0;32m    888\u001b[0m                     \u001b[1;32mreturn\u001b[0m \u001b[0mself\u001b[0m\u001b[1;33m.\u001b[0m\u001b[0mobj\u001b[0m\u001b[1;33m.\u001b[0m\u001b[0m_get_value\u001b[0m\u001b[1;33m(\u001b[0m\u001b[1;33m*\u001b[0m\u001b[0mkey\u001b[0m\u001b[1;33m,\u001b[0m \u001b[0mtakeable\u001b[0m\u001b[1;33m=\u001b[0m\u001b[0mself\u001b[0m\u001b[1;33m.\u001b[0m\u001b[0m_takeable\u001b[0m\u001b[1;33m)\u001b[0m\u001b[1;33m\u001b[0m\u001b[1;33m\u001b[0m\u001b[0m\n\u001b[1;32m--> 889\u001b[1;33m             \u001b[1;32mreturn\u001b[0m \u001b[0mself\u001b[0m\u001b[1;33m.\u001b[0m\u001b[0m_getitem_tuple\u001b[0m\u001b[1;33m(\u001b[0m\u001b[0mkey\u001b[0m\u001b[1;33m)\u001b[0m\u001b[1;33m\u001b[0m\u001b[1;33m\u001b[0m\u001b[0m\n\u001b[0m\u001b[0;32m    890\u001b[0m         \u001b[1;32melse\u001b[0m\u001b[1;33m:\u001b[0m\u001b[1;33m\u001b[0m\u001b[1;33m\u001b[0m\u001b[0m\n\u001b[0;32m    891\u001b[0m             \u001b[1;31m# we by definition only have the 0th axis\u001b[0m\u001b[1;33m\u001b[0m\u001b[1;33m\u001b[0m\u001b[1;33m\u001b[0m\u001b[0m\n",
      "\u001b[1;32m~\\anaconda3\\lib\\site-packages\\pandas\\core\\indexing.py\u001b[0m in \u001b[0;36m_getitem_tuple\u001b[1;34m(self, tup)\u001b[0m\n\u001b[0;32m   1058\u001b[0m     \u001b[1;32mdef\u001b[0m \u001b[0m_getitem_tuple\u001b[0m\u001b[1;33m(\u001b[0m\u001b[0mself\u001b[0m\u001b[1;33m,\u001b[0m \u001b[0mtup\u001b[0m\u001b[1;33m:\u001b[0m \u001b[0mTuple\u001b[0m\u001b[1;33m)\u001b[0m\u001b[1;33m:\u001b[0m\u001b[1;33m\u001b[0m\u001b[1;33m\u001b[0m\u001b[0m\n\u001b[0;32m   1059\u001b[0m         \u001b[1;32mwith\u001b[0m \u001b[0msuppress\u001b[0m\u001b[1;33m(\u001b[0m\u001b[0mIndexingError\u001b[0m\u001b[1;33m)\u001b[0m\u001b[1;33m:\u001b[0m\u001b[1;33m\u001b[0m\u001b[1;33m\u001b[0m\u001b[0m\n\u001b[1;32m-> 1060\u001b[1;33m             \u001b[1;32mreturn\u001b[0m \u001b[0mself\u001b[0m\u001b[1;33m.\u001b[0m\u001b[0m_getitem_lowerdim\u001b[0m\u001b[1;33m(\u001b[0m\u001b[0mtup\u001b[0m\u001b[1;33m)\u001b[0m\u001b[1;33m\u001b[0m\u001b[1;33m\u001b[0m\u001b[0m\n\u001b[0m\u001b[0;32m   1061\u001b[0m \u001b[1;33m\u001b[0m\u001b[0m\n\u001b[0;32m   1062\u001b[0m         \u001b[1;31m# no multi-index, so validate all of the indexers\u001b[0m\u001b[1;33m\u001b[0m\u001b[1;33m\u001b[0m\u001b[1;33m\u001b[0m\u001b[0m\n",
      "\u001b[1;32m~\\anaconda3\\lib\\site-packages\\pandas\\core\\indexing.py\u001b[0m in \u001b[0;36m_getitem_lowerdim\u001b[1;34m(self, tup)\u001b[0m\n\u001b[0;32m    829\u001b[0m                     \u001b[1;32mreturn\u001b[0m \u001b[0msection\u001b[0m\u001b[1;33m\u001b[0m\u001b[1;33m\u001b[0m\u001b[0m\n\u001b[0;32m    830\u001b[0m                 \u001b[1;31m# This is an elided recursive call to iloc/loc\u001b[0m\u001b[1;33m\u001b[0m\u001b[1;33m\u001b[0m\u001b[1;33m\u001b[0m\u001b[0m\n\u001b[1;32m--> 831\u001b[1;33m                 \u001b[1;32mreturn\u001b[0m \u001b[0mgetattr\u001b[0m\u001b[1;33m(\u001b[0m\u001b[0msection\u001b[0m\u001b[1;33m,\u001b[0m \u001b[0mself\u001b[0m\u001b[1;33m.\u001b[0m\u001b[0mname\u001b[0m\u001b[1;33m)\u001b[0m\u001b[1;33m[\u001b[0m\u001b[0mnew_key\u001b[0m\u001b[1;33m]\u001b[0m\u001b[1;33m\u001b[0m\u001b[1;33m\u001b[0m\u001b[0m\n\u001b[0m\u001b[0;32m    832\u001b[0m \u001b[1;33m\u001b[0m\u001b[0m\n\u001b[0;32m    833\u001b[0m         \u001b[1;32mraise\u001b[0m \u001b[0mIndexingError\u001b[0m\u001b[1;33m(\u001b[0m\u001b[1;34m\"not applicable\"\u001b[0m\u001b[1;33m)\u001b[0m\u001b[1;33m\u001b[0m\u001b[1;33m\u001b[0m\u001b[0m\n",
      "\u001b[1;32m~\\anaconda3\\lib\\site-packages\\pandas\\core\\indexing.py\u001b[0m in \u001b[0;36m__getitem__\u001b[1;34m(self, key)\u001b[0m\n\u001b[0;32m    893\u001b[0m \u001b[1;33m\u001b[0m\u001b[0m\n\u001b[0;32m    894\u001b[0m             \u001b[0mmaybe_callable\u001b[0m \u001b[1;33m=\u001b[0m \u001b[0mcom\u001b[0m\u001b[1;33m.\u001b[0m\u001b[0mapply_if_callable\u001b[0m\u001b[1;33m(\u001b[0m\u001b[0mkey\u001b[0m\u001b[1;33m,\u001b[0m \u001b[0mself\u001b[0m\u001b[1;33m.\u001b[0m\u001b[0mobj\u001b[0m\u001b[1;33m)\u001b[0m\u001b[1;33m\u001b[0m\u001b[1;33m\u001b[0m\u001b[0m\n\u001b[1;32m--> 895\u001b[1;33m             \u001b[1;32mreturn\u001b[0m \u001b[0mself\u001b[0m\u001b[1;33m.\u001b[0m\u001b[0m_getitem_axis\u001b[0m\u001b[1;33m(\u001b[0m\u001b[0mmaybe_callable\u001b[0m\u001b[1;33m,\u001b[0m \u001b[0maxis\u001b[0m\u001b[1;33m=\u001b[0m\u001b[0maxis\u001b[0m\u001b[1;33m)\u001b[0m\u001b[1;33m\u001b[0m\u001b[1;33m\u001b[0m\u001b[0m\n\u001b[0m\u001b[0;32m    896\u001b[0m \u001b[1;33m\u001b[0m\u001b[0m\n\u001b[0;32m    897\u001b[0m     \u001b[1;32mdef\u001b[0m \u001b[0m_is_scalar_access\u001b[0m\u001b[1;33m(\u001b[0m\u001b[0mself\u001b[0m\u001b[1;33m,\u001b[0m \u001b[0mkey\u001b[0m\u001b[1;33m:\u001b[0m \u001b[0mTuple\u001b[0m\u001b[1;33m)\u001b[0m\u001b[1;33m:\u001b[0m\u001b[1;33m\u001b[0m\u001b[1;33m\u001b[0m\u001b[0m\n",
      "\u001b[1;32m~\\anaconda3\\lib\\site-packages\\pandas\\core\\indexing.py\u001b[0m in \u001b[0;36m_getitem_axis\u001b[1;34m(self, key, axis)\u001b[0m\n\u001b[0;32m   1111\u001b[0m                     \u001b[1;32mraise\u001b[0m \u001b[0mValueError\u001b[0m\u001b[1;33m(\u001b[0m\u001b[1;34m\"Cannot index with multidimensional key\"\u001b[0m\u001b[1;33m)\u001b[0m\u001b[1;33m\u001b[0m\u001b[1;33m\u001b[0m\u001b[0m\n\u001b[0;32m   1112\u001b[0m \u001b[1;33m\u001b[0m\u001b[0m\n\u001b[1;32m-> 1113\u001b[1;33m                 \u001b[1;32mreturn\u001b[0m \u001b[0mself\u001b[0m\u001b[1;33m.\u001b[0m\u001b[0m_getitem_iterable\u001b[0m\u001b[1;33m(\u001b[0m\u001b[0mkey\u001b[0m\u001b[1;33m,\u001b[0m \u001b[0maxis\u001b[0m\u001b[1;33m=\u001b[0m\u001b[0maxis\u001b[0m\u001b[1;33m)\u001b[0m\u001b[1;33m\u001b[0m\u001b[1;33m\u001b[0m\u001b[0m\n\u001b[0m\u001b[0;32m   1114\u001b[0m \u001b[1;33m\u001b[0m\u001b[0m\n\u001b[0;32m   1115\u001b[0m             \u001b[1;31m# nested tuple slicing\u001b[0m\u001b[1;33m\u001b[0m\u001b[1;33m\u001b[0m\u001b[1;33m\u001b[0m\u001b[0m\n",
      "\u001b[1;32m~\\anaconda3\\lib\\site-packages\\pandas\\core\\indexing.py\u001b[0m in \u001b[0;36m_getitem_iterable\u001b[1;34m(self, key, axis)\u001b[0m\n\u001b[0;32m   1051\u001b[0m \u001b[1;33m\u001b[0m\u001b[0m\n\u001b[0;32m   1052\u001b[0m         \u001b[1;31m# A collection of keys\u001b[0m\u001b[1;33m\u001b[0m\u001b[1;33m\u001b[0m\u001b[1;33m\u001b[0m\u001b[0m\n\u001b[1;32m-> 1053\u001b[1;33m         \u001b[0mkeyarr\u001b[0m\u001b[1;33m,\u001b[0m \u001b[0mindexer\u001b[0m \u001b[1;33m=\u001b[0m \u001b[0mself\u001b[0m\u001b[1;33m.\u001b[0m\u001b[0m_get_listlike_indexer\u001b[0m\u001b[1;33m(\u001b[0m\u001b[0mkey\u001b[0m\u001b[1;33m,\u001b[0m \u001b[0maxis\u001b[0m\u001b[1;33m,\u001b[0m \u001b[0mraise_missing\u001b[0m\u001b[1;33m=\u001b[0m\u001b[1;32mFalse\u001b[0m\u001b[1;33m)\u001b[0m\u001b[1;33m\u001b[0m\u001b[1;33m\u001b[0m\u001b[0m\n\u001b[0m\u001b[0;32m   1054\u001b[0m         return self.obj._reindex_with_indexers(\n\u001b[0;32m   1055\u001b[0m             \u001b[1;33m{\u001b[0m\u001b[0maxis\u001b[0m\u001b[1;33m:\u001b[0m \u001b[1;33m[\u001b[0m\u001b[0mkeyarr\u001b[0m\u001b[1;33m,\u001b[0m \u001b[0mindexer\u001b[0m\u001b[1;33m]\u001b[0m\u001b[1;33m}\u001b[0m\u001b[1;33m,\u001b[0m \u001b[0mcopy\u001b[0m\u001b[1;33m=\u001b[0m\u001b[1;32mTrue\u001b[0m\u001b[1;33m,\u001b[0m \u001b[0mallow_dups\u001b[0m\u001b[1;33m=\u001b[0m\u001b[1;32mTrue\u001b[0m\u001b[1;33m\u001b[0m\u001b[1;33m\u001b[0m\u001b[0m\n",
      "\u001b[1;32m~\\anaconda3\\lib\\site-packages\\pandas\\core\\indexing.py\u001b[0m in \u001b[0;36m_get_listlike_indexer\u001b[1;34m(self, key, axis, raise_missing)\u001b[0m\n\u001b[0;32m   1252\u001b[0m         \u001b[1;31m# Have the index compute an indexer or return None\u001b[0m\u001b[1;33m\u001b[0m\u001b[1;33m\u001b[0m\u001b[1;33m\u001b[0m\u001b[0m\n\u001b[0;32m   1253\u001b[0m         \u001b[1;31m# if it cannot handle:\u001b[0m\u001b[1;33m\u001b[0m\u001b[1;33m\u001b[0m\u001b[1;33m\u001b[0m\u001b[0m\n\u001b[1;32m-> 1254\u001b[1;33m         \u001b[0mindexer\u001b[0m\u001b[1;33m,\u001b[0m \u001b[0mkeyarr\u001b[0m \u001b[1;33m=\u001b[0m \u001b[0max\u001b[0m\u001b[1;33m.\u001b[0m\u001b[0m_convert_listlike_indexer\u001b[0m\u001b[1;33m(\u001b[0m\u001b[0mkey\u001b[0m\u001b[1;33m)\u001b[0m\u001b[1;33m\u001b[0m\u001b[1;33m\u001b[0m\u001b[0m\n\u001b[0m\u001b[0;32m   1255\u001b[0m         \u001b[1;31m# We only act on all found values:\u001b[0m\u001b[1;33m\u001b[0m\u001b[1;33m\u001b[0m\u001b[1;33m\u001b[0m\u001b[0m\n\u001b[0;32m   1256\u001b[0m         \u001b[1;32mif\u001b[0m \u001b[0mindexer\u001b[0m \u001b[1;32mis\u001b[0m \u001b[1;32mnot\u001b[0m \u001b[1;32mNone\u001b[0m \u001b[1;32mand\u001b[0m \u001b[1;33m(\u001b[0m\u001b[0mindexer\u001b[0m \u001b[1;33m!=\u001b[0m \u001b[1;33m-\u001b[0m\u001b[1;36m1\u001b[0m\u001b[1;33m)\u001b[0m\u001b[1;33m.\u001b[0m\u001b[0mall\u001b[0m\u001b[1;33m(\u001b[0m\u001b[1;33m)\u001b[0m\u001b[1;33m:\u001b[0m\u001b[1;33m\u001b[0m\u001b[1;33m\u001b[0m\u001b[0m\n",
      "\u001b[1;32m~\\anaconda3\\lib\\site-packages\\pandas\\core\\indexes\\base.py\u001b[0m in \u001b[0;36m_convert_listlike_indexer\u001b[1;34m(self, keyarr)\u001b[0m\n\u001b[0;32m   3409\u001b[0m             \u001b[1;32mpass\u001b[0m\u001b[1;33m\u001b[0m\u001b[1;33m\u001b[0m\u001b[0m\n\u001b[0;32m   3410\u001b[0m         \u001b[1;32melse\u001b[0m\u001b[1;33m:\u001b[0m\u001b[1;33m\u001b[0m\u001b[1;33m\u001b[0m\u001b[0m\n\u001b[1;32m-> 3411\u001b[1;33m             \u001b[0mkeyarr\u001b[0m \u001b[1;33m=\u001b[0m \u001b[0mself\u001b[0m\u001b[1;33m.\u001b[0m\u001b[0m_convert_arr_indexer\u001b[0m\u001b[1;33m(\u001b[0m\u001b[0mkeyarr\u001b[0m\u001b[1;33m)\u001b[0m\u001b[1;33m\u001b[0m\u001b[1;33m\u001b[0m\u001b[0m\n\u001b[0m\u001b[0;32m   3412\u001b[0m \u001b[1;33m\u001b[0m\u001b[0m\n\u001b[0;32m   3413\u001b[0m         \u001b[0mindexer\u001b[0m \u001b[1;33m=\u001b[0m \u001b[0mself\u001b[0m\u001b[1;33m.\u001b[0m\u001b[0m_convert_list_indexer\u001b[0m\u001b[1;33m(\u001b[0m\u001b[0mkeyarr\u001b[0m\u001b[1;33m)\u001b[0m\u001b[1;33m\u001b[0m\u001b[1;33m\u001b[0m\u001b[0m\n",
      "\u001b[1;32m~\\anaconda3\\lib\\site-packages\\pandas\\core\\indexes\\base.py\u001b[0m in \u001b[0;36m_convert_arr_indexer\u001b[1;34m(self, keyarr)\u001b[0m\n\u001b[0;32m   3427\u001b[0m         \u001b[0mconverted_keyarr\u001b[0m \u001b[1;33m:\u001b[0m \u001b[0marray\u001b[0m\u001b[1;33m-\u001b[0m\u001b[0mlike\u001b[0m\u001b[1;33m\u001b[0m\u001b[1;33m\u001b[0m\u001b[0m\n\u001b[0;32m   3428\u001b[0m         \"\"\"\n\u001b[1;32m-> 3429\u001b[1;33m         \u001b[0mkeyarr\u001b[0m \u001b[1;33m=\u001b[0m \u001b[0mcom\u001b[0m\u001b[1;33m.\u001b[0m\u001b[0masarray_tuplesafe\u001b[0m\u001b[1;33m(\u001b[0m\u001b[0mkeyarr\u001b[0m\u001b[1;33m)\u001b[0m\u001b[1;33m\u001b[0m\u001b[1;33m\u001b[0m\u001b[0m\n\u001b[0m\u001b[0;32m   3430\u001b[0m         \u001b[1;32mreturn\u001b[0m \u001b[0mkeyarr\u001b[0m\u001b[1;33m\u001b[0m\u001b[1;33m\u001b[0m\u001b[0m\n\u001b[0;32m   3431\u001b[0m \u001b[1;33m\u001b[0m\u001b[0m\n",
      "\u001b[1;32m~\\anaconda3\\lib\\site-packages\\pandas\\core\\common.py\u001b[0m in \u001b[0;36masarray_tuplesafe\u001b[1;34m(values, dtype)\u001b[0m\n\u001b[0;32m    209\u001b[0m \u001b[1;33m\u001b[0m\u001b[0m\n\u001b[0;32m    210\u001b[0m     \u001b[1;32mif\u001b[0m \u001b[0missubclass\u001b[0m\u001b[1;33m(\u001b[0m\u001b[0mresult\u001b[0m\u001b[1;33m.\u001b[0m\u001b[0mdtype\u001b[0m\u001b[1;33m.\u001b[0m\u001b[0mtype\u001b[0m\u001b[1;33m,\u001b[0m \u001b[0mstr\u001b[0m\u001b[1;33m)\u001b[0m\u001b[1;33m:\u001b[0m\u001b[1;33m\u001b[0m\u001b[1;33m\u001b[0m\u001b[0m\n\u001b[1;32m--> 211\u001b[1;33m         \u001b[0mresult\u001b[0m \u001b[1;33m=\u001b[0m \u001b[0mnp\u001b[0m\u001b[1;33m.\u001b[0m\u001b[0masarray\u001b[0m\u001b[1;33m(\u001b[0m\u001b[0mvalues\u001b[0m\u001b[1;33m,\u001b[0m \u001b[0mdtype\u001b[0m\u001b[1;33m=\u001b[0m\u001b[0mobject\u001b[0m\u001b[1;33m)\u001b[0m\u001b[1;33m\u001b[0m\u001b[1;33m\u001b[0m\u001b[0m\n\u001b[0m\u001b[0;32m    212\u001b[0m \u001b[1;33m\u001b[0m\u001b[0m\n\u001b[0;32m    213\u001b[0m     \u001b[1;32mif\u001b[0m \u001b[0mresult\u001b[0m\u001b[1;33m.\u001b[0m\u001b[0mndim\u001b[0m \u001b[1;33m==\u001b[0m \u001b[1;36m2\u001b[0m\u001b[1;33m:\u001b[0m\u001b[1;33m\u001b[0m\u001b[1;33m\u001b[0m\u001b[0m\n",
      "\u001b[1;31mKeyboardInterrupt\u001b[0m: "
     ]
    }
   ],
   "source": [
    "\n",
    "longestRoutes = list()\n",
    "maxLength = 0\n",
    "fastestRoutes = list()\n",
    "maxVelocity = 0\n",
    "\n",
    "shortestRoutes = list()\n",
    "maxShort = 0\n",
    "\n",
    "for i, route in tqdm.tqdm(routes.items()) :\n",
    "    \n",
    "    length = len(route)\n",
    "    \n",
    "    j,k,_ = route[1]\n",
    "    distance = geoDistance(df,route[0][0],route[-1][0])\n",
    "    short = distance / length\n",
    "    \n",
    "    start = G.edges[(i[0],j,k)]['start']\n",
    "    end = route[-1][-1]\n",
    "    timeElapsed = end-start+1\n",
    "    velocity = length / timeElapsed\n",
    "    \n",
    "    if velocity > maxVelocity:\n",
    "        maxVelocity = velocity \n",
    "        fastestRoutes = [i]\n",
    "        \n",
    "    elif velocity == maxVelocity:\n",
    "        fastestRoutes.append(i)\n",
    "    \n",
    "    \n",
    "    if length > maxLength:\n",
    "        maxLength = length \n",
    "        longestRoutes = [i]\n",
    "        \n",
    "    elif length == maxLength:\n",
    "        longestRoutes.append(i)\n",
    "        \n",
    "        \n",
    "    if short > maxShort:\n",
    "        maxShort = short\n",
    "        shortestRoutes = [i]\n",
    "        \n",
    "    elif short == maxShort:\n",
    "        shortestRoutes.append(i)\n",
    "    "
   ]
  },
  {
   "cell_type": "code",
   "execution_count": 19,
   "id": "a922778d",
   "metadata": {},
   "outputs": [
    {
     "name": "stdout",
     "output_type": "stream",
     "text": [
      "14.528237889341103 [(9019, 13925)] \n",
      " 3.828350581472482 [(11982, 11170)]\n"
     ]
    }
   ],
   "source": [
    "print(maxLength, longestRoutes,'\\n',maxVelocity,fastestRoutes)"
   ]
  },
  {
   "cell_type": "code",
   "execution_count": 28,
   "id": "a6346db8",
   "metadata": {},
   "outputs": [
    {
     "name": "stdout",
     "output_type": "stream",
     "text": [
      "14.528237889341103 34\n",
      "Ristorante Pizzeria Narnali 0\n",
      "Osteria Mulinette 188\n",
      "Quarantuno 200\n",
      "Sette di Vino 208\n",
      "La Cantina 208\n",
      "Ristorante Degli Archi 208\n",
      "Perseus 211\n",
      "Ristorante Riso & Brace 219\n",
      "Ciborgo 220\n",
      "Il Galeone 221\n",
      "Casa Masi 223\n",
      "Trattoria Il Calesse 224\n",
      "Enopizza & Risto 226\n",
      "Ristorante Il Tiramestoli 230\n",
      "Osteria di Casa Chianti 237\n",
      "Mezzadria 238\n",
      "Pesce e Pasta Monsummano Terme 245\n",
      "Spizzometro 247\n",
      "Spizzettando 248\n",
      "Ristorante Greco Makedonia 253\n",
      "Il Garibaldi Innamorato 254\n",
      "Pizzeria Da Tonino 255\n",
      "Move On 257\n",
      "Pizzeria Le Simpatiche Canaglie 261\n",
      "Circolo Arci Corniola 262\n",
      "Pane e Salame 263\n",
      "Acqua e Rame 264\n",
      "Il Tegolo 265\n",
      "Nagoya Empoli 267\n",
      "Oasi al Lago 268\n",
      "RitroVino 269\n",
      "Trattoria Boves 284\n",
      "Agriturismo bio-Ristorante La Degusteria 350\n",
      "Trattoria da Marco Il Crusco 356\n",
      "\n"
     ]
    }
   ],
   "source": [
    "provincesCount = {p : 0 for p in provinceTags}\n",
    "for route in  longestRoutes: \n",
    "    print(geolen(G,routes[route]),len(routes[route]))\n",
    "    for i,j,k in routes[route]: \n",
    "        print(df.loc[i,'name'],k)\n",
    "        provincesCount[G.nodes[i]['province']] +=1 \n",
    "    print()"
   ]
  },
  {
   "cell_type": "code",
   "execution_count": 26,
   "id": "c8be6e0f",
   "metadata": {},
   "outputs": [
    {
     "data": {
      "text/plain": [
       "{'PI': 2,\n",
       " 'PO': 2,\n",
       " 'LI': 7,\n",
       " 'FI': 16,\n",
       " 'AR': 0,\n",
       " 'PT': 2,\n",
       " 'GR': 0,\n",
       " 'MS': 0,\n",
       " 'SI': 2,\n",
       " 'LU': 3}"
      ]
     },
     "execution_count": 26,
     "metadata": {},
     "output_type": "execute_result"
    }
   ],
   "source": [
    "provincesCount"
   ]
  },
  {
   "cell_type": "code",
   "execution_count": 91,
   "id": "3da6db20",
   "metadata": {},
   "outputs": [],
   "source": [
    "dedges = []\n",
    "path = routes[(9019, 13925)]\n",
    "for i,u in enumerate( path ):\n",
    "     if u != path[-1]:\n",
    "        v,k,t = path[i+1]\n",
    "        dedges.append((u[0],v,k))"
   ]
  },
  {
   "cell_type": "code",
   "execution_count": 49,
   "id": "bec8a509",
   "metadata": {},
   "outputs": [],
   "source": [
    "diameter = G.edge_subgraph(dedges).copy()"
   ]
  },
  {
   "cell_type": "code",
   "execution_count": 50,
   "id": "2d4cc947",
   "metadata": {},
   "outputs": [
    {
     "data": {
      "text/plain": [
       "{1282: (10.944486, 43.72259),\n",
       " 5891: (10.900363, 43.704582),\n",
       " 14728: (10.230277, 43.957848),\n",
       " 3849: (11.679167, 43.076885),\n",
       " 2574: (10.989851, 43.706444),\n",
       " 3215: (11.263715, 43.78412),\n",
       " 8080: (10.683192, 43.69903515432098),\n",
       " 10897: (10.526842, 42.923016),\n",
       " 3477: (10.956239, 43.722527),\n",
       " 2202: (10.94433, 43.720627),\n",
       " 4122: (11.782937, 43.094757),\n",
       " 10782: (10.366932, 43.461666),\n",
       " 2464: (10.936058, 43.720093),\n",
       " 2979: (10.800191, 43.858303),\n",
       " 10279: (10.44594, 43.39816),\n",
       " 3119: (10.991976, 43.83752),\n",
       " 10418: (10.472847, 43.4071),\n",
       " 1972: (11.109749, 43.581474),\n",
       " 10036: (10.527006, 42.922726),\n",
       " 6455: (10.864517, 43.750908),\n",
       " 9019: (11.067916, 43.89484),\n",
       " 8637: (10.403635, 43.713852),\n",
       " 15678: (10.305469, 43.98832),\n",
       " 10557: (10.683007, 42.952877),\n",
       " 2633: (11.31553, 43.584248),\n",
       " 3277: (11.255009, 43.772877),\n",
       " 3157: (10.938245, 43.699787),\n",
       " 10840: (10.4428, 43.39877),\n",
       " 8931: (11.098162, 43.881092),\n",
       " 1380: (10.950417, 43.71677),\n",
       " 2276: (10.879033, 43.58235),\n",
       " 13925: (10.246405, 43.86249),\n",
       " 366: (10.949041, 43.71882),\n",
       " 496: (10.949736, 43.717995)}"
      ]
     },
     "execution_count": 50,
     "metadata": {},
     "output_type": "execute_result"
    }
   ],
   "source": [
    "pos = {node : (diameter.nodes[node]['longitude'], diameter.nodes[node]['latitude']) for node in diameter.nodes}\n",
    "pos"
   ]
  },
  {
   "cell_type": "code",
   "execution_count": 52,
   "id": "253c7f44",
   "metadata": {},
   "outputs": [
    {
     "data": {
      "image/png": "[encoded data removed]",
      "text/plain": [
       "<Figure size 360x360 with 1 Axes>"
      ]
     },
     "metadata": {},
     "output_type": "display_data"
    }
   ],
   "source": [
    "plt.figure(figsize = (5,5))\n",
    "nx.draw(diameter,pos)"
   ]
  },
  {
   "cell_type": "code",
   "execution_count": 54,
   "id": "50785f2e",
   "metadata": {},
   "outputs": [
    {
     "name": "stdout",
     "output_type": "stream",
     "text": [
      "3.828350581472482 5\n",
      "Cassia Vetus 0\n",
      "Raviolo e Raviolo 183\n",
      "Ristorante Casa Puccini 183\n",
      "Osteria Passaparola Nell'antico Frantoio 183\n",
      "Ozium 183\n",
      "\n"
     ]
    }
   ],
   "source": [
    "provincesCount = {p : 0 for p in provinceTags}\n",
    "for route in  fastestRoutes: \n",
    "    print(geolen(G,routes[route]),len(routes[route]))\n",
    "    for i,j,k in routes[route]: \n",
    "        print(df.loc[i,'name'],k)\n",
    "        provincesCount[G.nodes[i]['province']] +=1 \n",
    "    print()"
   ]
  },
  {
   "cell_type": "code",
   "execution_count": 56,
   "id": "2470f903",
   "metadata": {},
   "outputs": [
    {
     "data": {
      "text/plain": [
       "{'PI': 1,\n",
       " 'PO': 0,\n",
       " 'LI': 0,\n",
       " 'FI': 1,\n",
       " 'AR': 1,\n",
       " 'PT': 0,\n",
       " 'GR': 1,\n",
       " 'MS': 0,\n",
       " 'SI': 0,\n",
       " 'LU': 1}"
      ]
     },
     "execution_count": 56,
     "metadata": {},
     "output_type": "execute_result"
    }
   ],
   "source": [
    "provincesCount"
   ]
  },
  {
   "cell_type": "code",
   "execution_count": 92,
   "id": "175a3052",
   "metadata": {},
   "outputs": [],
   "source": [
    "fedges = []\n",
    "path = routes[(11982, 11170)]\n",
    "for i,u in enumerate( path ):\n",
    "     if u != path[-1]:\n",
    "        v,k,t = path[i+1]\n",
    "        fedges.append((u[0],v,k))"
   ]
  },
  {
   "cell_type": "code",
   "execution_count": 93,
   "id": "32bb63b2",
   "metadata": {},
   "outputs": [
    {
     "data": {
      "text/plain": [
       "37"
      ]
     },
     "execution_count": 93,
     "metadata": {},
     "output_type": "execute_result"
    }
   ],
   "source": [
    "edges = dedges+fedges\n",
    "len(edges)"
   ]
  },
  {
   "cell_type": "code",
   "execution_count": 95,
   "id": "e73d9f4d",
   "metadata": {},
   "outputs": [],
   "source": [
    "diameter = G.edge_subgraph(edges).copy()"
   ]
  },
  {
   "cell_type": "code",
   "execution_count": 94,
   "id": "02829496",
   "metadata": {},
   "outputs": [
    {
     "data": {
      "text/plain": [
       "{1282: (10.944486, 43.72259),\n",
       " 5891: (10.900363, 43.704582),\n",
       " 14728: (10.230277, 43.957848),\n",
       " 3849: (11.679167, 43.076885),\n",
       " 2574: (10.989851, 43.706444),\n",
       " 3215: (11.263715, 43.78412),\n",
       " 8080: (10.683192, 43.69903515432098),\n",
       " 10897: (10.526842, 42.923016),\n",
       " 3477: (10.956239, 43.722527),\n",
       " 2202: (10.94433, 43.720627),\n",
       " 4122: (11.782937, 43.094757),\n",
       " 10782: (10.366932, 43.461666),\n",
       " 2464: (10.936058, 43.720093),\n",
       " 11170: (10.631944, 43.3148162200457),\n",
       " 2979: (10.800191, 43.858303),\n",
       " 14500: (10.50138, 43.843323),\n",
       " 10279: (10.44594, 43.39816),\n",
       " 3119: (10.991976, 43.83752),\n",
       " 10418: (10.472847, 43.4071),\n",
       " 1972: (11.109749, 43.581474),\n",
       " 10036: (10.527006, 42.922726),\n",
       " 6455: (10.864517, 43.750908),\n",
       " 9019: (11.067916, 43.89484),\n",
       " 8637: (10.403635, 43.713852),\n",
       " 15678: (10.305469, 43.98832),\n",
       " 10557: (10.683007, 42.952877),\n",
       " 2633: (11.31553, 43.584248),\n",
       " 3277: (11.255009, 43.772877),\n",
       " 11982: (11.584239, 43.55028),\n",
       " 3157: (10.938245, 43.699787),\n",
       " 10840: (10.4428, 43.39877),\n",
       " 8931: (11.098162, 43.881092),\n",
       " 1380: (10.950417, 43.71677),\n",
       " 2276: (10.879033, 43.58235),\n",
       " 13668: (11.490153, 42.62149),\n",
       " 13925: (10.246405, 43.86249),\n",
       " 366: (10.949041, 43.71882),\n",
       " 496: (10.949736, 43.717995),\n",
       " 2165: (11.260278, 43.768703)}"
      ]
     },
     "execution_count": 94,
     "metadata": {},
     "output_type": "execute_result"
    }
   ],
   "source": [
    "pos = {node : (diameter.nodes[node]['longitude'], diameter.nodes[node]['latitude']) for node in diameter.nodes}\n",
    "pos"
   ]
  },
  {
   "cell_type": "code",
   "execution_count": 96,
   "id": "b7da0a3a",
   "metadata": {},
   "outputs": [
    {
     "data": {
      "text/plain": [
       "[(11982, 2165, 0), (2165, 14500, 0), (14500, 13668, 0), (13668, 11170, 0)]"
      ]
     },
     "execution_count": 96,
     "metadata": {},
     "output_type": "execute_result"
    }
   ],
   "source": [
    "fedges"
   ]
  },
  {
   "cell_type": "code",
   "execution_count": 99,
   "id": "a52f246b",
   "metadata": {},
   "outputs": [],
   "source": [
    "colormap = []\n",
    "for node in diameter.nodes:\n",
    "    if node in [i[0] for i in fedges] or node in [i[1] for i in fedges] :\n",
    "        colormap.append('red')\n",
    "    else : colormap.append('blue')"
   ]
  },
  {
   "cell_type": "code",
   "execution_count": 100,
   "id": "b1569f93",
   "metadata": {},
   "outputs": [
    {
     "data": {
      "image/png": "[encoded data removed]",
      "text/plain": [
       "<Figure size 360x360 with 1 Axes>"
      ]
     },
     "metadata": {},
     "output_type": "display_data"
    }
   ],
   "source": [
    "plt.figure(figsize = (5,5))\n",
    "nx.draw(diameter,pos, node_color = colormap)"
   ]
  },
  {
   "cell_type": "markdown",
   "id": "88a45dd7",
   "metadata": {},
   "source": [
    "#### FASTEST PATHS"
   ]
  },
  {
   "cell_type": "code",
   "execution_count": 11,
   "id": "11ad6707",
   "metadata": {},
   "outputs": [
    {
     "name": "stderr",
     "output_type": "stream",
     "text": [
      "100%|██████████████████████████████████████████████████████████████████████████████| 9107/9107 [42:41<00:00,  3.56it/s]\n"
     ]
    }
   ],
   "source": [
    "routes = all_time_respecting_paths(G,weights='days')"
   ]
  },
  {
   "cell_type": "code",
   "execution_count": null,
   "id": "3d312665",
   "metadata": {},
   "outputs": [],
   "source": [
    "\n",
    "with open('../data/clean/allpathsDays.PICKLE','wb') as f:\n",
    "    pickle.dump(routes,f)\n",
    "    "
   ]
  },
  {
   "cell_type": "code",
   "execution_count": 13,
   "id": "355a9ac7",
   "metadata": {},
   "outputs": [],
   "source": [
    "\n",
    "with open('../data/clean/allpathsDays.PICKLE','rb') as f:\n",
    "    routes = pickle.load(f)"
   ]
  },
  {
   "cell_type": "code",
   "execution_count": 15,
   "id": "132c827d",
   "metadata": {},
   "outputs": [],
   "source": [
    "def daylen(G,path):\n",
    "    endDate = path[-1][2]\n",
    "    startDate = G.edges[(path[0][0],path[1][0],path[1][1])]['start']\n",
    "    \n",
    "    return endDate - startDate + 1"
   ]
  },
  {
   "cell_type": "code",
   "execution_count": 22,
   "id": "d52048b7",
   "metadata": {},
   "outputs": [
    {
     "name": "stderr",
     "output_type": "stream",
     "text": [
      "100%|██████████████████████████████████████████████████████████████████| 21423384/21423384 [02:27<00:00, 145292.42it/s]\n"
     ]
    }
   ],
   "source": [
    "\n",
    "longestRoutes = list()\n",
    "maxLength = 0\n",
    "fastestRoutes = list()\n",
    "maxVelocity = 0\n",
    "\n",
    "maxDuration = 0\n",
    "slowestRoutes = []\n",
    "\n",
    "for i, route in tqdm.tqdm(routes.items()) :\n",
    "    \n",
    "    length = len(route)\n",
    "    \n",
    "    j,k,_ = route[1]\n",
    "    \n",
    "    start = G.edges[(i[0],j,k)]['start']\n",
    "    end = route[-1][-1]\n",
    "    timeElapsed = end-start+1\n",
    "    velocity = length / timeElapsed\n",
    "    \n",
    "    if velocity > maxVelocity:\n",
    "        maxVelocity = velocity \n",
    "        fastestRoutes = [i]\n",
    "        \n",
    "    elif velocity == maxVelocity:\n",
    "        fastestRoutes.append(i)\n",
    "    \n",
    "    \n",
    "    if length > maxLength:\n",
    "        maxLength = length \n",
    "        longestRoutes = [i]\n",
    "        \n",
    "    elif length == maxLength:\n",
    "        longestRoutes.append(i)\n",
    "        \n",
    "   \n",
    "    "
   ]
  },
  {
   "cell_type": "code",
   "execution_count": 20,
   "id": "de7b54f3",
   "metadata": {},
   "outputs": [
    {
     "data": {
      "text/plain": [
       "21423384"
      ]
     },
     "execution_count": 20,
     "metadata": {},
     "output_type": "execute_result"
    }
   ],
   "source": [
    "\n",
    "len(routes)"
   ]
  },
  {
   "cell_type": "code",
   "execution_count": null,
   "id": "f2e77742",
   "metadata": {},
   "outputs": [],
   "source": [
    "for route in  longestRoutes: \n",
    "    print(daylen(G,routes[route]))\n",
    "    for i,j,k in routes[route]: i\n",
    "    print()"
   ]
  },
  {
   "cell_type": "code",
   "execution_count": 28,
   "id": "87b1f147",
   "metadata": {},
   "outputs": [
    {
     "name": "stdout",
     "output_type": "stream",
     "text": [
      "254\n",
      "Lo Schiaccianoci 0\n",
      "Sushiko 158\n",
      "La Carretta 158\n",
      "Locanda all'Antico Mulino 178\n",
      "Convinci 182\n",
      "Osteria Bellavista 184\n",
      "Fattoria Rossi Firenze 187\n",
      "Mangiapepe 195\n",
      "Osteria del Fiore 206\n",
      "Mister Pizza 212\n",
      "Osteria Vecchio Cancello 219\n",
      "Mattacena 226\n",
      "LA GROTTA TOSCANA (EX LA REPUBBLICA) 237\n",
      "Belfiore 240\n",
      "Godo 253\n",
      "Caffe Salvemini 261\n",
      "Caffetteria Piansa 301\n",
      "Cafe Badia 310\n",
      "Bar Beyfin - by Gianno 324\n",
      "D Osteria Moderna 325\n",
      "Panineria I 5 Sensi 326\n",
      "Friggio Pontassieve 327\n",
      "Otto bistro & pizza 330\n",
      "I Francescani 331\n",
      "Arnolds fiaschetteria 333\n",
      "Deliburger Firenze Sud 335\n",
      "Bistro Gran Caffe Pinseria 336\n",
      "La Bottega Del Caffe 339\n",
      "Trattoria I' Pepolino 340\n",
      "Hibiki-an 341\n",
      "Fast Mood 343\n",
      "L'originale Fornetto di Rufina 345\n",
      "Runner Pizza 347\n",
      "Yin Xiang 348\n",
      "La Bottega Di Gabri 350\n",
      "Pasticceria Maioli 353\n",
      "Bar Sport 354\n",
      "Mozzarella e Basilico 355\n",
      "Pizza Taxi 357\n",
      "Royal Bar 358\n",
      "Caffe Giannotti 360\n",
      "Ristorante Giapponese Kikawa 387\n",
      "Giglio Pizza 394\n",
      "Bar Tre Enne 411\n",
      "\n"
     ]
    }
   ],
   "source": [
    "provincesCount = {p : 0 for p in provinceTags}\n",
    "for route in  longestRoutes: \n",
    "    print(daylen(G,routes[route]))\n",
    "    for i,j,k in routes[route]: \n",
    "        print(df.loc[i,'name'],k)\n",
    "        provincesCount[G.nodes[i]['province']] +=1 \n",
    "    print()"
   ]
  },
  {
   "cell_type": "code",
   "execution_count": 29,
   "id": "a5326756",
   "metadata": {},
   "outputs": [
    {
     "data": {
      "text/plain": [
       "{'PI': 0,\n",
       " 'PO': 0,\n",
       " 'LI': 0,\n",
       " 'FI': 38,\n",
       " 'AR': 0,\n",
       " 'PT': 1,\n",
       " 'GR': 0,\n",
       " 'MS': 3,\n",
       " 'SI': 1,\n",
       " 'LU': 1}"
      ]
     },
     "execution_count": 29,
     "metadata": {},
     "output_type": "execute_result"
    }
   ],
   "source": [
    "provincesCount"
   ]
  },
  {
   "cell_type": "code",
   "execution_count": 98,
   "id": "3abe5dca",
   "metadata": {},
   "outputs": [
    {
     "name": "stderr",
     "output_type": "stream",
     "text": [
      "IOPub data rate exceeded.\n",
      "The notebook server will temporarily stop sending output\n",
      "to the client in order to avoid crashing it.\n",
      "To change this limit, set the config variable\n",
      "`--NotebookApp.iopub_data_rate_limit`.\n",
      "\n",
      "Current values:\n",
      "NotebookApp.iopub_data_rate_limit=1000000.0 (bytes/sec)\n",
      "NotebookApp.rate_limit_window=3.0 (secs)\n",
      "\n",
      "\n",
      "KeyboardInterrupt\n",
      "\n"
     ]
    }
   ],
   "source": [
    "print(maxLength, longestRoutes,'\\n',maxVelocity,fastestRoutes)"
   ]
  },
  {
   "cell_type": "markdown",
   "id": "eda0d99b",
   "metadata": {},
   "source": [
    "#### Foremost"
   ]
  },
  {
   "cell_type": "code",
   "execution_count": null,
   "id": "c092e783",
   "metadata": {},
   "outputs": [],
   "source": [
    "def single_source_time_respecting_paths(g,source,weights=None):\n",
    "    \n",
    "    def mintime(g, u, v, date = 0):\n",
    "        k = 0\n",
    "        mink = 0\n",
    "        minimal = float('inf') \n",
    "        while True: \n",
    "            try :\n",
    "                end = g.edges[(u,v,k)]['end']\n",
    "                start = g.edges[(u,v,k)]['start']\n",
    "            except: break\n",
    "            if start >= date and end < minimal: \n",
    "                minimal = end \n",
    "                mink = k \n",
    "                \n",
    "            k += 1\n",
    "    \n",
    "        return minimal, mink\n",
    "\n",
    "    \n",
    "    dist = dict()\n",
    "    Q = list()\n",
    "    \n",
    "    heappush(Q, source)\n",
    " \n",
    "    # set initial distance from the source to `v` as INFINITY\n",
    "    dist = {node : float('inf') for node in g.nodes}\n",
    "    dist[source] = 0\n",
    "    \n",
    "    time = {node : 0 for node in g.nodes}\n",
    "    time[source] = 0\n",
    "    \n",
    "    prev = {node : -1 for node in g.nodes}\n",
    "    index = {source: 0}\n",
    "    done = {node : False for node in g.nodes}\n",
    "    done[source] = True\n",
    "    \n",
    "    \n",
    "    \n",
    "    while Q:\n",
    " \n",
    "        u = heappop(Q)      # Remove and return the best vertex\n",
    "        \n",
    " \n",
    "        # do for each neighbor `v` of `u`\n",
    "        for v in g.neighbors(u):\n",
    "            \n",
    "            firstvisit, firstk = mintime(g,u,v, date = time[u])\n",
    "            \n",
    "            # Relaxation step \n",
    "            if firstvisit == float('inf'): continue\n",
    "                \n",
    "            if weights ==None :weight = 1\n",
    "            else: weight = g.edges[(u,v,firstk)][weights]\n",
    "            \n",
    "            if not done[v] and (dist[u] + weight) < dist[v]:\n",
    "                \n",
    "                dist[v] = dist[u] + weight\n",
    "                prev[v] = u\n",
    "                time[v] = firstvisit\n",
    "                index[v] = firstk\n",
    "                heappush(Q, v)\n",
    " \n",
    "        # mark vertex `u` as done so it will not get picked up again\n",
    "        done[u] = True\n",
    "        \n",
    "        \n",
    "    def get_route(prev, time, index, i, route):\n",
    "        if i >= 0:\n",
    "            get_route(prev, time, index, prev[i], route)\n",
    "            route.append((i,index[i],time[i]))    \n",
    "        \n",
    "    route = list()\n",
    "    routes = dict()\n",
    "    for i in g.nodes:\n",
    "        if i != source and dist[i] <float('inf'):\n",
    "            get_route(prev, time, index, i, route)\n",
    "            routes[(source,i)] = route.copy()\n",
    "            #print(f\"Path ({source} —> {i}): Minimum cost = {dist[i]}, Route = {route}\")\n",
    "            route.clear()\n",
    "            \n",
    "    return routes"
   ]
  },
  {
   "cell_type": "code",
   "execution_count": null,
   "id": "e35615bc",
   "metadata": {},
   "outputs": [],
   "source": []
  },
  {
   "cell_type": "code",
   "execution_count": null,
   "id": "ed1ffd1b",
   "metadata": {},
   "outputs": [],
   "source": []
  },
  {
   "cell_type": "code",
   "execution_count": null,
   "id": "47592d0e",
   "metadata": {},
   "outputs": [],
   "source": []
  },
  {
   "cell_type": "markdown",
   "id": "e5ab46ae",
   "metadata": {},
   "source": [
    "# Centralities"
   ]
  },
  {
   "cell_type": "code",
   "execution_count": 26,
   "id": "fa693456",
   "metadata": {},
   "outputs": [],
   "source": [
    "import matplotlib.patches as mpatches\n",
    "def plotCentrality(df,centralities, k = 20):\n",
    "   \n",
    "\n",
    "   \n",
    "    restaurants = dict(sorted(centralities.items(), key=lambda item: item[1], reverse=True))\n",
    "    \n",
    "    \n",
    "    \n",
    "    nodes, values = zip(*restaurants.items()) \n",
    "    nodes = nodes[1:k+1]\n",
    "    \n",
    "    names = [df.loc[u,'name'] for u in nodes]\n",
    "    values = values[1:k+1]\n",
    "\n",
    "    mycolors = [['indianred','slateblue'][int(df.loc[r,'covidMeasure'])] for r in nodes]\n",
    "    plt.figure(figsize=(20,5))\n",
    "    plt.bar(names, values, color=mycolors)\n",
    "\n",
    "    red_patch = mpatches.Patch(color='indianred', label='no')\n",
    "    blue_patch = mpatches.Patch(color='slateblue', label='yes')\n",
    "    plt.legend(handles=[red_patch,blue_patch],title='Covid Measure')\n",
    "\n",
    "\n",
    "    plt.xticks(rotation=25,ha='right')"
   ]
  },
  {
   "cell_type": "code",
   "execution_count": null,
   "id": "3467b688",
   "metadata": {},
   "outputs": [],
   "source": []
  },
  {
   "cell_type": "code",
   "execution_count": 12,
   "id": "b343e5c1",
   "metadata": {},
   "outputs": [],
   "source": [
    "def betwenness(g,paths):\n",
    "    centralities = {node:0 for node in g.nodes}\n",
    "    norma = len(paths)\n",
    "    for path in tqdm.tqdm(paths.values()): \n",
    "        for node in path:\n",
    "            centralities[node[0]] += 1\n",
    "    for node in centralities: \n",
    "        centralities[node] = centralities[node] / norma\n",
    "    return centralities"
   ]
  },
  {
   "cell_type": "raw",
   "id": "07d87063",
   "metadata": {},
   "source": [
    "def closeness(g,paths, length = None, normalizer = None):\n",
    "    centralities = {node:0 for node in g.nodes}\n",
    "    norma = normalizer(g)\n",
    "    for u in tqdm.tqdm(g.nodes):\n",
    "        for v in g.nodes:\n",
    "            if (u,v) in paths: \n",
    "    \n",
    "                centralities[u] += length(g,paths[(u,v)]) \n",
    "        \n",
    "    for node in centralities: \n",
    "        centralities[node] = norma / centralities[node] \n",
    "    \n",
    "    return centralities"
   ]
  },
  {
   "cell_type": "code",
   "execution_count": 19,
   "id": "1d40a567",
   "metadata": {},
   "outputs": [],
   "source": [
    "def harmonic(g,paths, length = None, normalizer = None):\n",
    "    centralities = {node:0 for node in g.nodes}\n",
    "    norma = normalizer(g)\n",
    "    for u in tqdm.tqdm(g.nodes):\n",
    "        for v in g.nodes:\n",
    "            if (u,v) in paths: \n",
    "                \n",
    "                d = length(g,paths[(u,v)])\n",
    "                if d == 0: continue     \n",
    "                centralities[u] += 1 / d \n",
    "        \n",
    "    for node in centralities:\n",
    "        \n",
    "        centralities[node] = centralities[node] / norma\n",
    "    \n",
    "    return centralities"
   ]
  },
  {
   "cell_type": "markdown",
   "id": "0a4c1993",
   "metadata": {},
   "source": [
    "##### Shortest"
   ]
  },
  {
   "cell_type": "code",
   "execution_count": 74,
   "id": "058cb67e",
   "metadata": {},
   "outputs": [],
   "source": [
    "def shortlen(g,path):\n",
    "    return len(path) - 1 \n",
    "\n",
    "def normalizer(g): \n",
    "    return len(g.nodes) - 1"
   ]
  },
  {
   "cell_type": "code",
   "execution_count": 75,
   "id": "06ed03f9",
   "metadata": {},
   "outputs": [],
   "source": [
    "\n",
    "with open('../data/clean/allpaths.PICKLE','rb') as f:\n",
    "    routes = pickle.load(f)\n",
    "    "
   ]
  },
  {
   "cell_type": "code",
   "execution_count": 76,
   "id": "7c6ff695",
   "metadata": {},
   "outputs": [
    {
     "name": "stderr",
     "output_type": "stream",
     "text": [
      "100%|██████████████████████████████████████████████████████████████████| 22791375/22791375 [01:52<00:00, 202395.57it/s]\n"
     ]
    }
   ],
   "source": [
    "centralities = betwenness(G,routes)"
   ]
  },
  {
   "cell_type": "code",
   "execution_count": 77,
   "id": "54e81849",
   "metadata": {},
   "outputs": [
    {
     "name": "stderr",
     "output_type": "stream",
     "text": [
      "<ipython-input-70-b593ff505d6d>:16: DeprecationWarning: In future, it will be an error for 'np.bool_' scalars to be interpreted as an index\n",
      "  mycolors = [['indianred','slateblue'][df.loc[r,'covidMeasure']] for r in restaurants]\n"
     ]
    },
    {
     "data": {
      "image/png": "[encoded data removed]",
      "text/plain": [
       "<Figure size 1440x360 with 1 Axes>"
      ]
     },
     "metadata": {
      "needs_background": "light"
     },
     "output_type": "display_data"
    }
   ],
   "source": [
    "plotCentrality(df,centralities, k = 20)"
   ]
  },
  {
   "cell_type": "code",
   "execution_count": 78,
   "id": "37017d4f",
   "metadata": {},
   "outputs": [
    {
     "name": "stderr",
     "output_type": "stream",
     "text": [
      "100%|██████████████████████████████████████████████████████████████████████████████| 9107/9107 [02:07<00:00, 71.52it/s]\n"
     ]
    }
   ],
   "source": [
    "centralitiesH = harmonic(G,routes,shortlen,normalizer)"
   ]
  },
  {
   "cell_type": "code",
   "execution_count": 79,
   "id": "3a4149c1",
   "metadata": {},
   "outputs": [
    {
     "name": "stderr",
     "output_type": "stream",
     "text": [
      "<ipython-input-70-b593ff505d6d>:16: DeprecationWarning: In future, it will be an error for 'np.bool_' scalars to be interpreted as an index\n",
      "  mycolors = [['indianred','slateblue'][df.loc[r,'covidMeasure']] for r in restaurants]\n"
     ]
    },
    {
     "data": {
      "image/png": "[encoded data removed]",
      "text/plain": [
       "<Figure size 1440x360 with 1 Axes>"
      ]
     },
     "metadata": {
      "needs_background": "light"
     },
     "output_type": "display_data"
    }
   ],
   "source": [
    "plotCentrality(df,centralitiesH, k = 20)"
   ]
  },
  {
   "cell_type": "markdown",
   "id": "0af123db",
   "metadata": {},
   "source": [
    "#### Geo"
   ]
  },
  {
   "cell_type": "code",
   "execution_count": 20,
   "id": "72e95f21",
   "metadata": {},
   "outputs": [],
   "source": [
    "def geoDistance(df,u,v):\n",
    "    \n",
    "    xi, yi = df.loc[u,['longitude','latitude']]\n",
    "    xj, yj = df.loc[v,['longitude','latitude']]\n",
    "    return ((xj-xi)**2 + (yj-yi)**2)**0.5"
   ]
  },
  {
   "cell_type": "code",
   "execution_count": 21,
   "id": "6d232d04",
   "metadata": {},
   "outputs": [],
   "source": [
    "def geolen(g,path):\n",
    "    dist = 0 \n",
    "    for i,v in enumerate(path):\n",
    "        if v != path[-1]:\n",
    "            dist += g.edges[(v[0],path[i+1][0],path[i+1][1])]['geodistance']\n",
    "        \n",
    "    return dist\n",
    "\n",
    "\n",
    "\n",
    "def normalizer(g): \n",
    "    return 1"
   ]
  },
  {
   "cell_type": "code",
   "execution_count": 7,
   "id": "69b16bd3",
   "metadata": {},
   "outputs": [],
   "source": [
    "\n",
    "with open('../data/clean/allpathsGeo.PICKLE','rb') as f:\n",
    "    georoutes = pickle.load(f)\n",
    "    "
   ]
  },
  {
   "cell_type": "code",
   "execution_count": 9,
   "id": "917dcf4e",
   "metadata": {},
   "outputs": [
    {
     "name": "stderr",
     "output_type": "stream",
     "text": [
      "100%|██████████████████████████████████████████████████████████████████| 22333895/22333895 [02:04<00:00, 179838.59it/s]\n"
     ]
    }
   ],
   "source": [
    "geocentralities = betwenness(G,georoutes)"
   ]
  },
  {
   "cell_type": "code",
   "execution_count": 10,
   "id": "23b354b0",
   "metadata": {},
   "outputs": [
    {
     "name": "stderr",
     "output_type": "stream",
     "text": [
      "<ipython-input-5-1b3c80d362ae>:14: DeprecationWarning: In future, it will be an error for 'np.bool_' scalars to be interpreted as an index\n",
      "  mycolors = [['indianred','slateblue'][df.loc[r,'covidMeasure']] for r in restaurants]\n"
     ]
    },
    {
     "data": {
      "image/png": "[encoded data removed]",
      "text/plain": [
       "<Figure size 1440x360 with 1 Axes>"
      ]
     },
     "metadata": {
      "needs_background": "light"
     },
     "output_type": "display_data"
    }
   ],
   "source": [
    "plotCentrality(df,geocentralities, k = 20)"
   ]
  },
  {
   "cell_type": "code",
   "execution_count": 22,
   "id": "5372c065",
   "metadata": {},
   "outputs": [
    {
     "name": "stderr",
     "output_type": "stream",
     "text": [
      "100%|██████████████████████████████████████████████████████████████████████████████| 9107/9107 [05:16<00:00, 28.76it/s]\n"
     ]
    }
   ],
   "source": [
    "geocentralitiesH = harmonic(G,routes,geolen,normalizer)"
   ]
  },
  {
   "cell_type": "code",
   "execution_count": null,
   "id": "fe6f60c7",
   "metadata": {},
   "outputs": [],
   "source": []
  },
  {
   "cell_type": "code",
   "execution_count": 43,
   "id": "84307976",
   "metadata": {},
   "outputs": [],
   "source": [
    "norma = max([v for v in geocentralitiesH.values()])\n",
    "centralities = {node:c/norma for node,c in  geocentralitiesH.items()}"
   ]
  },
  {
   "cell_type": "code",
   "execution_count": 28,
   "id": "e36387bd",
   "metadata": {},
   "outputs": [
    {
     "data": {
      "image/png": "[encoded data removed]",
      "text/plain": [
       "<Figure size 1440x360 with 1 Axes>"
      ]
     },
     "metadata": {
      "needs_background": "light"
     },
     "output_type": "display_data"
    }
   ],
   "source": [
    "plotCentrality(df,geocentralitiesH, k = 20)"
   ]
  },
  {
   "cell_type": "code",
   "execution_count": 38,
   "id": "2413227a",
   "metadata": {},
   "outputs": [
    {
     "data": {
      "text/plain": [
       "False    15176\n",
       "True       687\n",
       "Name: covidMeasure, dtype: int64"
      ]
     },
     "execution_count": 38,
     "metadata": {},
     "output_type": "execute_result"
    }
   ],
   "source": [
    "df.covidMeasure.value_counts()"
   ]
  },
  {
   "cell_type": "markdown",
   "id": "2d6c4054",
   "metadata": {},
   "source": [
    "#### DAYS"
   ]
  },
  {
   "cell_type": "code",
   "execution_count": 58,
   "id": "f4da272f",
   "metadata": {},
   "outputs": [],
   "source": []
  },
  {
   "cell_type": "code",
   "execution_count": 59,
   "id": "96c72cb5",
   "metadata": {},
   "outputs": [],
   "source": [
    "def daylen(G,path):\n",
    "    endDate = path[-1][2]\n",
    "    startDate = G.edges[(path[0][0],path[1][0],path[1][1])]['start']\n",
    "    \n",
    "    return endDate - startDate + 1\n",
    "\n",
    "\n",
    "def normalizer(g):\n",
    "    first = min([edge['start'] for edge in g.edges.values()])\n",
    "    last = max([edge['end'] for edge in g.edges.values()])\n",
    "    return last-first"
   ]
  },
  {
   "cell_type": "code",
   "execution_count": 55,
   "id": "cb457da4",
   "metadata": {},
   "outputs": [
    {
     "data": {
      "text/plain": [
       "431"
      ]
     },
     "execution_count": 55,
     "metadata": {},
     "output_type": "execute_result"
    }
   ],
   "source": [
    "normalizer(G)"
   ]
  },
  {
   "cell_type": "code",
   "execution_count": 13,
   "id": "c98ff41b",
   "metadata": {},
   "outputs": [],
   "source": [
    "\n",
    "with open('../data/clean/allpathsDays.PICKLE','rb') as f:\n",
    "    dayroutes = pickle.load(f)"
   ]
  },
  {
   "cell_type": "code",
   "execution_count": 23,
   "id": "eeb124ba",
   "metadata": {},
   "outputs": [
    {
     "data": {
      "text/plain": [
       "[(1972, 0, 0),\n",
       " (2184, 0, 165),\n",
       " (2289, 0, 169),\n",
       " (11217, 0, 183),\n",
       " (11166, 0, 214)]"
      ]
     },
     "execution_count": 23,
     "metadata": {},
     "output_type": "execute_result"
    }
   ],
   "source": [
    "dayroutes[1972,11166]"
   ]
  },
  {
   "cell_type": "code",
   "execution_count": 29,
   "id": "b3791ae4",
   "metadata": {},
   "outputs": [
    {
     "data": {
      "text/plain": [
       "49"
      ]
     },
     "execution_count": 29,
     "metadata": {},
     "output_type": "execute_result"
    }
   ],
   "source": [
    "daylen(G,dayroutes[(1972,11166)])"
   ]
  },
  {
   "cell_type": "code",
   "execution_count": null,
   "id": "6d8c4d6b",
   "metadata": {},
   "outputs": [],
   "source": []
  },
  {
   "cell_type": "code",
   "execution_count": 14,
   "id": "e8fff880",
   "metadata": {},
   "outputs": [
    {
     "name": "stderr",
     "output_type": "stream",
     "text": [
      "100%|██████████████████████████████████████████████████████████████████| 21423384/21423384 [01:55<00:00, 185419.98it/s]\n"
     ]
    }
   ],
   "source": [
    "daycentralities = betwenness(G,dayroutes)"
   ]
  },
  {
   "cell_type": "code",
   "execution_count": 72,
   "id": "ef77ab5d",
   "metadata": {},
   "outputs": [
    {
     "name": "stderr",
     "output_type": "stream",
     "text": [
      "<ipython-input-70-b593ff505d6d>:16: DeprecationWarning: In future, it will be an error for 'np.bool_' scalars to be interpreted as an index\n",
      "  mycolors = [['indianred','slateblue'][df.loc[r,'covidMeasure']] for r in restaurants]\n"
     ]
    },
    {
     "data": {
      "image/png": "[encoded data removed]",
      "text/plain": [
       "<Figure size 1440x360 with 1 Axes>"
      ]
     },
     "metadata": {
      "needs_background": "light"
     },
     "output_type": "display_data"
    }
   ],
   "source": [
    "plotCentrality(df,daycentralities, k = 20)"
   ]
  },
  {
   "cell_type": "code",
   "execution_count": 60,
   "id": "36405de9",
   "metadata": {},
   "outputs": [
    {
     "name": "stderr",
     "output_type": "stream",
     "text": [
      "100%|██████████████████████████████████████████████████████████████████████████████| 9107/9107 [03:03<00:00, 49.73it/s]\n"
     ]
    }
   ],
   "source": [
    "daycentralitiesH = harmonic(G,dayroutes,daylen,normalizer = normalizer)"
   ]
  },
  {
   "cell_type": "code",
   "execution_count": 32,
   "id": "67eaf289",
   "metadata": {},
   "outputs": [
    {
     "ename": "NameError",
     "evalue": "name 'daycentralitiesH' is not defined",
     "output_type": "error",
     "traceback": [
      "\u001b[1;31m---------------------------------------------------------------------------\u001b[0m",
      "\u001b[1;31mNameError\u001b[0m                                 Traceback (most recent call last)",
      "\u001b[1;32m<ipython-input-32-cc95b6fafa03>\u001b[0m in \u001b[0;36m<module>\u001b[1;34m\u001b[0m\n\u001b[1;32m----> 1\u001b[1;33m \u001b[0mplotCentrality\u001b[0m\u001b[1;33m(\u001b[0m\u001b[0mdf\u001b[0m\u001b[1;33m,\u001b[0m\u001b[0mdaycentralitiesH\u001b[0m\u001b[1;33m,\u001b[0m \u001b[0mk\u001b[0m \u001b[1;33m=\u001b[0m \u001b[1;36m20\u001b[0m\u001b[1;33m)\u001b[0m\u001b[1;33m\u001b[0m\u001b[1;33m\u001b[0m\u001b[0m\n\u001b[0m",
      "\u001b[1;31mNameError\u001b[0m: name 'daycentralitiesH' is not defined"
     ]
    }
   ],
   "source": [
    "plotCentrality(df,daycentralitiesH, k = 20)"
   ]
  },
  {
   "cell_type": "code",
   "execution_count": 66,
   "id": "b9ea156b",
   "metadata": {},
   "outputs": [],
   "source": [
    "centralities = daycentralitiesH"
   ]
  },
  {
   "cell_type": "code",
   "execution_count": 67,
   "id": "f816fb5a",
   "metadata": {},
   "outputs": [],
   "source": [
    "\n",
    "\n",
    "restaurants = dict(sorted(centralities.items(), key=lambda item: item[1], reverse=True))\n",
    "\n",
    "restaurantsNames = {df.loc[u,'name'] : c for u,c in restaurants.items()}"
   ]
  },
  {
   "cell_type": "code",
   "execution_count": 69,
   "id": "5a7bfd4d",
   "metadata": {},
   "outputs": [
    {
     "data": {
      "text/plain": [
       "{'Trattoria Za Za': 0.5947068606297476,\n",
       " 'La Taverna di San Giuseppe': 0.5759352152934685,\n",
       " 'I Porci Comodi': 0.5724639114624297,\n",
       " 'Antico Travaglio - Osteria Gelateria': 0.5307304698124317,\n",
       " 'La Fortezza': 0.15902784564897612,\n",
       " 'Osteria La Pace': 0.1807083612245608,\n",
       " 'Osteria degli Svitati': 0.4993622134293107,\n",
       " 'Sette di Vino': 0.48964455096453874,\n",
       " 'Ristorante Da Gianni': 0.47673226499073845,\n",
       " 'Enoteca Tognoni': 0.4754541217613817,\n",
       " 'Il Ceppo Toscano': 0.4691953579814245,\n",
       " 'La Buca di Enea': 0.45760352151708866,\n",
       " 'Jhonny Paranza': 0.02733560833414964,\n",
       " 'Le Viste Ristorante': 0.44795454289141146,\n",
       " \"Porgi L'altra Pancia\": 0.44605683192058637,\n",
       " 'la Sosta del Priore': 0.4428855703604391,\n",
       " 'L’Ostellino': 0.4400287774282548,\n",
       " 'Antica Trattoria Papei': 0.43655454586336745,\n",
       " 'Osteria Permalico': 0.4343019411756429,\n",
       " 'Bel Soggiorno': 0.4333631822561458,\n",
       " 'Osteria Magona': 0.43080798757296773,\n",
       " 'La Lampara Capoliveri': 0.4295836159496333,\n",
       " \"I' Girone De' Ghiotti\": 0.42800872190246314,\n",
       " 'Osteria La Torre di Populonia': 0.42696724942039455,\n",
       " 'Lo Sfizio': 0.10766065883362645,\n",
       " 'Pesce Baracca': 0.419760880702807,\n",
       " 'Acquolina Pizza & Restaurant': 0.4161839018531811,\n",
       " 'Archivio del gusto': 0.41566507213126525,\n",
       " 'Strabuono': 0.4151854160415477,\n",
       " 'Osteria La Sosta di Violante': 0.41302365402873736,\n",
       " 'Echoes': 0.4064340065693235,\n",
       " \"Pizzeria L'Arte Bianca\": 0.40537556731788216,\n",
       " 'Bagoga': 0.4050078001607938,\n",
       " 'La Sosta di Pio VII': 0.4021452497146217,\n",
       " 'La Taverna dei Poeti': 0.3978047789077301,\n",
       " 'Antica Osteria da Divo': 0.396737019707881,\n",
       " 'trattoria Dai Frati': 0.3960494089406609,\n",
       " 'Gino Cacino di Angelo': 0.3939482495645513,\n",
       " 'Ristorante Peruca': 0.3928803447922433,\n",
       " 'Kontiki': 0.3913315658467113,\n",
       " 'La Vineria di Montepulciano': 0.39057913675318096,\n",
       " 'Ristorante Bel Mare': 0.3902078077351476,\n",
       " 'Ristorante Taverna del Grappolo Blu': 0.38578709638710296,\n",
       " \"L'OSTEria\": 0.38499616409941534,\n",
       " 'Da Piero': 0.38284655111439403,\n",
       " 'Restaurante Il Latini': 0.3807662966556181,\n",
       " 'Lo Spuntino': 0.37843984537034636,\n",
       " 'Ristorante Brandolino': 0.3779898792157104,\n",
       " 'Teorema Del Gusto': 0.377836813282403,\n",
       " 'Pretto': 0.3778195094082289,\n",
       " 'Il Bargello': 0.3761103950679146,\n",
       " 'Salegrosso': 0.375906130121712,\n",
       " 'Le Vecchie Mura': 0.3751143100808087,\n",
       " 'Ristorante Locanda La Mandragola': 0.3728412363022757,\n",
       " 'Ristorante Da Remo': 0.37251046944487,\n",
       " 'Ristorante Daria': 0.3688955635530729,\n",
       " \"L'Approdo\": 0.3682608572074367,\n",
       " 'Zitto & Mangia': 0.3679668303338912,\n",
       " 'Ristorante Da Giacomino': 0.36736016949161426,\n",
       " 'Ristorante Koala': 0.36654453184671665,\n",
       " 'Bisteccheria Santa Croce': 0.3662339962217309,\n",
       " 'Barkollo': 0.3662297084776238,\n",
       " 'Il Covo dei Briganti': 0.20776629218621764,\n",
       " 'Ristorante Il Ricettario': 0.36488062016219114,\n",
       " 'Taverna Squarcialupi': 0.36429381781133396,\n",
       " 'Mister Pizza': 1.1898387768457374e-05,\n",
       " 'Osteria del Borgo': 0.06082860710284349,\n",
       " 'Osteria del Noce': 0.3616923546432922,\n",
       " 'Osteria del Faro': 0.3608330532586586,\n",
       " \"Bar dell'Orso\": 0.3608184749893208,\n",
       " 'La Caravella': 0.36069285582414234,\n",
       " \"Trattoria Osteria dall'Oste Toscan kitchen\": 0.3604222141646866,\n",
       " 'Alle Logge di Piazza': 0.3603541709847645,\n",
       " 'Ristorante il Sottomarino': 0.3600386299785766,\n",
       " 'Trattoria Rigoletto': 0.3579357079346766,\n",
       " 'Encanto White': 0.35488562092099907,\n",
       " 'La Vecchia Lira': 0.35479774048335183,\n",
       " \"L'ottavo Vizio - Street Food / Food Porn Gourmet\": 0.35431963709260506,\n",
       " 'Ristorante Calafata': 0.35404868782108145,\n",
       " 'Il Vinaio di Bobbe e Davide': 0.35361398332508964,\n",
       " 'Ristoro Il Gatto e La Volpe': 0.3523576025726463,\n",
       " 'Trattoria Osenna': 0.3521701293888271,\n",
       " \"Antica Osteria l'Agania\": 0.35130519213505124,\n",
       " \"Chianineria Trattoria dall'Oste - Duomo\": 0.34989468792621403,\n",
       " 'Hosteria di Pantalla': 0.3496004824135176,\n",
       " 'Hard Rock Cafe': 0.3491691974352728,\n",
       " 'La Fettunta': 0.3491306887035595,\n",
       " \"L'Oste di Borgo\": 0.3474005369023911,\n",
       " 'Ai Vecchi Tempi': 0.34722074051654556,\n",
       " 'LA GROTTA TOSCANA (EX LA REPUBBLICA)': 0.3464471074395478,\n",
       " 'Il Bandierino': 0.3452844062842838,\n",
       " 'Garden SNC Dei Fratelli Petrocchi': 0.34475669161375216,\n",
       " 'Osteria Da Cice': 0.34436310599599795,\n",
       " 'I Fichi Secchi': 0.34411888576302746,\n",
       " 'Il Nutino': 0.3440606397813982,\n",
       " 'Antico Fattore': 0.34210760306637583,\n",
       " 'Osteria La Gricia': 0.340410924525031,\n",
       " 'Matto Matto': 0.3400907225443529,\n",
       " 'Osteria dei Quattro Rioni': 0.33997456755837413,\n",
       " 'Barbacoda': 0.33995600726494424,\n",
       " 'Il Ritrovino': 0.3399457174483326,\n",
       " 'La Pentolaccia': 0.33972987722782955,\n",
       " 'Ristorante Boccon DiVino': 0.3395130621540351,\n",
       " 'Sa Playa': 0.33882120631040197,\n",
       " 'Le Cappelle Medicee': 0.33878208040247887,\n",
       " 'Barbatoja': 0.338720514228091,\n",
       " 'Trattoria Fonte Giusta': 0.33809983149668943,\n",
       " 'Osteria Baccano Restaurant': 0.3374022192475025,\n",
       " 'Osteria da Mamma Carla': 0.3373825983807622,\n",
       " 'Bisteccheria de Il Vaticano': 0.3371913248636385,\n",
       " 'Locanda di Bruno': 0.33632374826566946,\n",
       " 'Trattoria Il Saraceno': 0.33586266182200847,\n",
       " 'Restaurant La Taverna del Pittore': 0.3356463553426313,\n",
       " 'Tahiti': 0.3353583723860135,\n",
       " 'Ozium': 0.33415223958994206,\n",
       " 'Antica Salumeria Salvini': 0.33303679773085876,\n",
       " 'Panineria Al Vicolino': 0.3326870935853797,\n",
       " 'Ristorante Osteria Del Mare': 0.33258977785756155,\n",
       " 'La Lucciola': 0.13332190581284248,\n",
       " 'Poderuccio': 0.33227846472288736,\n",
       " 'Ristorante Pizzeria Elena': 0.3320663322584626,\n",
       " 'Antica Macelleria Cecchini': 0.3312820104126797,\n",
       " 'Il Tramonto Beach': 0.3312460530537639,\n",
       " 'Osteria La Botte Gaia': 0.33104724368431304,\n",
       " 'Da Michele': 0.15942495031481418,\n",
       " 'Il Romito': 0.33073731692615416,\n",
       " 'Ristorante da Pilade': 0.33027304699274707,\n",
       " 'il ristoro di lamole': 0.32931067083814414,\n",
       " 'La Bucaccia da Romano': 0.32873543563346924,\n",
       " 'Osteria San Giovanni': 0.3285981378765513,\n",
       " 'Il Filibustiere': 0.3283249878677053,\n",
       " 'Risto Macelleria I Piaceri Della Carne': 0.3273975726456657,\n",
       " 'I Pescatori Orbetello - Centro Degustazione': 0.32646915625663103,\n",
       " 'La Locanda dei Tintori': 0.18316209975111225,\n",
       " 'Il Giardino': 0.3259611872159085,\n",
       " 'Osteria Porcellum': 0.32595292214263627,\n",
       " 'La Locanda del Borgo': 0.3246165916299667,\n",
       " 'Ristorante Al Moro': 0.32445728728967577,\n",
       " 'Osteria Baralla': 0.3243582322918492,\n",
       " 'In Pasta - Cibo e Convivio': 0.3237341486910511,\n",
       " 'Ristorante Trattoria La Corte': 0.32228494402855873,\n",
       " 'Osteria Locanda Cecconi': 0.32200545226330957,\n",
       " 'Trattoria il Giogo': 0.32133931059581383,\n",
       " 'Ristorante Numero Unico': 0.32122147087446146,\n",
       " 'Trattoria Toscana al Vecchio Forno - Historic Capitano Collection': 0.32095099774433794,\n",
       " 'Auditore Ristorante Braceria': 0.32084524761529715,\n",
       " \"Ristorante I' Nostrano\": 0.3203839642624902,\n",
       " \"Pomod'Oro - Pizzeria Gourmet\": 0.32037998065179046,\n",
       " 'Ristorante Il Sottoscala': 0.31949370805138905,\n",
       " 'Osteria La Chiacchera': 0.31938242694313523,\n",
       " 'Osteria del Proconsolo': 0.3188740408155676,\n",
       " 'Ristorante Hostaria Modi': 0.3188087094137856,\n",
       " 'Ristorante La Loggetta': 0.317539162801212,\n",
       " 'Enjoy': 0.10716608164808084,\n",
       " \"Ristorante L'Antica Fonte\": 0.3157311202348727,\n",
       " 'Fischi per Fiaschi': 0.3154904478402789,\n",
       " 'Ristorante le Torri Monteriggioni': 0.31531917454842656,\n",
       " 'La Lanterna': 0.02404306795396717,\n",
       " 'Osteria La Bottega di Anna e Leo': 0.314699508950134,\n",
       " 'Da Giulio': 0.3129896055922381,\n",
       " 'Umami': 0.3122968167332597,\n",
       " 'Osteria da Rosolo': 0.31193119026368676,\n",
       " 'Osteria il Carroccio': 0.311154020837332,\n",
       " 'Gli Attortellati': 0.31076064551524013,\n",
       " 'Antica Locanda Santa Fina': 0.31044867329678977,\n",
       " 'La Perla del Mare': 0.3103090425004608,\n",
       " 'Agriturismo Montefabbrello': 0.31028874506687637,\n",
       " 'Osteria I Santi': 0.30976261938246574,\n",
       " 'Cantinale': 0.30976146714767927,\n",
       " 'Alicina Hosteria': 0.3093248186465014,\n",
       " 'La Finestra': 0.3092975763517274,\n",
       " 'Osteria di Fonterutoli': 0.3092920914889545,\n",
       " 'Il Pontile Sul Mare Wine Bar': 0.3086391513684734,\n",
       " 'Gustarium': 0.3083349284238178,\n",
       " 'Ristorante Amaro Braceria': 0.3082324980059736,\n",
       " 'Ristorante La cantina del Mare': 0.3075006214513458,\n",
       " 'Ristorante Il Porto': 0.30734033458753696,\n",
       " 'Da Ciacco': 0.30733058921843215,\n",
       " 'La Terrazza del Chiostro': 0.30666956279393204,\n",
       " \"L'Angolo Tondo Trattoria\": 0.30651763520003655,\n",
       " \"Ristorante Pizzeria L'Aragosta\": 0.3063810281191552,\n",
       " 'Prezzemolina Risto': 0.30529898393963645,\n",
       " 'La Rustica': 0.20656666532239668,\n",
       " 'Skipper Beach Club': 0.3041632937585804,\n",
       " 'Locanda La Luna': 0.30394508769729683,\n",
       " 'La Prosciutteria - Firenze': 0.3038778684242674,\n",
       " 'Il Vecchio Borgo': 0.30336998174735386,\n",
       " 'Mirollino Beach': 0.3028722198866313,\n",
       " 'Ristorante Bologna': 0.14096982285990867,\n",
       " 'Bagno Laura - Bistrot di Mare e Beach Bar': 0.30271706571078055,\n",
       " 'Sabatini Firenze': 0.3026781989953803,\n",
       " 'Il Moro': 0.3020523757581379,\n",
       " 'Il Pozzo': 0.20152312354225413,\n",
       " 'Ristorante Aragosta': 0.08897552620630358,\n",
       " 'Osteria Pepenero': 0.3019433106775057,\n",
       " 'SottoSopra RistoPizza': 0.30189821582616705,\n",
       " 'Il Castello Restaurant': 0.30165163521690647,\n",
       " 'La Stregatta': 0.3012389881100235,\n",
       " 'Osteria e pizzeria Dal Moro': 0.30104629622007245,\n",
       " 'Osteria di Casa Chianti': 0.30050371441465357,\n",
       " 'Mattarello 22': 0.30022894394286737,\n",
       " 'Colle Bereto Lounge Bar': 0.2997892761047513,\n",
       " 'Ristomacelleria La imperiale': 0.2993296289309732,\n",
       " 'Hostaria del Ceccottino': 0.29906209208788864,\n",
       " 'La Vecchia Locanda': 0.29889011722803127,\n",
       " 'Budellino Pasta, Lampredotto e Vino': 0.2987967953311144,\n",
       " 'Ristorante Da Balbo': 0.2983608641621433,\n",
       " 'Trattoria Aurelia': 0.2974598791954186,\n",
       " 'La Bottega di Volpaia': 0.2972372056078567,\n",
       " 'Ristorante La Pineta': 0.2969172066711149,\n",
       " 'Trattoria di pesce il giardino': 0.2967973965765259,\n",
       " 'Osteria del Gusto': 0.12392743601518963,\n",
       " 'Ristorante #IlPasta': 0.2958976134409091,\n",
       " 'Taverna di Cecco': 0.29565087858191147,\n",
       " 'Ristorante La Taverna Del Barbarossa': 0.2952573066849898,\n",
       " 'Osteria Vecchio Vicolo': 0.2947974070562841,\n",
       " 'La Carabaccia': 0.0725165685389147,\n",
       " 'La Piccola Ciaccineria': 0.2943491210235703,\n",
       " 'dulcisinfundo': 0.29395120276703196,\n",
       " 'Lo Sgarbo': 0.29394244370465866,\n",
       " \"Osteria del Mare gia' Votapentole\": 0.29351771604788046,\n",
       " 'Trattoria Pizzeria Toscana': 0.29340552567793243,\n",
       " 'La Bottega di Giovannino': 0.29327235314764083,\n",
       " 'Osteria Pizzeria Il Vicolo': 0.2932159515038148,\n",
       " 'Ostaria dei Centopoveri': 0.2930945872554439,\n",
       " 'Ristorante Da Guido': 0.29277248350436524,\n",
       " 'Restaurant La Stella': 0.2925066077293517,\n",
       " 'Ristoro Pecorino': 0.29239591772108336,\n",
       " 'Bar Casella': 0.2919510340323077,\n",
       " \"Osteria Passaparola Nell'antico Frantoio\": 0.2916672412643301,\n",
       " 'Il Pino Solitario': 0.29145807589272726,\n",
       " 'Osteria del Gatto': 0.2908296181548954,\n",
       " 'Osteria Caccia Al Piano': 0.2906828178655585,\n",
       " 'Bar Trattoria Nostromo': 0.2904291284882056,\n",
       " 'Il Grifo Ristorante Pizzeria': 0.2902435769227139,\n",
       " 'A-mare Ristorante & Pizza': 0.2899775202607041,\n",
       " 'Zenzero': 0.09723266929892098,\n",
       " 'Ristorante Pizzeria Bagno il Faro': 0.2897538002097959,\n",
       " 'Art Cafe Wine Bar Roma': 0.28936954320073155,\n",
       " 'Raviolo e Raviolo': 0.28904204364498026,\n",
       " 'Ammare Bagno Sirena': 0.2889151178897075,\n",
       " 'Antica Macelleria e Ciberia Pucci': 0.2888060325101639,\n",
       " \"Chianineria - Trattoria Osteria dall'Oste\": 0.2886361735298168,\n",
       " \"Osteria de' Medici\": 0.2885802178622036,\n",
       " 'Ristorante Publius': 0.2882943047447664,\n",
       " 'Osteria San Michele': 0.2879781662705774,\n",
       " 'Da Poldo': 0.28797742365920237,\n",
       " 'Osteria la Miniera Del Gusto': 0.2878793136047155,\n",
       " 'Osteria Volturno': 0.2878466130159034,\n",
       " 'bar & food 62': 0.287650038947637,\n",
       " 'John Bistecchino': 0.2871283226752756,\n",
       " 'Fattoria Poggio Alloro': 0.2870521194222937,\n",
       " 'Il Retrogusto': 0.28694712302893177,\n",
       " 'Al Posto Accanto': 0.286939518631107,\n",
       " 'Osteria Il Trabaccolo': 0.286919171985314,\n",
       " 'Trattoria Da Maria Moretti': 0.286675493958187,\n",
       " 'Ristorante Da Pode at Hotel Sovestro': 0.28629964039903794,\n",
       " 'Osteria da Chichibio': 0.2858471805095346,\n",
       " 'Trattoria Fiorella': 0.2853025013685872,\n",
       " 'Ristorante Torre del Porcellino': 0.28517704118772264,\n",
       " 'Pasticceria Il Criollo': 0.2850877612586871,\n",
       " 'Ristorante Ciccarelli Esplanade': 0.28492259986286694,\n",
       " 'Il Chiostro - Griglieria': 0.2848860679142468,\n",
       " 'Ristorante Oltre il Giardino': 0.28485186969219833,\n",
       " 'BOLGHERI+': 0.284432869822981,\n",
       " 'The Gozzoviglio Tavern': 0.2843884731202857,\n",
       " 'Sperone Nudo': 0.28429592740980597,\n",
       " 'Merenderia Riserva Naturale': 0.2842788464428188,\n",
       " 'San Giorgio': 0.28408048420843107,\n",
       " 'Ristorante Da Andrea': 0.2838272649086585,\n",
       " 'Ristorante Tar- Tufo': 0.283394986524653,\n",
       " 'Osteria Porta di Bacco': 0.2831898113172972,\n",
       " 'Ristorante Pizzeria Riva Dei Cavalleggeri': 0.28311152495519265,\n",
       " 'Osteria del Tasso': 0.28307582499383804,\n",
       " 'Ristorante Il Feudo': 0.2822116434492617,\n",
       " 'Teatro Bistro & Wine Bar': 0.28203629999173846,\n",
       " 'Idyllium': 0.2815249424349302,\n",
       " 'Osteria GalloNero': 0.2813384204474841,\n",
       " 'La Grotta di Fulignano': 0.2811318204277086,\n",
       " 'Osteria Il Sigillo': 0.2806812301123944,\n",
       " 'Capo Nord': 0.28039428917643594,\n",
       " 'Teatro Del Mare': 0.2802981427247119,\n",
       " 'Trattoria La Buca delle Fate': 0.28016853511374745,\n",
       " 'OSTERIA AL PONTE': 0.2801104415347898,\n",
       " 'Olinto': 0.2798854552144373,\n",
       " 'Ristorante Antico Tempio': 0.2797979233702823,\n",
       " 'Osteria Di Poneta - Montecatini': 0.27979418206338286,\n",
       " 'Osteria del Neni': 0.2796663730499333,\n",
       " 'Sogni e Sapori Avocaderia': 0.27928905289848377,\n",
       " 'Ristorante Da Beppino': 0.2791801192639847,\n",
       " 'Chiantineria': 0.27912138581308027,\n",
       " 'Enoteca Gustavo Mescita Vini': 0.2791106937343414,\n",
       " 'Il Gabbiano': 0.23397809400194508,\n",
       " 'Ristorante La Speranza': 0.27894705666026015,\n",
       " 'Artidoro': 0.27893324278534665,\n",
       " 'Trattoria Mario': 0.2787879502776527,\n",
       " 'Trattoria Toscana': 0.2112491356542424,\n",
       " 'Ristorante La Dispensa': 0.27867321772703635,\n",
       " 'Trattoria Sciamadda': 0.2785000987142811,\n",
       " 'Trattoria di pesce La Darsena': 0.27848176150712645,\n",
       " 'Ristorante il Paiolo': 0.27841824733247117,\n",
       " 'Perseus': 0.27838817514887826,\n",
       " \"Ristoro dell'Amandolo\": 0.278255559637512,\n",
       " 'Osteria Vecchio Cancello': 0.27797970010073303,\n",
       " 'Trattoria Da Santarino': 0.2776476504518872,\n",
       " \"All'Orto De' Pecci\": 0.2775914240657556,\n",
       " 'La Chiocciola': 0.2773055746466115,\n",
       " 'Zafferano by Casanova di Pescille': 0.2772045713990422,\n",
       " 'Wine Bar Grotta del Brunello': 0.2771009707838241,\n",
       " 'Acqua di Rosa': 0.27708679789026347,\n",
       " 'La Pappalpomodoro Di Foschetti Annalisa': 0.2769245616648769,\n",
       " 'Osteria I Quattro Gatti': 0.27689763529351635,\n",
       " 'Osteria dei Poeti': 0.1462933677942246,\n",
       " \"Buca di Sant'Antonio\": 0.2768015744000969,\n",
       " 'Osteria del Bastian Contrario': 0.27676678833354257,\n",
       " 'Ristorante da Lino': 0.2767097832575574,\n",
       " 'Taverna dei Boncompagni': 0.27651584461297235,\n",
       " \"L'isola che non c'era\": 0.27633959558566734,\n",
       " 'Pastinaca Vegetarian Restaurant': 0.27610348127708784,\n",
       " \"Locanda dell'Aioncino\": 0.2760780134526606,\n",
       " 'Da Paolo': 0.2754189262493833,\n",
       " \"L'Osteria di Giovanni\": 0.2754037277678624,\n",
       " 'La Carbonaia BBQ Restaurant.': 0.2747519774899333,\n",
       " 'Pizza Napoli 1955': 0.27447103670711875,\n",
       " 'Mattacena': 0.27328971525070545,\n",
       " 'Ristorante Pizzeria La Ventola': 0.27324116071978405,\n",
       " \"Trattoria Bel Mi' Colle\": 0.2728707967338725,\n",
       " 'B Cucina & Pizza': 0.2727136376166744,\n",
       " 'Osteria in domo': 0.2722316787220378,\n",
       " 'Le Chicche di Cala Moresca Gia del Porto': 0.2721262480203019,\n",
       " 'Bitta 20': 0.11009477801311211,\n",
       " 'Trattoria di Cagnano': 0.271849756789773,\n",
       " 'La Bussola': 0.14936325003402395,\n",
       " 'La Scaletta': 0.16564817222279662,\n",
       " 'Trattoria Cupi': 0.2715746505973583,\n",
       " 'Ristorante Fratelli Catarsi': 0.2714892753090618,\n",
       " 'Gilda': 0.27123975316837234,\n",
       " 'D!Vineria': 0.27108754339053515,\n",
       " 'La taverna di Re Artu': 0.27087697889469975,\n",
       " 'Ristorante Il Bargello': 0.2707577636611061,\n",
       " 'I Paccheri': 0.2707571005603291,\n",
       " 'Casa Sordi On Street': 0.27007138813909615,\n",
       " 'Il Frantoio': 0.004325117276927128,\n",
       " 'Il Trovatore': 0.26920840683547503,\n",
       " 'La Sosta': 0.26918094414140575,\n",
       " 'La Solita Zuppa': 0.2690590276475576,\n",
       " 'Trattoria Il Grillo': 0.2686538358950254,\n",
       " 'Bagno Venezia': 0.2684984511658231,\n",
       " 'Osteria Parlascio': 0.26795206215006606,\n",
       " 'Merenderia Pappasole': 0.26764902001786395,\n",
       " 'Pizzeria Spaghetteria GalloBianco': 0.2675766090897663,\n",
       " 'I due Pini': 0.2672491774684385,\n",
       " 'Ristorante Lo Scoglietto': 0.2671383119956008,\n",
       " 'Il Poggetto': 0.011784885647994696,\n",
       " 'Bagno Sole Ristorante': 0.2663588747405509,\n",
       " 'Il Beccofino': 0.2103579189700583,\n",
       " 'Baroni': 0.26607012420557213,\n",
       " 'Il Bolognese da Sauro': 0.26602039601307315,\n",
       " 'Ciri 6': 0.26586162186245854,\n",
       " 'Antica Osteria di Bazzino': 0.2658511357511555,\n",
       " 'La Lisca': 0.2657108822408165,\n",
       " 'Molo G Osteria Portuale': 0.26570953130010466,\n",
       " 'Franco Mare': 0.2655662090320229,\n",
       " 'Antica Trattoria Il Marzocco': 0.26556300434160346,\n",
       " 'Scarlett Pizza & Tiramisu': 0.05901679217807903,\n",
       " 'Locanda del Pozzo Antico': 0.26531468215842186,\n",
       " 'Oltrepizza': 0.2652159239369772,\n",
       " 'La Cascia': 0.2650199192057111,\n",
       " 'Ristorante Osteria Sapori Di Maremma': 0.2649561239677426,\n",
       " 'Bacco & Cerere 2.0': 0.2647138382660256,\n",
       " 'Il Giardino della Taverna di Populonia': 0.2645626796625409,\n",
       " 'Trattoria Diladdarno': 0.2644786950085669,\n",
       " 'Ristorante Il Vecchio Frantoio': 0.2644149767298173,\n",
       " 'Ristorante Le Pietre Vive': 0.26422168724606665,\n",
       " 'La Taverna del Torchio': 0.26393433516598547,\n",
       " 'Villa La Boccia': 0.2637172270718874,\n",
       " 'Ristorante 4 Con': 0.26365744552835185,\n",
       " 'Il Pizzaiuolo': 0.2636079859921035,\n",
       " 'La Botega Pinseria': 0.2635708137103576,\n",
       " 'Taverna Via di Mezzo': 0.26335781736322567,\n",
       " 'Santa Lucia - Beach & Restaurant': 0.26331674188910553,\n",
       " 'Ristorante La Bottega Di Morello': 0.2631358140500535,\n",
       " 'Il Peperoncino': 0.2629282579476012,\n",
       " 'Da Floriano': 0.2627271108782682,\n",
       " 'Caffe Concerto Paszkowski': 0.2626357533711832,\n",
       " 'Blue Bandit': 0.26251167226194294,\n",
       " 'Osteria le Logge': 0.26234455483898805,\n",
       " 'Al Tramonto': 0.2622717593307092,\n",
       " \"Ristorante Dell'Hotel La Conchiglia\": 0.033193237612347964,\n",
       " 'Ristorante Malborghetto': 0.2619921184777286,\n",
       " 'Lavintage Bistrot': 0.26194167410210234,\n",
       " 'Calanova': 0.26179768954803595,\n",
       " 'Osteria Le Panzanelle': 0.261670525490381,\n",
       " 'Osteria del Conte': 0.261613029129976,\n",
       " 'Il Signorino': 0.2612890715396422,\n",
       " 'Il Bufalo Trippone': 0.26117229411122694,\n",
       " 'Tito del Molo': 0.26109299009256126,\n",
       " 'Pizzeria Il Palio': 0.26101488562104563,\n",
       " 'Ristorante dal Cacini': 0.26101087222008446,\n",
       " 'La Bottega Del Mare': 0.26089850715225166,\n",
       " 'Cacio e Vino di Galvani Laura': 0.2608198233376889,\n",
       " 'Bubula - Cucina di Maremma': 0.26072348989008914,\n",
       " 'Fish Nude': 0.26054689055917174,\n",
       " 'Bar Ristorante Il Cacciatore': 0.26034829749489624,\n",
       " 'Capezzolo': 0.26029022193227996,\n",
       " 'Il Veliero Lido': 0.2602219031471135,\n",
       " 'Osteria del Leone': 0.2602204428534074,\n",
       " 'Osteria Il Ristoro': 0.26013833280715737,\n",
       " \"Ristorante Lorenzo de' Medici\": 0.2601176136245594,\n",
       " 'La Taverna della Berardenga': 0.2597706284651983,\n",
       " 'Caffe & Ristorante La Loggia': 0.25960370914544184,\n",
       " 'Trattoria Doria': 0.2594965807193452,\n",
       " 'La Piazzetta': 0.02258424800528301,\n",
       " 'Il Grillo Moro': 0.2594797129902513,\n",
       " 'Il Fienile': 0.08202926207695282,\n",
       " 'Trattoria Ponte Vecchio': 0.25910584595550923,\n",
       " 'Enoteca La Dolce Vita': 0.2590435105716581,\n",
       " 'Mama Burger': 0.25893859111036166,\n",
       " 'Pestello': 0.2588729521172215,\n",
       " \"LA PERLA dell'Ostricaio\": 0.2587934783097207,\n",
       " 'Gallo Nero': 0.04722553425033771,\n",
       " 'Bar DiVino': 0.25823508429065184,\n",
       " 'Ristorante Pizzeria Jolly Beach': 0.2582173888521909,\n",
       " 'nana banana': 0.25772149145776424,\n",
       " 'Il Garibaldi Innamorato': 0.25757256905050574,\n",
       " 'Caffe Roma': 0.14577842036364283,\n",
       " 'Perbacco Wine Experience': 0.2573849030258099,\n",
       " 'Ristorante Dal Greco': 0.2573150126931768,\n",
       " 'I’Brindellone': 0.25712466984622995,\n",
       " 'Braceria Spizzichi e Bocconi': 0.2568334111616846,\n",
       " 'Bagno Principe': 0.2567857932093331,\n",
       " 'Antica Fonte': 0.25669325538433185,\n",
       " 'Il Rifocillo': 0.1521301494855202,\n",
       " 'La Tana del Drago': 0.25636840225254837,\n",
       " 'Enoteca Ristorante La Stazione': 0.2563559702450026,\n",
       " 'Cutty Sark': 0.25629626669582084,\n",
       " 'Bar Ucci': 0.2561142091322451,\n",
       " 'La Compagnia dei Vinattieri': 0.2560819518335295,\n",
       " 'Cacio e vino': 0.25594125579063143,\n",
       " 'La Dogana': 0.002748166456115679,\n",
       " \"Trattoria l'Angolo da Cesare e Mara\": 0.25548027068670276,\n",
       " 'La Locanda di Vergelle': 0.25547103045627767,\n",
       " 'La Casa Rossa': 0.25532293441060167,\n",
       " 'Pizzeria Spaghetteria Il Mare': 0.25528504249840994,\n",
       " 'Antico Caffe Cattan': 0.25522992015331586,\n",
       " 'Casato Restaurant': 0.2552239260739945,\n",
       " 'Osteria Il Recinto': 0.254845012493776,\n",
       " 'Osteria da Gano': 0.25480269346523815,\n",
       " 'Sartu': 0.25469603038821687,\n",
       " 'La Vecchia Nicchia': 0.2545259465350529,\n",
       " 'Paolina Beach Club': 0.25441014009151636,\n",
       " 'Il Cantuccio': 0.02573233673797563,\n",
       " 'Sotto le Logge del Papa': 0.2541571029697068,\n",
       " 'Il Nuovo Grottino': 0.2539135936776999,\n",
       " 'Trattoria Da Bule': 0.25387741422795335,\n",
       " 'Il Cardellino': 0.25372749236838815,\n",
       " 'Pinseria Etrusca': 0.2535801747600114,\n",
       " 'Ristorante La Grotta': 0.18940567668519112,\n",
       " 'Il Leccio': 0.25315700828066107,\n",
       " 'Ristorante Il Moletto': 0.2527901359434843,\n",
       " 'Osteria La Porta': 0.25273948646619393,\n",
       " 'Ristorante Affrichella': 0.2527142477666268,\n",
       " 'Agriristoro La Cesarina': 0.2525967827519401,\n",
       " 'Ristorante il Qubo': 0.2525433666549407,\n",
       " 'Pizzeria Alle Scalette': 0.2524467289608757,\n",
       " 'Ristorante 3P': 0.25208895339692067,\n",
       " 'Al Rifugio': 0.2517408375805557,\n",
       " 'Pizz & Core': 0.25171986577943867,\n",
       " 'Fiumara': 0.25167226533788406,\n",
       " 'La Terrazza': 0.09075155613557925,\n",
       " 'Mare Mosso': 0.25158959320227997,\n",
       " 'Ristorante La Briciola': 0.2515430680014777,\n",
       " 'Osteria del Teatro': 0.2515263209307669,\n",
       " 'Mistral Cafe': 0.25145327336398965,\n",
       " 'Ristorante Elefante Marino': 0.25134200672965157,\n",
       " 'Ristorante Aguglia': 0.251152116844602,\n",
       " '\"La Griglia\"': 0.2511404586341148,\n",
       " 'Ristorante La Pieve': 0.041478491726091346,\n",
       " 'La Battigia': 0.2511270400144412,\n",
       " 'MAMA fish': 0.25090097973076786,\n",
       " 'Il Feudo': 0.2508984246633382,\n",
       " 'La Gramola': 0.25084608074894754,\n",
       " 'Antica Trattoria La Toppa': 0.2507893609608901,\n",
       " \"Osteria l'Imbarco\": 0.2506542080419181,\n",
       " 'Osteria de Pitti': 0.2505540393437808,\n",
       " 'El Curandero': 0.25051141276542416,\n",
       " 'La Bistecca - Osteria Fiorentina': 0.2501095208572748,\n",
       " 'La Mangiatoia': 0.09289953565795422,\n",
       " 'La Menagere': 0.24992957061922094,\n",
       " 'Ristorante 13 Gobbi': 0.24978438200601114,\n",
       " 'Il Tagliapasta': 0.24972805388638,\n",
       " 'MisterWinePub': 0.2495620869706308,\n",
       " 'Pizza Al Volo': 0.07993986077135024,\n",
       " 'Garden Bar': 0.24953935931724142,\n",
       " 'Osteria la Barrocciaia': 0.2494626710568335,\n",
       " 'Ristorante Pizzeria Il Garibaldino': 0.2494473105535172,\n",
       " 'Taverna dei Pirati': 0.2493648036249384,\n",
       " 'Osteria Antica Mescita San Niccolo': 0.24927013347960886,\n",
       " 'Ci Ri So': 0.24906411267682796,\n",
       " \"L'Osteria - Cucina Casalinga\": 0.24900835167201424,\n",
       " 'Coquinarius': 0.2487898864110464,\n",
       " 'Al Fierale - ToscanaGrill': 0.24873829827590657,\n",
       " 'Antica Trattoria La Torre': 0.24864028591576118,\n",
       " 'Cantine Bernardini': 0.248352555022491,\n",
       " 'Ristorante Il 13': 0.24819502825767734,\n",
       " 'Ristorante La Peniche': 0.24791129732698394,\n",
       " 'Panini Toscani': 0.24789461780540642,\n",
       " \"Battil'Oro\": 0.24764113051443426,\n",
       " 'Il Doge': 0.24751514766462296,\n",
       " 'Il Tufo Allegro': 0.24747857973577247,\n",
       " 'Cantina Vasari': 0.24746342359378665,\n",
       " 'Porto di Mare': 0.2473071224365234,\n",
       " 'Il Garibaldi': 0.2472986890939383,\n",
       " 'Trattoria La Porticina': 0.24701649911646142,\n",
       " 'Pizzeria La Taverna': 0.24699264462371046,\n",
       " 'Osteria Tanaliberatutti': 0.24689732989270047,\n",
       " 'Osteria Grassini': 0.24679799162318225,\n",
       " 'La Vin Osteria': 0.24670824579882183,\n",
       " \"'O Scugnizzo\": 0.24669663554838567,\n",
       " \"Osteria di Suvereto da I'Ciocio\": 0.24668695275584587,\n",
       " 'Sophie': 0.24657280173408866,\n",
       " 'Papaveri e Papere': 0.24653537482723423,\n",
       " 'La Martinicca': 0.24652884614744577,\n",
       " 'La Schiacciateria walking food': 0.24626491097045722,\n",
       " 'Osteria Maremmana Da Giovanna': 0.24623075144539755,\n",
       " 'La Bottega di Portanuova': 0.24613318103186224,\n",
       " 'Ristorante la Vineria': 0.24611984339461526,\n",
       " 'Anima di Grano Pizzeria Napoletana Pisa Italy': 0.24583478643565376,\n",
       " 'Caffe Giardino': 0.24583243969299448,\n",
       " 'La Piada per Strada': 0.2457838760930037,\n",
       " 'Ristorante Fonte alla Vena': 0.24576760203868192,\n",
       " 'Zio Meino': 0.2457014204729683,\n",
       " 'Cala Felice Beach Club': 0.2456933426489243,\n",
       " 'Trattoria La Torre da Carla': 0.24549148359110873,\n",
       " 'Il Sorpasso Bistro': 0.24509324059729962,\n",
       " 'Portanova Hosteria Enoteca': 0.2450677387574364,\n",
       " 'Ristorante Agriturismo Il Melograno di Banditella': 0.24481401915388454,\n",
       " 'Osteria del Nonno': 0.24468397199196276,\n",
       " 'Ristorante da Luciano': 0.24460488191689528,\n",
       " 'Osteria Cafe Pizzeria BardoVino': 0.24447287299002765,\n",
       " 'Temakinho Florence Strozzi': 0.24430708681421678,\n",
       " 'Bagni Trieste': 0.24428755603087454,\n",
       " 'Enogastronomia Agrietruria': 0.24406761528906212,\n",
       " 'Ristorante Grigolo': 0.2440453475800528,\n",
       " \"Piranha's Home Made Restaurant\": 0.2439481123581633,\n",
       " 'Da Gianni': 0.24392915854350777,\n",
       " 'Il Canniccio': 0.24391255934090317,\n",
       " \"L'enoteca E Non Solo\": 0.24385753559406956,\n",
       " 'La Tavernetta': 0.24365389514001887,\n",
       " 'Stabilimento balneare Tropical Marina di Campo': 0.24363408313054774,\n",
       " 'Vivace': 0.24342874366432232,\n",
       " 'Osteria Ristorante San Quirico': 0.24325499743550205,\n",
       " 'Marina Vecchia': 0.2432038744243061,\n",
       " 'Osteria di Fuori Porta': 0.24305808867906983,\n",
       " 'La Perla Beach': 0.24258888806913062,\n",
       " 'Ristorante Giglio Rosso': 0.2423119226750476,\n",
       " 'Il Barrino di Tatti': 0.24216832378701136,\n",
       " 'Il Goccetto Vino e Taglieri': 0.24199146954642492,\n",
       " \"La Taverna dell'Ozio\": 0.2418931983989845,\n",
       " 'Mastarna Pub': 0.24188517926980896,\n",
       " 'Trattoria La Casalinga': 0.24174337487744535,\n",
       " 'Osteria delle Grazie': 0.24172025043194714,\n",
       " 'Pane e Vino': 0.24160168909868915,\n",
       " 'Trattoria I Barberi': 0.24131992137789088,\n",
       " 'Sole Luna': 0.24118883907450292,\n",
       " 'Osteria Antica Casa Torre': 0.2411090869576948,\n",
       " 'Osteria Santa Caterina': 0.24101905119047295,\n",
       " 'Caffe Degli Amici': 0.24083282461132044,\n",
       " 'Trattoria Pizzeria La Tavernetta': 0.24055181166441184,\n",
       " 'Pescetarian': 0.24027036218764952,\n",
       " 'Ristorante La Pinetina': 0.24022321072247027,\n",
       " 'Le Logge Bistrot': 0.24019747953917372,\n",
       " 'Osteria Il RitroVino': 0.24018079785184054,\n",
       " 'La terra di mezzo': 0.2401077647981653,\n",
       " 'Rugantino': 0.24005600895077286,\n",
       " 'Al Tocco': 0.17884769723913138,\n",
       " 'Pane e Olio': 0.24005052728433748,\n",
       " 'Trattoria Il Deserto': 0.2399322793646503,\n",
       " 'Osteria del Mare': 0.17604166047990027,\n",
       " 'Torretta Vecchia': 0.23977485351221473,\n",
       " '\"le Miniere\" Trattoria Pizzeria': 0.23969002799309577,\n",
       " 'Osteria del Fiore': 0.23964576835445459,\n",
       " 'Daniele e Riccardo Ristorante': 0.23957722884263566,\n",
       " 'Casablanca Ristorante Pizzeria': 0.23956118355922093,\n",
       " 'Osteria Boccon del Prete': 0.23955404236569589,\n",
       " 'Ristorante Il Tarlo': 0.23945915182668615,\n",
       " 'La Taverna di Baietto': 0.23931605578534904,\n",
       " 'Trattoria e Pizzeria A Casa Mia': 0.23916686819915176,\n",
       " 'Ristorante della Fattoria Il Poggio': 0.23913839543766466,\n",
       " 'Ristorante Dal Meraviglioso': 0.2390672482098579,\n",
       " 'Mangiando Mangiando': 0.23890776646652306,\n",
       " 'Trattoria - Pizzeria \"Il Vicoletto\"': 0.2388575689922628,\n",
       " 'La Vivienda': 0.23884528117048534,\n",
       " 'Trattoria Il Capitano': 0.23883212904451923,\n",
       " 'Ristorante Al Fosso Reale': 0.23879185825081317,\n",
       " \"L'Oro di Siena\": 0.23872907155291542,\n",
       " 'Lunasia': 0.23871714400855168,\n",
       " 'Ristorante Da Maria Capalbio': 0.23860447646259464,\n",
       " 'Trattoria da Garibardi': 0.2386035616449741,\n",
       " \"Gerry's Food - Ristorante Pizzeria Da Gerry\": 0.23837437889301882,\n",
       " 'La Lampara Trattoria & pizzeria Napoletana portoferraio': 0.23816863792128867,\n",
       " 'Ristorante OLIVIERO 1962': 0.2381236898962484,\n",
       " 'Ristorante Il Granaio': 0.12150433323334638,\n",
       " 'La Centrale Gourmet': 0.23785028849893958,\n",
       " 'Ristorante Brasserie La Barcaccina': 0.23776019224318054,\n",
       " 'Ristorante Bagni La Padulella': 0.23775121078744257,\n",
       " 'La Porchetteria': 0.23761909072106852,\n",
       " 'Il Rifrullo': 0.10592325008208248,\n",
       " 'Osteria Sul Mare': 0.2374919250733377,\n",
       " 'Messer Lampredotto': 0.23744985713904426,\n",
       " 'Trattoria del Sub - Dal Pirata': 0.2373702953413873,\n",
       " 'Stuzzicheria di Mare': 0.2372159135502074,\n",
       " 'Lo Sfizio 2.0': 0.23720097542498764,\n",
       " 'La Capannina Sul Lago': 0.23714538271068222,\n",
       " 'Cacio Vino Trallalla': 0.23714116281984784,\n",
       " 'Ristorante Benedicta': 0.23712126305050185,\n",
       " 'La Regina Di Napoli': 0.23701836411258298,\n",
       " 'Da Oreste La Strega': 0.23687654207513242,\n",
       " 'Poggio Il Masseto': 0.23686409948487577,\n",
       " 'Il Vicoletto': 0.23666078413055952,\n",
       " 'Pizzeria Alido': 0.23659184425428997,\n",
       " 'Vizio Antico': 0.23621457791334546,\n",
       " \"Ristorante L'Ovosodo\": 0.23620414051513325,\n",
       " 'Ristorante AcquaBorra': 0.23614649493440115,\n",
       " 'Gelateria Buekke': 0.23614323993760555,\n",
       " 'Gourmet Con Gusto': 0.23598793531485737,\n",
       " 'La Baracca': 0.23594903746961654,\n",
       " 'La Biscondola': 0.23590279894346972,\n",
       " \"Osteria dell' ultimo carbonaio\": 0.23581734711216076,\n",
       " \"L'Altro Cantuccio Ristorante\": 0.23578871997663267,\n",
       " 'Ristorante Pizza In Da Franco': 0.2354923037272801,\n",
       " 'Ristorante Pizzeria Oasi': 0.23531948742464937,\n",
       " 'Il Pirata': 0.23526654193933505,\n",
       " 'La Tana Del Ghiro': 0.23521356280922256,\n",
       " 'La Mensa del Conte': 0.2349719822861208,\n",
       " 'Olive': 0.23496210960351957,\n",
       " 'Lupo cantero': 0.23473076890281727,\n",
       " 'La Cantina': 0.12446657950273066,\n",
       " 'Agriristoro Focacceria La Dogana': 0.23461615256257612,\n",
       " 'Fondo': 0.2345651061586356,\n",
       " 'The Life Bistrot - Plant Based Restaurant - Archaeological Site': 0.2345246913139574,\n",
       " 'Ristorante Macchiascandona': 0.2342695921932425,\n",
       " 'Quarantuno': 0.23423204065199907,\n",
       " 'Bar Fuori Controllo': 0.23418888406513935,\n",
       " 'Dal Moro (Casa Moro)': 0.23413829379136727,\n",
       " 'Cum Quibus': 0.23407438659677435,\n",
       " 'Enso Caffe': 0.23402633371699552,\n",
       " 'Le Cicogne': 0.23385929719591259,\n",
       " 'Officina Della Bistecca': 0.2337852003297008,\n",
       " 'Osteria del Cinghiale Bianco': 0.2337758497022221,\n",
       " \"L'indicatore\": 0.23376277630566272,\n",
       " 'La Buca': 0.23376098980364665,\n",
       " 'Hippocampus Campo Regio': 0.23373565855435732,\n",
       " 'Enoteca DiVinorum': 0.23357150520287448,\n",
       " 'La Barca': 0.19193957604644285,\n",
       " 'Ristorante La Mi Casa': 0.2331897153349081,\n",
       " 'Ristorante Pizzeria Venezia': 0.23315098547450636,\n",
       " 'Osteria Acquacheta': 0.2330119955084232,\n",
       " \"L'Osteria Baccus\": 0.23296321784060403,\n",
       " 'Ristorante Coccolino': 0.23294339625765484,\n",
       " 'Antichi Sapori': 0.23279600541093717,\n",
       " 'I Palmenti': 0.23273840755451375,\n",
       " 'Mozzarella e Basilico': 0.23273530426255162,\n",
       " 'VolaterrA': 0.23263707552207596,\n",
       " 'Vineria CIAO dal Chiodo': 0.2324926009212472,\n",
       " 'Il Guerrino': 0.23225137071737909,\n",
       " 'La Tonnina': 0.23223848473711273,\n",
       " 'Grill Mistral': 0.2321447043929571,\n",
       " 'Emanuel Bistrot di Mare': 0.231891869724104,\n",
       " 'La Torretta Chianciano': 0.23179909570031312,\n",
       " 'Osteria Della Luna': 0.2314915690278715,\n",
       " 'Il Barilotto': 0.23144972881128648,\n",
       " 'La Prosciutteria Siena': 0.23143933124039107,\n",
       " 'Mugolone': 0.23142873077492415,\n",
       " 'Boccaporto': 0.23142033037298523,\n",
       " 'Antica Osteria Toscana': 0.23134812755126372,\n",
       " \"Caffe' Ginori\": 0.23120905819855395,\n",
       " 'Lorens': 0.23101582076113789,\n",
       " 'Antica Osteria di Montecarelli': 0.23096270850475925,\n",
       " 'Malindi Pizzeria Napoletana': 0.2308926864876995,\n",
       " 'Trattoria Pizzeria da Nasone': 0.23089175009231974,\n",
       " 'La terra di nello': 0.23079685062459543,\n",
       " \"L'Ottavo\": 0.23070159645607408,\n",
       " 'La Trattoria Enrico Bartolini': 0.2306166843420076,\n",
       " 'Gimmy Gio': 0.23048149535879997,\n",
       " 'I Fratellini': 0.23034052462067062,\n",
       " 'La Dea Partenope': 0.2302898001587982,\n",
       " 'Pescheria Friggitoria DA Maria & Massimo': 0.23025296225369132,\n",
       " 'Da Gherardo': 0.2301385813662115,\n",
       " 'Ristorante IL FANTA': 0.2300286610581678,\n",
       " 'La Capannina': 0.0692606649797167,\n",
       " 'La Taverna del Patriarca': 0.0,\n",
       " 'Taverna Etrusca': 0.22965813892425804,\n",
       " 'Osteria di Cecchi e Valentini': 0.22965314804697126,\n",
       " 'Pizzeria il Fondaccio': 0.22959333445259913,\n",
       " 'Antica Osteria Il Rifugio': 0.2295744497615134,\n",
       " 'Aji Tei': 0.22954245849732888,\n",
       " 'Dopolavoro La Foce': 0.22946183183333405,\n",
       " 'Riopizza': 0.22937307252254444,\n",
       " 'Bar Il Palio': 0.22931328461472927,\n",
       " 'Paradisino Beach Club': 0.22914962799499086,\n",
       " 'Ristorante Il Poeta': 0.22905106019031266,\n",
       " 'Rosticceria Il Re Gallo': 0.22904818196277674,\n",
       " 'Ristorante Piccolo Chianti': 0.2288828983835737,\n",
       " 'Trattoria da Ghigo': 0.22880950227917124,\n",
       " 'Trattoria Pizzeria La Taverna': 0.22872516964879136,\n",
       " \"Brambilla's Delivery\": 0.22872441670331844,\n",
       " 'Basilico Pinsa e Birra': 0.22868711434482725,\n",
       " 'Terreno Ristorante': 0.22857925137864712,\n",
       " 'FISHING LAB Alle Murate': 0.22856808034367315,\n",
       " \"Osteria L'Antica Quercia\": 0.22848721678381742,\n",
       " 'Pizzeria Alleegee': 0.22843069850578346,\n",
       " \"S'a di d'anda\": 0.22838159395914742,\n",
       " 'Pizzeria Ristorante di Nonno Mede': 0.22835163024169328,\n",
       " 'Antica Porchetteria Granieri 1916': 0.22830590485795446,\n",
       " 'Osteria Del Carcere': 0.22822526264100293,\n",
       " 'La Baracchina': 0.13198630388284774,\n",
       " 'La Locanda di Ansedonia GRIGLIO \"io\"': 0.22821170720661077,\n",
       " 'Ristorante San Domenico': 0.22820475304119459,\n",
       " 'Ristorante Bar Maitu': 0.22816191654348528,\n",
       " 'Trattoria Guelfa': 0.2281589312554602,\n",
       " 'La Foresta': 0.22813417790512594,\n",
       " 'San Paolo Pub': 0.22812913797467926,\n",
       " 'FOODY FARM Firenze': 0.22809324794066207,\n",
       " 'Triocco': 0.22807476257956538,\n",
       " 'Cantinetta Delle Terme': 0.22795246699567084,\n",
       " 'Trattoria 4 Leoni': 0.22791068674316206,\n",
       " 'Pizzeria Mum and Dad': 0.22777252452244165,\n",
       " 'Rosticceria trattoria RED DEVIL': 0.22765729660766176,\n",
       " 'Baccano Il Panino Toscano': 0.22763959308575313,\n",
       " 'Civico 7': 0.227631695896262,\n",
       " 'Trattoria La Selva': 0.2275788720060183,\n",
       " 'La Fiaschetteria': 0.05628353493070189,\n",
       " 'Ristorante Bistrot La Grande Bellezza': 0.22740208441063745,\n",
       " 'La Locandina': 0.2273251873411601,\n",
       " 'Porcavacca': 0.22730919763219531,\n",
       " 'Salefino Vino e Cucina': 0.22723270770062315,\n",
       " 'Gabbiano 3.0': 0.2270422090207395,\n",
       " 'Ristorante Pizzeria Tre Spicchi': 0.22696911181105003,\n",
       " 'La Voglia Matta': 0.0,\n",
       " 'Branzo Viareggio': 0.2268025455148323,\n",
       " 'La Sosta Del Buttero': 0.226716187078727,\n",
       " 'Osteria La Posta': 0.22664402118157745,\n",
       " 'La Bolgherese': 0.22653955381691457,\n",
       " 'Angolo Della Pizza': 0.22637953840464403,\n",
       " 'Ristorante Azienda Agricola La Miona': 0.2263531968431733,\n",
       " 'Bar Ristoro le Cascate': 0.22634739020757608,\n",
       " 'Le Bar a Vins': 0.22625948841656685,\n",
       " \"Hotel Ristorante L'Ogliera\": 0.22618247605384686,\n",
       " 'Le Chicche Toscane - Spizzicheria': 0.2257504443739439,\n",
       " 'La Loggia del Chianti': 0.22566073953118296,\n",
       " 'Pizzeria Da Nanni': 0.2256493989160454,\n",
       " 'Caffe Poliziano': 0.22554240295773595,\n",
       " 'Sottacqua': 0.22537786789372796,\n",
       " 'Per Piacere': 0.22533261326752163,\n",
       " 'Alimentari Uffizi': 0.22525576020054588,\n",
       " 'Ristorante Il Doretto': 0.2252125193971927,\n",
       " 'Leccio Moro': 0.22521154392629353,\n",
       " \"Pizzeria O' Vesuvio\": 0.09260704093066045,\n",
       " 'Osteria Il Papero': 0.224994827990906,\n",
       " 'Osteria dei Cavalieri': 0.22499025755149935,\n",
       " 'Ristorante Vivo': 0.224866333824876,\n",
       " 'Taverna Le Cose Buone': 0.2246956565407488,\n",
       " 'Pizzeria Trattoria da Emilio': 0.22461462030960525,\n",
       " \"I' Circolo di Sovigliana\": 0.22447787435391336,\n",
       " 'Bar Leonardo': 0.22447787435391336,\n",
       " 'Officina Gastronomica': 0.22447286853717768,\n",
       " 'Rinuccio 1180': 0.22444154947299358,\n",
       " 'Bardo Al Mare': 0.2244370372809824,\n",
       " 'Il Delfino Verde': 0.22439047155203676,\n",
       " 'Il Faro': 0.11746331663707198,\n",
       " 'La Cisterna nel Borgo': 0.22416872705650484,\n",
       " 'Konnubio': 0.2241372818911374,\n",
       " 'Franchino Garage': 0.22413421712855935,\n",
       " 'Mastro Titta': 0.2241175991234554,\n",
       " 'Ristorante Pepenero': 0.22393801300432803,\n",
       " 'Oltre il Gusto': 0.2238827810422086,\n",
       " 'La Cascina': 0.22373390942037402,\n",
       " 'Trattoria Albana': 0.22345571993413157,\n",
       " 'Pizzeria Mordi e Fuggi': 0.2233782209836274,\n",
       " 'La Caletta': 0.22326281716516053,\n",
       " 'Ristorante Fuji': 0.22318125328040445,\n",
       " 'Degusteria Italiana agli Uffizi': 0.222892581787228,\n",
       " 'Ristorante Da Reno': 0.2227759043470283,\n",
       " \"Ristorante all'olivo\": 0.22274037701967458,\n",
       " 'Ristorante Vittorio': 0.08792482509788557,\n",
       " 'Ristorante Bagno Buoniamici': 0.22226463465168833,\n",
       " 'Il Ristorantino': 0.22225669982957566,\n",
       " 'La Rocchetta': 0.14529654344537543,\n",
       " 'Trattoria da Ubaldo': 0.2222124294793495,\n",
       " 'Trattoria Gatto Nero': 0.22210167334922595,\n",
       " 'Angiolina': 0.22201806036234778,\n",
       " 'Ristorante Pizzeria da Nicco': 0.22198569172452104,\n",
       " 'Gran Caffe Margherita': 0.22193220040957296,\n",
       " 'Ristorante Il Giglio Marino': 0.22191813486667344,\n",
       " 'Restaurant AcaciAmare': 0.22182322905336255,\n",
       " 'La Pergoletta': 0.22156804802268484,\n",
       " 'Osteria Babazuf': 0.2215619273702016,\n",
       " \"Osteria L'Upupa\": 0.22146801117612933,\n",
       " 'BellaVista Ristorante Mare': 0.22144788517259012,\n",
       " 'Stella Marina': 0.027796542479844373,\n",
       " \"L'Oste di Lucca\": 0.22141963407346316,\n",
       " \"L'angolo Di Sapia Osteria Winebar\": 0.22134341425805504,\n",
       " 'Pizzeria Il Muretto': 0.22125547355465167,\n",
       " 'Ristorante Forte dei Marmi La Taverna Toscana': 0.22121020809964542,\n",
       " 'Trattoria Da Gina': 0.2210531924439085,\n",
       " 'La Scalinata da Pasquale': 0.22090672247984164,\n",
       " 'Pizzeria Tobago': 0.22090363631433485,\n",
       " 'Trattoria del Papero': 0.22081942136682603,\n",
       " 'Bar Ristorante Baia Del Sole': 0.22071179452997655,\n",
       " 'Enoteca di Centro': 0.22070852782588177,\n",
       " 'Pizzeria trattoria Il Noce': 0.22058842687555896,\n",
       " 'Ristorante Europa': 0.22054387242629078,\n",
       " 'I Tretruschi': 0.22050967306106076,\n",
       " 'Ristorante Il Piccolo Principe 2 stelle Michelin': 0.22046894454562896,\n",
       " 'La Tana del Boia': 0.2203202504640881,\n",
       " \"Ristorante dell'Agriturismo Casetta di Valentina\": 0.22031596508925805,\n",
       " 'E.Dai Fish Viareggio': 0.22027798273491578,\n",
       " 'Il Bivacco 2 di Mori Luca': 0.22013469209963818,\n",
       " 'Trattoria di mare La nassa': 0.22009988433977362,\n",
       " 'Pizzeria Il Castagnacciaio': 0.22009106527596392,\n",
       " 'Delisca': 0.22003766417416384,\n",
       " 'Osteria del Grocco': 0.2200299661985197,\n",
       " 'Osteria Del Borgo': 0.21986946270985427,\n",
       " 'Fattoria Rossi Firenze': 0.21986326278072382,\n",
       " 'Osteria Da Pasquale': 0.21983882017109288,\n",
       " 'Hannibal Risto-Macelleria': 0.2198011125028154,\n",
       " 'Da Sandra': 0.2195375642572936,\n",
       " 'La Vela Punta Ala': 0.2195329048678905,\n",
       " 'trattoria torracchi': 0.21947212919549594,\n",
       " \"L'ortone\": 0.2194547526235847,\n",
       " 'Ganzo Fish': 0.21944014334753456,\n",
       " 'Locanda Pinocchio': 0.2193557673779991,\n",
       " \"All'Antico Ristoro di' Cambi\": 0.21920519817014775,\n",
       " 'Signorvino Firenze': 0.2191944717520293,\n",
       " 'Ristorante La Tana del Cinghiale': 0.21917526304574475,\n",
       " \"Osteria dell'Osso\": 0.219170182904421,\n",
       " 'Badia di Coltibuono': 0.2190732136033595,\n",
       " 'Pico - Pizza, Cocktail e Piccornie': 0.21899965374660862,\n",
       " 'Ristorante Pizzeria Da Tanio': 0.2186418428636224,\n",
       " 'A Modo Mio': 0.2184557217792598,\n",
       " \"Locanda de' Medici\": 0.21844091090737547,\n",
       " 'Braceria dei Tre Amici': 0.21829966435845344,\n",
       " 'Vapori di Birra': 0.21828886804986058,\n",
       " 'Agriturismo il Portico Ristorante': 0.21794186257018605,\n",
       " 'La Fenice Pizzeria Contemporanea': 0.2179098397177232,\n",
       " 'La Casina': 0.04182732235783563,\n",
       " 'InCaRne ristorante macelleria': 0.21773227923483854,\n",
       " 'Caffe la posta': 0.2177190912375716,\n",
       " 'Ristorante La Barcaccina': 0.217711662715347,\n",
       " \"La Lancia d'Oro\": 0.2177102286703278,\n",
       " 'Ristorante La Griglia': 0.21752551911363874,\n",
       " 'Ristorante Fiorentino': 0.21733134025564094,\n",
       " 'La Bottega Maremmana': 0.21719123852394356,\n",
       " 'Osteria Belguardo': 0.21714805365934908,\n",
       " 'Casa Gala': 0.21703987065126595,\n",
       " 'Binomio': 0.21698269075880178,\n",
       " 'Controvento Cafe': 0.21691327957452633,\n",
       " 'Trattoria da Sbrana': 0.21679575325795544,\n",
       " 'Il Frantoio Restaurant': 0.21677344830790918,\n",
       " 'La Bottega Di Vittoria': 0.21673239020918403,\n",
       " 'Pizzeria la Piazzetta': 0.21665030373199787,\n",
       " 'La Melatina': 0.21659961693277385,\n",
       " 'Ristorante Al Casale': 0.21657295534558924,\n",
       " 'Precisamente A Calafuria': 0.21650068948209011,\n",
       " 'Pane Vino & Zucchero': 0.21647091075687017,\n",
       " 'La Solina': 0.21642318229860513,\n",
       " 'Old Charlie': 0.21635894002075104,\n",
       " 'Ruggero': 0.21611066816650604,\n",
       " 'Ristorante Da Ciacco': 0.21610229790224347,\n",
       " '1950 American Diner': 0.21595160388948656,\n",
       " 'Il Melograno': 0.03980564912659183,\n",
       " 'Enobistrot Pensavo Peggio': 0.21573905192938178,\n",
       " '56 Rosso': 0.21560759665995474,\n",
       " 'Ristorante Al Convento': 0.21556076484115577,\n",
       " 'I Tuscani 2': 0.21554211838866666,\n",
       " 'Osteria Enoteca San Guido': 0.21551530400497446,\n",
       " 'La Braceria': 0.08287293665813954,\n",
       " 'La Tana del Falco': 0.21541908688819544,\n",
       " 'Ristorante Degli Archi': 0.21539717269325753,\n",
       " 'Pizzeria Sayonara': 0.21514763868293368,\n",
       " 'La Carretta': 0.2147513003522586,\n",
       " 'Vineria del Re': 0.21461270041892427,\n",
       " 'Ristorante La Baracchina': 0.178690499032373,\n",
       " 'Lardarium Lard Rock Cafe': 0.2144490704746699,\n",
       " 'Bella Ischia': 0.21443325445797806,\n",
       " 'Bistrot': 0.1076359685368509,\n",
       " 'Corte dei Pazzi': 0.21440756114056972,\n",
       " 'La Sosta del Gallo Viandante': 0.21438521320020495,\n",
       " 'Unsaccogoloso': 0.2143119596305244,\n",
       " 'Drogheria Franci': 0.21425237990952364,\n",
       " 'Da Paguro - Merenderia': 0.21423830145554298,\n",
       " 'Enoteca Svanen': 0.21418212989135052,\n",
       " 'Osteria Uscio & Bottega di Cantinetta Sassolini': 0.21412237998230832,\n",
       " 'Nelson Club': 0.2141203800285162,\n",
       " 'Santa Lucia La Bottega': 0.21411699480736998,\n",
       " 'Il Loggiato': 0.21408354286318304,\n",
       " 'Il Piccinino': 0.21406452391248698,\n",
       " 'Il Cavaliere': 0.21392644336882038,\n",
       " 'Il Coccodrillo': 0.21387606722820995,\n",
       " 'Gigi Trattoria': 0.2136458387773544,\n",
       " 'Sunset Ristorante': 0.21363719182711713,\n",
       " 'Ristorante Caffe Giusti': 0.21362364174603088,\n",
       " \"L'Angolo dello Sfizio\": 0.21359224225648007,\n",
       " 'Trattoria dei 13 Gobbi': 0.21340643212528934,\n",
       " 'Ristorante La Rocca': 0.16310871216297088,\n",
       " 'Il Cedrino': 0.21326527979063784,\n",
       " \"L'Osteria del Pinzagrilli\": 0.21321425058628748,\n",
       " 'Sushiko': 0.1140507540899603,\n",
       " 'Ristorante Da Pinocchio': 0.21297246546118354,\n",
       " 'Io Cucino': 0.21291690333847196,\n",
       " 'Piccolo Tito': 0.2126942326626046,\n",
       " 'Re di Macchia': 0.21265732246283783,\n",
       " 'La Perla Risacca Lido di Camaiore': 0.21248952919912714,\n",
       " 'Ristorante Dal Falco': 0.21245823546892106,\n",
       " 'Jack’s Qualita & Gusto': 0.21245044683930606,\n",
       " 'Branzo': 0.2124284135877499,\n",
       " 'Note Di Vino': 0.21241341045408837,\n",
       " \"Ristorante dell'Agriturismo Buratta\": 0.21239380887948206,\n",
       " 'Ristorante Bar Bagno Venere': 0.21239193397623274,\n",
       " 'Gustavino Piazza Signoria': 0.21228640650075817,\n",
       " 'Osteria Santo Spirito': 0.21224083680467848,\n",
       " 'Gallaccio': 0.21220072824000077,\n",
       " 'La Scesa': 0.21216966208465995,\n",
       " 'Beviamoci Su': 0.21211255750125485,\n",
       " 'Bagno Diva': 0.2121017044551697,\n",
       " 'La Bandita Townhouse Caffe': 0.21206051382019153,\n",
       " 'Ristorante Cavaliere Nero': 0.21202848463371535,\n",
       " \"Osteria de' Bengodi\": 0.21194332760646245,\n",
       " 'VETRERIA Ristorante Pizzeria Boutique': 0.21193069639771747,\n",
       " 'Osteria il cascinale': 0.21189534666761772,\n",
       " 'Ristorante CAV Iris': 0.21187696547409393,\n",
       " 'Osteria I Macelli': 0.21185781893960254,\n",
       " 'Ristorante In Gargotta': 0.21176655819177986,\n",
       " 'Marrini Osteria EnoGastronomica': 0.21171603567897265,\n",
       " 'Ristorante da Antonietta': 0.21144576789488176,\n",
       " 'Nonsolopane': 0.21139695377385512,\n",
       " 'La Bottega Matta': 0.2113770243930629,\n",
       " 'Tavola di Guido': 0.21134867101875007,\n",
       " 'Ristorante La Mencia': 0.21133456219656338,\n",
       " 'Piri Piri': 0.21133427191337242,\n",
       " \"Cantina L'Ottava Rima\": 0.21129173334271567,\n",
       " 'Trattoria Da Carlino': 0.21112585449277013,\n",
       " 'La Cranceria': 0.15698999129798724,\n",
       " 'Trattoria Da Cicero': 0.21095025922072463,\n",
       " 'Le Fontane': 0.21089828582065281,\n",
       " 'La Barcaccina': 0.21088922168790997,\n",
       " 'Mastica': 0.21087857829243542,\n",
       " 'Agriturismo Villa Felice': 0.21082513586375,\n",
       " 'Il Golfo': 0.21081247328117064,\n",
       " \"Vald'O Art Book & Wine\": 0.21072753468195562,\n",
       " 'Ristorante San Desiderio': 0.21071173329101717,\n",
       " 'La Botteghina': 0.0075793882331993655,\n",
       " 'La Cambusa': 0.15015342602145318,\n",
       " 'Enoteca Wine Bar I Sapori Del Sole': 0.21055059902914197,\n",
       " 'Osteria 1126': 0.21049254445168059,\n",
       " \"Il Barrino - l'Ombelico del Mondo\": 0.2104311205042618,\n",
       " 'Locanda del Capitano del Popolo': 0.21025265926164421,\n",
       " 'Hotel Restaurant Ponti di Badia': 0.21023756079278796,\n",
       " 'Ammodonostro': 0.21009307444811512,\n",
       " 'Tosukana Sushi Restaurant': 0.21000350567785137,\n",
       " 'Zero Distanze': 0.20994071721230895,\n",
       " 'Ristorante Pizzeria Il Cantuccio': 0.0010035918843343933,\n",
       " \"Pizzeria L'Arancio\": 0.20989454898958812,\n",
       " 'Ristorante Da Muzzicone': 0.20983025356418603,\n",
       " \"Du'Versi\": 0.20961643116543666,\n",
       " 'Da Nonna Clara': 0.20952911198006702,\n",
       " 'Trattoria Martini': 0.20943746833490817,\n",
       " 'Osteria Dei Quattro Gatti': 0.2094005569898822,\n",
       " 'Ristorante Aquasalata': 0.20927347168345217,\n",
       " 'Il Casotto Pub': 0.20911680619274906,\n",
       " 'Sotto le Volte': 0.20900396988392253,\n",
       " 'Ristorante Martini': 0.2089714204385555,\n",
       " \"Locanda Di Sant'Agostino\": 0.20889338311766503,\n",
       " 'Polpo Briao': 0.2088161823053538,\n",
       " 'Osteria Mulinette': 0.20876325978314744,\n",
       " 'Terra e Cuore': 0.2087616178594903,\n",
       " 'Il Ristoro Da Lisa': 0.20868365027432367,\n",
       " 'Pizzeria Il Rifugio': 0.20864767087929856,\n",
       " 'Il Vecchio e il Mare': 0.13160519500426124,\n",
       " 'Il Lupicante': 0.20844858907102098,\n",
       " 'Barsa...Time Bistrot': 0.20844020559923002,\n",
       " 'bagno onda': 0.20839907575455552,\n",
       " 'Da Maria': 0.20831667728551742,\n",
       " 'Ristorante del Bagno Moby Dick': 0.208210126414355,\n",
       " 'Osteria Il Ghibellino': 0.20813702037571746,\n",
       " 'La Sorgente': 0.20812950559758608,\n",
       " 'SandwiChic': 0.20804785306406173,\n",
       " 'Farinella': 0.20802862380261128,\n",
       " 'La Sosta Diladdarno': 0.2079967095567508,\n",
       " \"Ristorante L'Astronave\": 0.2079699709833735,\n",
       " 'Birrificio Cortonese': 0.2078452140246206,\n",
       " 'Hosteria Del Borgo': 0.20779166052527953,\n",
       " 'Bagni Sirena': 0.20768579936575712,\n",
       " 'Locanda Fiorentina': 0.2076573388865747,\n",
       " 'Posto Pubblico Dei F.lli Cech': 0.20759801051282753,\n",
       " 'Ristorante Pizzeria Lo Squalo': 0.2074837858965046,\n",
       " 'Imperiale Restaurant': 0.2074761288815622,\n",
       " 'Mocajo': 0.20743460052803267,\n",
       " 'Enoteca Ristorante Gallo Nero': 0.20739586161611973,\n",
       " ...}"
      ]
     },
     "execution_count": 69,
     "metadata": {},
     "output_type": "execute_result"
    }
   ],
   "source": [
    "restaurantsNames"
   ]
  },
  {
   "cell_type": "code",
   "execution_count": null,
   "id": "02f52f85",
   "metadata": {},
   "outputs": [],
   "source": []
  }
 ],
 "metadata": {
  "kernelspec": {
   "display_name": "Python 3",
   "language": "python",
   "name": "python3"
  },
  "language_info": {
   "codemirror_mode": {
    "name": "ipython",
    "version": 3
   },
   "file_extension": ".py",
   "mimetype": "text/x-python",
   "name": "python",
   "nbconvert_exporter": "python",
   "pygments_lexer": "ipython3",
   "version": "3.8.8"
  }
 },
 "nbformat": 4,
 "nbformat_minor": 5
}
