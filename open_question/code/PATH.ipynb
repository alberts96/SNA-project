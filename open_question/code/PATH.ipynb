{
 "cells": [
  {
   "cell_type": "code",
   "execution_count": 1,
   "id": "b7f83b98",
   "metadata": {},
   "outputs": [],
   "source": [
    "import pandas as pd \n",
    "import numpy as np \n",
    "import networkx as nx \n",
    "import json \n",
    "import matplotlib.pyplot as plt \n",
    "import seaborn as sns\n",
    "from datetime import datetime\n",
    "import tqdm\n",
    "import pickle"
   ]
  },
  {
   "cell_type": "code",
   "execution_count": null,
   "id": "779157b9",
   "metadata": {},
   "outputs": [],
   "source": [
    "G = nx.read_graphml('../data/clean/byuser.graphml',node_type=int)\n",
    "print(len(G),len(G.edges))"
   ]
  },
  {
   "cell_type": "code",
   "execution_count": null,
   "id": "952fce43",
   "metadata": {},
   "outputs": [],
   "source": [
    "for node in list(G.nodes)[:3]: print(node,G.nodes[node])\n",
    "for node in list(G.edges)[:3]: print(node,G.edges[node])"
   ]
  },
  {
   "cell_type": "code",
   "execution_count": 4,
   "id": "efe3cca0",
   "metadata": {},
   "outputs": [
    {
     "data": {
      "text/html": [
       "<div>\n",
       "<style scoped>\n",
       "    .dataframe tbody tr th:only-of-type {\n",
       "        vertical-align: middle;\n",
       "    }\n",
       "\n",
       "    .dataframe tbody tr th {\n",
       "        vertical-align: top;\n",
       "    }\n",
       "\n",
       "    .dataframe thead th {\n",
       "        text-align: right;\n",
       "    }\n",
       "</style>\n",
       "<table border=\"1\" class=\"dataframe\">\n",
       "  <thead>\n",
       "    <tr style=\"text-align: right;\">\n",
       "      <th></th>\n",
       "      <th>position</th>\n",
       "      <th>name</th>\n",
       "      <th>city</th>\n",
       "      <th>menu</th>\n",
       "      <th>link</th>\n",
       "      <th>score</th>\n",
       "      <th>N_reviews</th>\n",
       "      <th>price</th>\n",
       "      <th>Name</th>\n",
       "      <th>Province</th>\n",
       "      <th>...</th>\n",
       "      <th>latitude</th>\n",
       "      <th>longitude</th>\n",
       "      <th>cuisines</th>\n",
       "      <th>meals</th>\n",
       "      <th>specialDiets</th>\n",
       "      <th>positionlink</th>\n",
       "      <th>province</th>\n",
       "      <th>Link</th>\n",
       "      <th>provinceOK</th>\n",
       "      <th>longitud§e</th>\n",
       "    </tr>\n",
       "  </thead>\n",
       "  <tbody>\n",
       "    <tr>\n",
       "      <th>0</th>\n",
       "      <td>2018</td>\n",
       "      <td>Osteria al Borgo</td>\n",
       "      <td>Lucca</td>\n",
       "      <td>False</td>\n",
       "      <td>/Restaurant_Review-g187898-d23137800-Reviews-O...</td>\n",
       "      <td>5.0</td>\n",
       "      <td>6</td>\n",
       "      <td>NaN</td>\n",
       "      <td>Osteria al Borgo</td>\n",
       "      <td>lucca</td>\n",
       "      <td>...</td>\n",
       "      <td>43.851808</td>\n",
       "      <td>10.506207</td>\n",
       "      <td>Pizza, Tuscan, Central-Italian</td>\n",
       "      <td>NaN</td>\n",
       "      <td>Vegetarian Friendly, Vegan Options, Gluten Fre...</td>\n",
       "      <td>j39_https://maps.google.com/maps?saddr=&amp;daddr=...</td>\n",
       "      <td>pisa</td>\n",
       "      <td>/Restaurant_Review-g187898-d23137800-Reviews-O...</td>\n",
       "      <td>0</td>\n",
       "      <td>10.495633</td>\n",
       "    </tr>\n",
       "    <tr>\n",
       "      <th>1</th>\n",
       "      <td>551</td>\n",
       "      <td>Acino Bianco</td>\n",
       "      <td>Marina di Massa</td>\n",
       "      <td>False</td>\n",
       "      <td>/Restaurant_Review-g194814-d12843022-Reviews-A...</td>\n",
       "      <td>4.5</td>\n",
       "      <td>92</td>\n",
       "      <td>2.5</td>\n",
       "      <td>Acino Bianco</td>\n",
       "      <td>massacarrara</td>\n",
       "      <td>...</td>\n",
       "      <td>44.004616</td>\n",
       "      <td>10.115488</td>\n",
       "      <td>Italian</td>\n",
       "      <td>Dinner</td>\n",
       "      <td>Vegetarian Friendly, Gluten Free Options</td>\n",
       "      <td>yEU_https://maps.google.com/maps?saddr=&amp;daddr=...</td>\n",
       "      <td>lucca</td>\n",
       "      <td>/Restaurant_Review-g194814-d12843022-Reviews-A...</td>\n",
       "      <td>0</td>\n",
       "      <td>NaN</td>\n",
       "    </tr>\n",
       "    <tr>\n",
       "      <th>2</th>\n",
       "      <td>308</td>\n",
       "      <td>El Artista Ristorante Argentino</td>\n",
       "      <td>Massa</td>\n",
       "      <td>False</td>\n",
       "      <td>/Restaurant_Review-g660766-d17543924-Reviews-E...</td>\n",
       "      <td>4.5</td>\n",
       "      <td>78</td>\n",
       "      <td>2.5</td>\n",
       "      <td>El Artista Ristorante Argentino</td>\n",
       "      <td>massacarrara</td>\n",
       "      <td>...</td>\n",
       "      <td>44.041000</td>\n",
       "      <td>10.124396</td>\n",
       "      <td>Barbecue, Argentinean, Steakhouse</td>\n",
       "      <td>Dinner, Lunch</td>\n",
       "      <td>NaN</td>\n",
       "      <td>U0P_https://maps.google.com/maps?saddr=&amp;daddr=...</td>\n",
       "      <td>lucca</td>\n",
       "      <td>/Restaurant_Review-g660766-d17543924-Reviews-E...</td>\n",
       "      <td>0</td>\n",
       "      <td>NaN</td>\n",
       "    </tr>\n",
       "    <tr>\n",
       "      <th>3</th>\n",
       "      <td>1285</td>\n",
       "      <td>La Locanda di Bivigliano</td>\n",
       "      <td>Bivigliano</td>\n",
       "      <td>False</td>\n",
       "      <td>/Restaurant_Review-g1957776-d13948598-Reviews-...</td>\n",
       "      <td>NaN</td>\n",
       "      <td>28</td>\n",
       "      <td>NaN</td>\n",
       "      <td>La Locanda di Bivigliano</td>\n",
       "      <td>florence</td>\n",
       "      <td>...</td>\n",
       "      <td>43.893859</td>\n",
       "      <td>11.322421</td>\n",
       "      <td>Italian, Mediterranean, Barbecue, Tuscan, Cent...</td>\n",
       "      <td>NaN</td>\n",
       "      <td>Vegetarian Friendly</td>\n",
       "      <td>rg1_https://maps.google.com/maps?saddr=&amp;daddr=...</td>\n",
       "      <td>prato</td>\n",
       "      <td>/Restaurant_Review-g1957776-d13948598-Reviews-...</td>\n",
       "      <td>0</td>\n",
       "      <td>NaN</td>\n",
       "    </tr>\n",
       "    <tr>\n",
       "      <th>4</th>\n",
       "      <td>1499</td>\n",
       "      <td>Beach Bar @PuntAla</td>\n",
       "      <td>Punta Ala</td>\n",
       "      <td>False</td>\n",
       "      <td>/Restaurant_Review-g194871-d19315573-Reviews-B...</td>\n",
       "      <td>2.5</td>\n",
       "      <td>2</td>\n",
       "      <td>1.0</td>\n",
       "      <td>Beach Bar @PuntAla</td>\n",
       "      <td>grosseto</td>\n",
       "      <td>...</td>\n",
       "      <td>42.841410</td>\n",
       "      <td>10.775602</td>\n",
       "      <td>Italian, Mediterranean</td>\n",
       "      <td>Lunch, Brunch, Drinks</td>\n",
       "      <td>NaN</td>\n",
       "      <td>32Q_https://maps.google.com/maps?saddr=&amp;daddr=...</td>\n",
       "      <td>grosseto</td>\n",
       "      <td>/Restaurant_Review-g194871-d19315573-Reviews-B...</td>\n",
       "      <td>1</td>\n",
       "      <td>NaN</td>\n",
       "    </tr>\n",
       "  </tbody>\n",
       "</table>\n",
       "<p>5 rows × 24 columns</p>\n",
       "</div>"
      ],
      "text/plain": [
       "   position                             name             city   menu  \\\n",
       "0      2018                 Osteria al Borgo            Lucca  False   \n",
       "1       551                     Acino Bianco  Marina di Massa  False   \n",
       "2       308  El Artista Ristorante Argentino            Massa  False   \n",
       "3      1285         La Locanda di Bivigliano       Bivigliano  False   \n",
       "4      1499               Beach Bar @PuntAla        Punta Ala  False   \n",
       "\n",
       "                                                link  score  N_reviews  price  \\\n",
       "0  /Restaurant_Review-g187898-d23137800-Reviews-O...    5.0          6    NaN   \n",
       "1  /Restaurant_Review-g194814-d12843022-Reviews-A...    4.5         92    2.5   \n",
       "2  /Restaurant_Review-g660766-d17543924-Reviews-E...    4.5         78    2.5   \n",
       "3  /Restaurant_Review-g1957776-d13948598-Reviews-...    NaN         28    NaN   \n",
       "4  /Restaurant_Review-g194871-d19315573-Reviews-B...    2.5          2    1.0   \n",
       "\n",
       "                              Name      Province  ...   latitude  longitude  \\\n",
       "0                 Osteria al Borgo         lucca  ...  43.851808  10.506207   \n",
       "1                     Acino Bianco  massacarrara  ...  44.004616  10.115488   \n",
       "2  El Artista Ristorante Argentino  massacarrara  ...  44.041000  10.124396   \n",
       "3         La Locanda di Bivigliano      florence  ...  43.893859  11.322421   \n",
       "4               Beach Bar @PuntAla      grosseto  ...  42.841410  10.775602   \n",
       "\n",
       "                                            cuisines                  meals  \\\n",
       "0                     Pizza, Tuscan, Central-Italian                    NaN   \n",
       "1                                            Italian                 Dinner   \n",
       "2                  Barbecue, Argentinean, Steakhouse          Dinner, Lunch   \n",
       "3  Italian, Mediterranean, Barbecue, Tuscan, Cent...                    NaN   \n",
       "4                             Italian, Mediterranean  Lunch, Brunch, Drinks   \n",
       "\n",
       "                                        specialDiets  \\\n",
       "0  Vegetarian Friendly, Vegan Options, Gluten Fre...   \n",
       "1           Vegetarian Friendly, Gluten Free Options   \n",
       "2                                                NaN   \n",
       "3                                Vegetarian Friendly   \n",
       "4                                                NaN   \n",
       "\n",
       "                                        positionlink  province  \\\n",
       "0  j39_https://maps.google.com/maps?saddr=&daddr=...      pisa   \n",
       "1  yEU_https://maps.google.com/maps?saddr=&daddr=...     lucca   \n",
       "2  U0P_https://maps.google.com/maps?saddr=&daddr=...     lucca   \n",
       "3  rg1_https://maps.google.com/maps?saddr=&daddr=...     prato   \n",
       "4  32Q_https://maps.google.com/maps?saddr=&daddr=...  grosseto   \n",
       "\n",
       "                                                Link provinceOK longitud§e  \n",
       "0  /Restaurant_Review-g187898-d23137800-Reviews-O...          0  10.495633  \n",
       "1  /Restaurant_Review-g194814-d12843022-Reviews-A...          0        NaN  \n",
       "2  /Restaurant_Review-g660766-d17543924-Reviews-E...          0        NaN  \n",
       "3  /Restaurant_Review-g1957776-d13948598-Reviews-...          0        NaN  \n",
       "4  /Restaurant_Review-g194871-d19315573-Reviews-B...          1        NaN  \n",
       "\n",
       "[5 rows x 24 columns]"
      ]
     },
     "execution_count": 4,
     "metadata": {},
     "output_type": "execute_result"
    }
   ],
   "source": [
    "df = pd.read_csv('../data/raw/geotuscany.csv', index_col=0)\n",
    "df.head()"
   ]
  },
  {
   "cell_type": "code",
   "execution_count": 5,
   "id": "5f26bb6f",
   "metadata": {},
   "outputs": [
    {
     "name": "stdout",
     "output_type": "stream",
     "text": [
      "[3, 1450, 618, 1385, 413, 12970, 4]\n",
      "[3, 2429, 2016, 446, 2364, 2529, 2238, 2230, 1739, 13764, 13861, 13820, 13835, 12970, 4]\n",
      "[3, 1450, 2285, 1832, 999, 12970, 4]\n"
     ]
    }
   ],
   "source": [
    "print(nx.dijkstra_path(G,3,4))\n",
    "print(nx.dijkstra_path(G,3,4,weight = 'geodistance'))\n",
    "print(nx.dijkstra_path(G,3,4,weight = 'days'))"
   ]
  },
  {
   "cell_type": "code",
   "execution_count": 6,
   "id": "82e41b76",
   "metadata": {},
   "outputs": [],
   "source": [
    "o = nx.dijkstra_predecessor_and_distance(G,3, weight=\"days\")"
   ]
  },
  {
   "cell_type": "markdown",
   "id": "d709dfce",
   "metadata": {},
   "source": [
    "# Time Respecting Path "
   ]
  },
  {
   "cell_type": "code",
   "execution_count": 5,
   "id": "40852b63",
   "metadata": {},
   "outputs": [],
   "source": [
    "from heapq import heappop, heappush"
   ]
  },
  {
   "cell_type": "code",
   "execution_count": 6,
   "id": "807f8199",
   "metadata": {},
   "outputs": [],
   "source": [
    "def single_source_time_respecting_paths(g,source,weights=None):\n",
    "    \n",
    "    def mintime(g, u, v, date = 0):\n",
    "        k = 0\n",
    "        mink = 0\n",
    "        minimal = float('inf') \n",
    "        while True: \n",
    "            try :\n",
    "                end = g.edges[(u,v,k)]['end']\n",
    "                start = g.edges[(u,v,k)]['start']\n",
    "            except: break\n",
    "            if start >= date and end < minimal: \n",
    "                minimal = end \n",
    "                mink = k \n",
    "                \n",
    "            k += 1\n",
    "    \n",
    "        return minimal, mink\n",
    "\n",
    "    \n",
    "    dist = dict()\n",
    "    Q = list()\n",
    "    \n",
    "    heappush(Q, source)\n",
    " \n",
    "    # set initial distance from the source to `v` as INFINITY\n",
    "    dist = {node : float('inf') for node in g.nodes}\n",
    "    dist[source] = 0\n",
    "    \n",
    "    time = {node : 0 for node in g.nodes}\n",
    "    time[source] = 0\n",
    "    \n",
    "    prev = {node : -1 for node in g.nodes}\n",
    "    index = {source: 0}\n",
    "    done = {node : False for node in g.nodes}\n",
    "    done[source] = True\n",
    "    \n",
    "    \n",
    "    \n",
    "    while Q:\n",
    " \n",
    "        u = heappop(Q)      # Remove and return the best vertex\n",
    "        \n",
    " \n",
    "        # do for each neighbor `v` of `u`\n",
    "        for v in g.neighbors(u):\n",
    "            \n",
    "            firstvisit, firstk = mintime(g,u,v, date = time[u])\n",
    "            \n",
    "            # Relaxation step \n",
    "            if firstvisit == float('inf'): continue\n",
    "                \n",
    "            if weights ==None :weight = 1\n",
    "            else: weight = g.edges[(u,v,firstk)][weights]\n",
    "            \n",
    "            if not done[v] and (dist[u] + weight) < dist[v]:\n",
    "                \n",
    "                dist[v] = dist[u] + weight\n",
    "                prev[v] = u\n",
    "                time[v] = firstvisit\n",
    "                index[v] = firstk\n",
    "                heappush(Q, v)\n",
    " \n",
    "        # mark vertex `u` as done so it will not get picked up again\n",
    "        done[u] = True\n",
    "        \n",
    "        \n",
    "    def get_route(prev, time, index, i, route):\n",
    "        if i >= 0:\n",
    "            get_route(prev, time, index, prev[i], route)\n",
    "            route.append((i,index[i],time[i]))    \n",
    "        \n",
    "    route = list()\n",
    "    routes = dict()\n",
    "    for i in g.nodes:\n",
    "        if i != source and dist[i] <float('inf'):\n",
    "            get_route(prev, time, index, i, route)\n",
    "            routes[(source,i)] = route.copy()\n",
    "            #print(f\"Path ({source} —> {i}): Minimum cost = {dist[i]}, Route = {route}\")\n",
    "            route.clear()\n",
    "            \n",
    "    return routes"
   ]
  },
  {
   "cell_type": "code",
   "execution_count": 7,
   "id": "abb08cf5",
   "metadata": {},
   "outputs": [],
   "source": [
    "r = single_source_time_respecting_paths(G,0)"
   ]
  },
  {
   "cell_type": "code",
   "execution_count": 8,
   "id": "590df195",
   "metadata": {},
   "outputs": [],
   "source": [
    "def all_time_respecting_paths(g,weights=None):\n",
    "    all_routes = dict()\n",
    "    for node in tqdm.tqdm(g.nodes):\n",
    "        all_routes.update(single_source_time_respecting_paths(g,node,weights))\n",
    "    \n",
    "    return all_routes\n"
   ]
  },
  {
   "cell_type": "markdown",
   "id": "ef822eca",
   "metadata": {},
   "source": [
    "#### SHORTEST PATHS"
   ]
  },
  {
   "cell_type": "code",
   "execution_count": 15,
   "id": "f7e0e469",
   "metadata": {},
   "outputs": [
    {
     "name": "stderr",
     "output_type": "stream",
     "text": [
      "100%|████████████████████████████████████████████████████████████████████████████| 9107/9107 [1:27:22<00:00,  1.74it/s]\n"
     ]
    }
   ],
   "source": [
    "routes = all_time_respecting_paths(G)"
   ]
  },
  {
   "cell_type": "code",
   "execution_count": 16,
   "id": "2884927a",
   "metadata": {},
   "outputs": [],
   "source": [
    "\n",
    "with open('../data/clean/allpaths.PICKLE','wb') as f:\n",
    "    pickle.dump(routes,f)\n",
    "    \n",
    "        "
   ]
  },
  {
   "cell_type": "code",
   "execution_count": 117,
   "id": "f86ee330",
   "metadata": {},
   "outputs": [],
   "source": [
    "\n",
    "with open('../data/clean/allpaths.PICKLE','rb') as f:\n",
    "    routes = pickle.load(f)\n",
    "    \n",
    "        "
   ]
  },
  {
   "cell_type": "code",
   "execution_count": 131,
   "id": "1255b12c",
   "metadata": {},
   "outputs": [],
   "source": [
    "def geoDistance(df,u,v):\n",
    "    \n",
    "    xi, yi = df.loc[u,['longitude','latitude']]\n",
    "    xj, yj = df.loc[v,['longitude','latitude']]\n",
    "    return ((xj-xi)**2 + (yj-yi)**2)**0.5"
   ]
  },
  {
   "cell_type": "code",
   "execution_count": 138,
   "id": "6daa9c38",
   "metadata": {},
   "outputs": [
    {
     "name": "stderr",
     "output_type": "stream",
     "text": [
      "100%|██████████████████████████████████████████████████████████████████| 15972744/15972744 [01:00<00:00, 264063.09it/s]\n"
     ]
    }
   ],
   "source": [
    "longestRoutes = list()\n",
    "maxLength = 0\n",
    "fastestRoutes = list()\n",
    "maxVelocity = 0\n",
    "\n",
    "for i, route in tqdm.tqdm(routes.items()) :\n",
    "    \n",
    "    length = len(route)\n",
    "    \n",
    "    j,k,_ = route[1]\n",
    "    \n",
    "    start = G.edges[(i[0],j,k)]['start']\n",
    "    end = route[-1][-1]\n",
    "    timeElapsed = end-start+1\n",
    "    velocity = length / timeElapsed\n",
    "    \n",
    "    if velocity > maxVelocity:\n",
    "        maxVelocity = velocity \n",
    "        fastestRoutes = [i]\n",
    "        \n",
    "    elif velocity == maxVelocity:\n",
    "        fastestRoutes.append(i)\n",
    "    \n",
    "    \n",
    "    if length > maxLength:\n",
    "        maxLength = length \n",
    "        longestRoutes = [i]\n",
    "        \n",
    "    elif length == maxLength:\n",
    "        longestRoutes.append(i)\n",
    "    \n",
    "    "
   ]
  },
  {
   "cell_type": "code",
   "execution_count": 136,
   "id": "554c43bf",
   "metadata": {},
   "outputs": [
    {
     "name": "stdout",
     "output_type": "stream",
     "text": [
      "59 [(15591, 11950)] \n",
      " 19.0 [(1886, 11883)]\n"
     ]
    }
   ],
   "source": [
    "print(maxDistance, longestRoutes,'\\n',maxVelocity,fastestRoutes)"
   ]
  },
  {
   "cell_type": "code",
   "execution_count": 137,
   "id": "9b916dae",
   "metadata": {},
   "outputs": [
    {
     "data": {
      "text/plain": [
       "[(1886, 0, 0),\n",
       " (1943, 0, 243),\n",
       " (3136, 0, 243),\n",
       " (5844, 0, 243),\n",
       " (6610, 0, 243),\n",
       " (7499, 0, 243),\n",
       " (7945, 0, 243),\n",
       " (11206, 0, 243),\n",
       " (14799, 0, 243),\n",
       " (6612, 0, 244),\n",
       " (7087, 0, 244),\n",
       " (7955, 0, 244),\n",
       " (8886, 0, 244),\n",
       " (9972, 0, 244),\n",
       " (9987, 0, 244),\n",
       " (11287, 0, 244),\n",
       " (11374, 0, 244),\n",
       " (11413, 0, 244),\n",
       " (11883, 0, 244)]"
      ]
     },
     "execution_count": 137,
     "metadata": {},
     "output_type": "execute_result"
    }
   ],
   "source": [
    "routes[(1886, 11883)]"
   ]
  },
  {
   "cell_type": "code",
   "execution_count": 21,
   "id": "9eca25f4",
   "metadata": {},
   "outputs": [
    {
     "data": {
      "text/plain": [
       "False"
      ]
     },
     "execution_count": 21,
     "metadata": {},
     "output_type": "execute_result"
    }
   ],
   "source": [
    "float('inf') > float('inf')\n"
   ]
  },
  {
   "cell_type": "markdown",
   "id": "be8522f3",
   "metadata": {},
   "source": [
    "#### SHORTEST GEODISTANCE PATHS"
   ]
  },
  {
   "cell_type": "code",
   "execution_count": 9,
   "id": "50caee16",
   "metadata": {},
   "outputs": [
    {
     "name": "stderr",
     "output_type": "stream",
     "text": [
      "100%|██████████████████████████████████████████████████████████████████████████████| 9107/9107 [46:24<00:00,  3.27it/s]\n"
     ]
    }
   ],
   "source": [
    "georoutes = all_time_respecting_paths(G,weights='geodistance')"
   ]
  },
  {
   "cell_type": "code",
   "execution_count": 10,
   "id": "dab05117",
   "metadata": {},
   "outputs": [],
   "source": [
    "\n",
    "with open('../data/clean/allpathsGeo.PICKLE','wb') as f:\n",
    "    pickle.dump(georoutes,f)\n",
    "    "
   ]
  },
  {
   "cell_type": "code",
   "execution_count": 9,
   "id": "d29f0cb0",
   "metadata": {},
   "outputs": [],
   "source": [
    "import pickle\n",
    "with open('../data/clean/allpathsGeo.PICKLE','rb') as f:\n",
    "    routes = pickle.load(f)\n",
    "    \n",
    "        "
   ]
  },
  {
   "cell_type": "code",
   "execution_count": 10,
   "id": "56fee9bf",
   "metadata": {},
   "outputs": [],
   "source": []
  },
  {
   "cell_type": "code",
   "execution_count": null,
   "id": "a922778d",
   "metadata": {},
   "outputs": [],
   "source": []
  },
  {
   "cell_type": "code",
   "execution_count": null,
   "id": "a6346db8",
   "metadata": {},
   "outputs": [],
   "source": []
  },
  {
   "cell_type": "code",
   "execution_count": null,
   "id": "c8be6e0f",
   "metadata": {},
   "outputs": [],
   "source": []
  },
  {
   "cell_type": "markdown",
   "id": "88a45dd7",
   "metadata": {},
   "source": [
    "#### FOREMOST PATHS"
   ]
  },
  {
   "cell_type": "code",
   "execution_count": 11,
   "id": "11ad6707",
   "metadata": {},
   "outputs": [
    {
     "name": "stderr",
     "output_type": "stream",
     "text": [
      "100%|██████████████████████████████████████████████████████████████████████████████| 9107/9107 [42:41<00:00,  3.56it/s]\n"
     ]
    }
   ],
   "source": [
    "routes = all_time_respecting_paths(G,weights='days')"
   ]
  },
  {
   "cell_type": "code",
   "execution_count": null,
   "id": "3d312665",
   "metadata": {},
   "outputs": [],
   "source": [
    "\n",
    "with open('../data/clean/allpathsDays.PICKLE','wb') as f:\n",
    "    pickle.dump(routes,f)\n",
    "    "
   ]
  },
  {
   "cell_type": "code",
   "execution_count": null,
   "id": "d52048b7",
   "metadata": {},
   "outputs": [],
   "source": [
    "import pickle\n",
    "with open('../data/clean/allpathsDays.PICKLE','rb') as f:\n",
    "    routes = pickle.load(f)\n",
    "    \n",
    "        "
   ]
  },
  {
   "cell_type": "code",
   "execution_count": null,
   "id": "3abe5dca",
   "metadata": {},
   "outputs": [],
   "source": []
  },
  {
   "cell_type": "markdown",
   "id": "e5ab46ae",
   "metadata": {},
   "source": [
    "# Centralities"
   ]
  },
  {
   "cell_type": "code",
   "execution_count": 5,
   "id": "fa693456",
   "metadata": {},
   "outputs": [],
   "source": [
    " import matplotlib.patches as mpatches\n",
    "def plotCentrality(df,centralities, k = 20):\n",
    "   \n",
    "\n",
    "   \n",
    "    restaurants = dict(sorted(centralities.items(), key=lambda item: item[1], reverse=True))\n",
    "    \n",
    "    restaurantsNames = {df.loc[u,'name'] : c for u,c in restaurants.items()}\n",
    "    \n",
    "    names, values = zip(*restaurantsNames.items()) \n",
    "    names = names[:k]\n",
    "    values = values[:k]\n",
    "\n",
    "    mycolors = [['indianred','slateblue'][df.loc[r,'covidMeasure']] for r in restaurants]\n",
    "    plt.figure(figsize=(20,5))\n",
    "    plt.bar(names, values, color=mycolors)\n",
    "\n",
    "    red_patch = mpatches.Patch(color='indianred', label='no')\n",
    "    blue_patch = mpatches.Patch(color='slateblue', label='yes')\n",
    "    plt.legend(handles=[red_patch,blue_patch],title='Covid Measure')\n",
    "\n",
    "\n",
    "    plt.xticks(rotation=25,ha='right')"
   ]
  },
  {
   "cell_type": "code",
   "execution_count": null,
   "id": "3467b688",
   "metadata": {},
   "outputs": [],
   "source": []
  },
  {
   "cell_type": "code",
   "execution_count": 6,
   "id": "b343e5c1",
   "metadata": {},
   "outputs": [],
   "source": [
    "def betwenness(g,paths):\n",
    "    centralities = {node:0 for node in g.nodes}\n",
    "    norma = len(paths)\n",
    "    for path in tqdm.tqdm(paths.values()): \n",
    "        for node in path:\n",
    "            centralities[node[0]] += 1\n",
    "    for node in centralities: \n",
    "        centralities[node] = centralities[node] / norma\n",
    "    return centralities"
   ]
  },
  {
   "cell_type": "code",
   "execution_count": null,
   "id": "21a19f9c",
   "metadata": {},
   "outputs": [],
   "source": []
  },
  {
   "cell_type": "markdown",
   "id": "0a4c1993",
   "metadata": {},
   "source": [
    "##### Shortest"
   ]
  },
  {
   "cell_type": "code",
   "execution_count": 5,
   "id": "06ed03f9",
   "metadata": {},
   "outputs": [],
   "source": [
    "\n",
    "with open('../data/clean/allpaths.PICKLE','rb') as f:\n",
    "    routes = pickle.load(f)\n",
    "    "
   ]
  },
  {
   "cell_type": "code",
   "execution_count": 30,
   "id": "7c6ff695",
   "metadata": {},
   "outputs": [
    {
     "name": "stderr",
     "output_type": "stream",
     "text": [
      "100%|██████████████████████████████████████████████████████████████████| 22791375/22791375 [01:44<00:00, 217171.32it/s]\n"
     ]
    }
   ],
   "source": [
    "centralities = betwenness(G,routes)"
   ]
  },
  {
   "cell_type": "code",
   "execution_count": 31,
   "id": "54e81849",
   "metadata": {},
   "outputs": [
    {
     "name": "stderr",
     "output_type": "stream",
     "text": [
      "<ipython-input-9-1b3c80d362ae>:14: DeprecationWarning: In future, it will be an error for 'np.bool_' scalars to be interpreted as an index\n",
      "  mycolors = [['indianred','slateblue'][df.loc[r,'covidMeasure']] for r in restaurants]\n"
     ]
    },
    {
     "data": {
      "image/png": "[encoded data removed]",
      "text/plain": [
       "<Figure size 1440x360 with 1 Axes>"
      ]
     },
     "metadata": {
      "needs_background": "light"
     },
     "output_type": "display_data"
    }
   ],
   "source": [
    "plotCentrality(df,centralities, k = 20)"
   ]
  },
  {
   "cell_type": "code",
   "execution_count": 19,
   "id": "37017d4f",
   "metadata": {},
   "outputs": [
    {
     "data": {
      "text/plain": [
       "[(0, 0, 0),\n",
       " (14805, 0, 170),\n",
       " (1972, 0, 181),\n",
       " (2178, 4, 184),\n",
       " (10647, 0, 186),\n",
       " (10576, 0, 186),\n",
       " (10612, 0, 187),\n",
       " (13064, 0, 197),\n",
       " (1366, 0, 221),\n",
       " (6753, 0, 238),\n",
       " (1231, 0, 329)]"
      ]
     },
     "execution_count": 19,
     "metadata": {},
     "output_type": "execute_result"
    }
   ],
   "source": [
    "routes[(0,1231)]"
   ]
  },
  {
   "cell_type": "markdown",
   "id": "0af123db",
   "metadata": {},
   "source": [
    "#### Geo"
   ]
  },
  {
   "cell_type": "code",
   "execution_count": 7,
   "id": "69b16bd3",
   "metadata": {},
   "outputs": [],
   "source": [
    "\n",
    "with open('../data/clean/allpathsGeo.PICKLE','rb') as f:\n",
    "    georoutes = pickle.load(f)\n",
    "    "
   ]
  },
  {
   "cell_type": "code",
   "execution_count": 9,
   "id": "917dcf4e",
   "metadata": {},
   "outputs": [
    {
     "name": "stderr",
     "output_type": "stream",
     "text": [
      "100%|██████████████████████████████████████████████████████████████████| 22333895/22333895 [02:04<00:00, 179838.59it/s]\n"
     ]
    }
   ],
   "source": [
    "geocentralities = betwenness(G,georoutes)"
   ]
  },
  {
   "cell_type": "code",
   "execution_count": 10,
   "id": "23b354b0",
   "metadata": {},
   "outputs": [
    {
     "name": "stderr",
     "output_type": "stream",
     "text": [
      "<ipython-input-5-1b3c80d362ae>:14: DeprecationWarning: In future, it will be an error for 'np.bool_' scalars to be interpreted as an index\n",
      "  mycolors = [['indianred','slateblue'][df.loc[r,'covidMeasure']] for r in restaurants]\n"
     ]
    },
    {
     "data": {
      "image/png": "[encoded data removed]",
      "text/plain": [
       "<Figure size 1440x360 with 1 Axes>"
      ]
     },
     "metadata": {
      "needs_background": "light"
     },
     "output_type": "display_data"
    }
   ],
   "source": [
    "plotCentrality(df,geocentralities, k = 20)"
   ]
  },
  {
   "cell_type": "markdown",
   "id": "2d6c4054",
   "metadata": {},
   "source": [
    "#### DAYS"
   ]
  },
  {
   "cell_type": "code",
   "execution_count": null,
   "id": "c98ff41b",
   "metadata": {},
   "outputs": [],
   "source": [
    "\n",
    "with open('../data/clean/allpathsGeo.PICKLE','rb') as f:\n",
    "    dayroutes = pickle.load(f)"
   ]
  },
  {
   "cell_type": "code",
   "execution_count": null,
   "id": "e8fff880",
   "metadata": {},
   "outputs": [],
   "source": [
    "daycentralities = betwenness(G,routes)"
   ]
  },
  {
   "cell_type": "code",
   "execution_count": null,
   "id": "ef77ab5d",
   "metadata": {},
   "outputs": [],
   "source": [
    "plotCentrality(df,daycentralities, k = 20)"
   ]
  },
  {
   "cell_type": "code",
   "execution_count": null,
   "id": "36405de9",
   "metadata": {},
   "outputs": [],
   "source": []
  }
 ],
 "metadata": {
  "kernelspec": {
   "display_name": "Python 3",
   "language": "python",
   "name": "python3"
  },
  "language_info": {
   "codemirror_mode": {
    "name": "ipython",
    "version": 3
   },
   "file_extension": ".py",
   "mimetype": "text/x-python",
   "name": "python",
   "nbconvert_exporter": "python",
   "pygments_lexer": "ipython3",
   "version": "3.8.8"
  }
 },
 "nbformat": 4,
 "nbformat_minor": 5
}
