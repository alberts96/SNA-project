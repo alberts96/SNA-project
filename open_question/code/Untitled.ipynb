{
 "cells": [
  {
   "cell_type": "code",
   "execution_count": 6,
   "id": "virgin-lighter",
   "metadata": {},
   "outputs": [],
   "source": [
    "import pandas as pd \n",
    "import numpy as np \n",
    "import networkx as nx \n",
    "import json \n",
    "from datetime import datetime\n",
    "import matplotlib.pyplot as plt \n",
    "import seaborn as sns"
   ]
  },
  {
   "cell_type": "code",
   "execution_count": 2,
   "id": "amateur-commissioner",
   "metadata": {},
   "outputs": [],
   "source": [
    "G = nx.read_graphml('../data/covidByUser.graphml')"
   ]
  },
  {
   "cell_type": "code",
   "execution_count": null,
   "id": "caring-stationery",
   "metadata": {},
   "outputs": [],
   "source": []
  },
  {
   "cell_type": "code",
   "execution_count": 7,
   "id": "progressive-invalid",
   "metadata": {},
   "outputs": [],
   "source": [
    "for e in G.edges: \n",
    "    \n",
    "    start = datetime.strptime(str(G.edges[e]['start']),'%Y%m%d')\n",
    "    end = datetime.strptime(str(G.edges[e]['end']),'%Y%m%d')\n",
    "    G.edges[e]['end'] = end\n",
    "    G.edges[e]['start'] = start\n",
    "    G.edges[e]['days'] = (end - start).days\n",
    "        "
   ]
  },
  {
   "cell_type": "code",
   "execution_count": 8,
   "id": "opponent-fountain",
   "metadata": {},
   "outputs": [
    {
     "name": "stdout",
     "output_type": "stream",
     "text": [
      "9219 111863 0.001316333528836451\n"
     ]
    }
   ],
   "source": [
    "print(len(G.nodes),len(G.edges),nx.density(G))"
   ]
  },
  {
   "cell_type": "code",
   "execution_count": 9,
   "id": "split-sitting",
   "metadata": {},
   "outputs": [],
   "source": [
    "UG = G.to_undirected()"
   ]
  },
  {
   "cell_type": "code",
   "execution_count": 10,
   "id": "fitting-arbor",
   "metadata": {},
   "outputs": [],
   "source": [
    "components =  [c for c in sorted(nx.connected_components(UG), key=len, reverse=True)]"
   ]
  },
  {
   "cell_type": "code",
   "execution_count": 11,
   "id": "fewer-hacker",
   "metadata": {},
   "outputs": [
    {
     "name": "stdout",
     "output_type": "stream",
     "text": [
      "9107 4 3 3 2 2 2 2 2 2 2 2 2 2 2 2 2 2 2 2 2 2 2 2 2 2 2 2 2 2 2 2 2 2 2 2 2 2 2 2 2 2 2 1 1 1 1 1 1 1 1 1 1 1 1 1 1 1 1 1 1 1 1 1 1 1 1 "
     ]
    }
   ],
   "source": [
    "for l in [len(c) for c in components]: print(l,end= ' ')"
   ]
  },
  {
   "cell_type": "code",
   "execution_count": 14,
   "id": "statutory-bottle",
   "metadata": {},
   "outputs": [],
   "source": [
    "C = G.subgraph(components[0])\n"
   ]
  },
  {
   "cell_type": "code",
   "execution_count": null,
   "id": "laden-architecture",
   "metadata": {},
   "outputs": [],
   "source": []
  },
  {
   "cell_type": "code",
   "execution_count": null,
   "id": "dedicated-transcription",
   "metadata": {},
   "outputs": [],
   "source": [
    "df = pd.read_csv('../data/covidars.csv',sep='|')\n",
    "df"
   ]
  },
  {
   "cell_type": "code",
   "execution_count": null,
   "id": "indoor-crystal",
   "metadata": {},
   "outputs": [],
   "source": []
  }
 ],
 "metadata": {
  "kernelspec": {
   "display_name": "Python 3",
   "language": "python",
   "name": "python3"
  },
  "language_info": {
   "codemirror_mode": {
    "name": "ipython",
    "version": 3
   },
   "file_extension": ".py",
   "mimetype": "text/x-python",
   "name": "python",
   "nbconvert_exporter": "python",
   "pygments_lexer": "ipython3",
   "version": "3.7.10"
  }
 },
 "nbformat": 4,
 "nbformat_minor": 5
}
