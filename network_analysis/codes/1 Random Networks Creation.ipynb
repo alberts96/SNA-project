{
 "cells": [
  {
   "cell_type": "code",
   "execution_count": 2,
   "id": "middle-broad",
   "metadata": {},
   "outputs": [],
   "source": [
    "import pandas as pd\n",
    "import numpy as np\n",
    "import json \n",
    "import math\n",
    "import collections\n",
    "import networkx as nx\n",
    "from matplotlib import pyplot as plt\n",
    "\n",
    "\n"
   ]
  },
  {
   "cell_type": "markdown",
   "id": "three-conspiracy",
   "metadata": {},
   "source": [
    "# Networks Creation\n",
    "## Real world"
   ]
  },
  {
   "cell_type": "code",
   "execution_count": 3,
   "id": "maritime-moderator",
   "metadata": {},
   "outputs": [],
   "source": [
    "G = nx.read_weighted_edgelist('../../data/tuscany.weighted.edgelist')"
   ]
  },
  {
   "cell_type": "code",
   "execution_count": null,
   "id": "increasing-darwin",
   "metadata": {},
   "outputs": [],
   "source": [
    "N = len(G.nodes)\n",
    "L = len(G.edges)\n",
    "density = nx.density(G)\n",
    "degrees = [d for n, d in G.degree()]\n",
    "weights =  sorted([G.edges[edge]['weight'] for edge in G.edges()], reverse=True)\n",
    "print(N,L)\n",
    "print(density)"
   ]
  },
  {
   "cell_type": "code",
   "execution_count": 6,
   "id": "violent-carolina",
   "metadata": {},
   "outputs": [
    {
     "data": {
      "text/plain": [
       "Text(0, 0.5, 'cumulative number of edges')"
      ]
     },
     "execution_count": 6,
     "metadata": {},
     "output_type": "execute_result"
    },
    {
     "data": {
      "image/png": "[encoded data removed]",
      "text/plain": [
       "<Figure size 432x288 with 1 Axes>"
      ]
     },
     "metadata": {
      "needs_background": "light"
     },
     "output_type": "display_data"
    }
   ],
   "source": [
    "weights = \n",
    "weightsCount = collections.Counter(weights)\n",
    "w, cnt = zip(*weightsCount.items())\n",
    "\n",
    "cumcount = [0]\n",
    "for i, c in enumerate(cnt):\n",
    "    cumcount.append(c + cumcount[-1])\n",
    "cumcount = cumcount[1:]\n",
    "plt.plot(w, cumcount, linestyle = '-')\n",
    "plt.xscale('log')\n",
    "plt.yscale('log')\n",
    "plt.xlabel('weight')\n",
    "plt.ylabel('cumulative number of edges')"
   ]
  },
  {
   "cell_type": "code",
   "execution_count": null,
   "id": "general-herald",
   "metadata": {},
   "outputs": [],
   "source": []
  },
  {
   "cell_type": "markdown",
   "id": "traditional-document",
   "metadata": {},
   "source": [
    "### Erdős-Rényi"
   ]
  },
  {
   "cell_type": "code",
   "execution_count": 6,
   "id": "persistent-malpractice",
   "metadata": {},
   "outputs": [
    {
     "name": "stdout",
     "output_type": "stream",
     "text": [
      "15690 6958647\n",
      "0.056537499267246105\n"
     ]
    }
   ],
   "source": [
    "n = len(G.nodes)\n",
    "p = nx.density(G)\n",
    "ER = nx.erdos_renyi_graph(n, p)\n",
    "print(len(ER.nodes), len(ER.edges()))\n",
    "print(nx.density(ER))"
   ]
  },
  {
   "cell_type": "code",
   "execution_count": 8,
   "id": "legitimate-wisconsin",
   "metadata": {},
   "outputs": [],
   "source": [
    "nx.write_adjlist(ER,\"../data/ER.adjlist\")"
   ]
  },
  {
   "cell_type": "markdown",
   "id": "reported-nightmare",
   "metadata": {},
   "source": [
    "### Barabási–Albert"
   ]
  },
  {
   "cell_type": "code",
   "execution_count": 9,
   "id": "resistant-supplier",
   "metadata": {},
   "outputs": [],
   "source": [
    "n = len(G.nodes)\n",
    "m = math.floor(np.average([degrees])**0.5)\n",
    "BA = nx.barabasi_albert_graph(n, m, seed=None)"
   ]
  },
  {
   "cell_type": "code",
   "execution_count": 10,
   "id": "saving-remedy",
   "metadata": {},
   "outputs": [
    {
     "name": "stdout",
     "output_type": "stream",
     "text": [
      "15690\n",
      "454169\n",
      "0.0036900247281843575\n"
     ]
    }
   ],
   "source": [
    "print(BA.number_of_nodes())\n",
    "print(len(BA.edges()))\n",
    "print(nx.density(BA))"
   ]
  },
  {
   "cell_type": "code",
   "execution_count": 11,
   "id": "failing-italic",
   "metadata": {},
   "outputs": [],
   "source": [
    "nx.write_adjlist(BA,\"../data/BA.adjlist\")"
   ]
  },
  {
   "cell_type": "markdown",
   "id": "binding-creator",
   "metadata": {},
   "source": [
    "### Watts Strogatz"
   ]
  },
  {
   "cell_type": "code",
   "execution_count": 46,
   "id": "opponent-football",
   "metadata": {},
   "outputs": [
    {
     "name": "stdout",
     "output_type": "stream",
     "text": [
      "15690\n",
      "6950670\n",
      "0.056472687870482506\n"
     ]
    }
   ],
   "source": [
    "n = len(G.nodes)\n",
    "k = math.floor(np.average(degrees))\n",
    "p = np.std(degrees) / np.max(degrees)\n",
    "WS = nx.watts_strogatz_graph(n, k , p, seed=None)\n",
    "\n",
    "print(WS.number_of_nodes())\n",
    "print(len(WS.edges()))\n",
    "print(nx.density(WS))"
   ]
  },
  {
   "cell_type": "code",
   "execution_count": 29,
   "id": "numerous-reasoning",
   "metadata": {},
   "outputs": [],
   "source": [
    "nx.write_adjlist(WS,\"../data/WS.adjlist\")"
   ]
  },
  {
   "cell_type": "markdown",
   "id": "civic-christopher",
   "metadata": {},
   "source": [
    "## Configuration Model"
   ]
  },
  {
   "cell_type": "code",
   "execution_count": 5,
   "id": "diverse-probability",
   "metadata": {},
   "outputs": [],
   "source": [
    "\n",
    "CM = nx.configuration_model(degrees)"
   ]
  },
  {
   "cell_type": "code",
   "execution_count": 7,
   "id": "chubby-landscape",
   "metadata": {},
   "outputs": [
    {
     "name": "stdout",
     "output_type": "stream",
     "text": [
      "15690\n",
      "6955000\n",
      "0.0565078681823775\n"
     ]
    }
   ],
   "source": [
    "print(CM.number_of_nodes())\n",
    "print(len(CM.edges()))\n",
    "print(nx.density(CM))"
   ]
  }
 ],
 "metadata": {
  "kernelspec": {
   "display_name": "Python 3",
   "language": "python",
   "name": "python3"
  },
  "language_info": {
   "codemirror_mode": {
    "name": "ipython",
    "version": 3
   },
   "file_extension": ".py",
   "mimetype": "text/x-python",
   "name": "python",
   "nbconvert_exporter": "python",
   "pygments_lexer": "ipython3",
   "version": "3.7.10"
  }
 },
 "nbformat": 4,
 "nbformat_minor": 5
}
