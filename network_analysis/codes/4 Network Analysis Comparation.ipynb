{
 "cells": [
  {
   "cell_type": "code",
   "execution_count": 1,
   "id": "middle-broad",
   "metadata": {},
   "outputs": [],
   "source": [
    "import pandas as pd\n",
    "import numpy as np\n",
    "import json \n",
    "import math\n",
    "import collections\n",
    "import networkx as nx\n",
    "from matplotlib import pyplot as plt\n",
    "\n",
    "\n"
   ]
  },
  {
   "cell_type": "markdown",
   "id": "three-conspiracy",
   "metadata": {},
   "source": [
    "# Networks Creation\n",
    "## Real world"
   ]
  },
  {
   "cell_type": "code",
   "execution_count": 3,
   "id": "maritime-moderator",
   "metadata": {},
   "outputs": [],
   "source": [
    "G = nx.read_adjlist('../data/tuscany.adjlist')"
   ]
  },
  {
   "cell_type": "code",
   "execution_count": 4,
   "id": "increasing-darwin",
   "metadata": {},
   "outputs": [
    {
     "name": "stdout",
     "output_type": "stream",
     "text": [
      "15690 6955000\n",
      "0.0565078681823775\n"
     ]
    }
   ],
   "source": [
    "N = len(G.nodes)\n",
    "L = len(G.edges)\n",
    "density = nx.density(G)\n",
    "degrees = [d for n, d in G.degree()]\n",
    "print(N,L)\n",
    "print(density)"
   ]
  },
  {
   "cell_type": "markdown",
   "id": "traditional-document",
   "metadata": {},
   "source": [
    "### Erdős-Rényi"
   ]
  },
  {
   "cell_type": "code",
   "execution_count": 6,
   "id": "persistent-malpractice",
   "metadata": {},
   "outputs": [
    {
     "name": "stdout",
     "output_type": "stream",
     "text": [
      "15690 6958647\n",
      "0.056537499267246105\n"
     ]
    }
   ],
   "source": [
    "n = len(G.nodes)\n",
    "p = nx.density(G)\n",
    "ER = nx.erdos_renyi_graph(n, p)\n",
    "print(len(ER.nodes), len(ER.edges()))\n",
    "print(nx.density(ER))"
   ]
  },
  {
   "cell_type": "code",
   "execution_count": 8,
   "id": "legitimate-wisconsin",
   "metadata": {},
   "outputs": [],
   "source": [
    "nx.write_adjlist(ER,\"../data/ER.adjlist\")"
   ]
  },
  {
   "cell_type": "markdown",
   "id": "reported-nightmare",
   "metadata": {},
   "source": [
    "### Barabási–Albert"
   ]
  },
  {
   "cell_type": "code",
   "execution_count": 9,
   "id": "resistant-supplier",
   "metadata": {},
   "outputs": [],
   "source": [
    "n = len(G.nodes)\n",
    "m = math.floor(np.average([degrees])**0.5)\n",
    "BA = nx.barabasi_albert_graph(n, m, seed=None)"
   ]
  },
  {
   "cell_type": "code",
   "execution_count": 10,
   "id": "saving-remedy",
   "metadata": {},
   "outputs": [
    {
     "name": "stdout",
     "output_type": "stream",
     "text": [
      "15690\n",
      "454169\n",
      "0.0036900247281843575\n"
     ]
    }
   ],
   "source": [
    "print(BA.number_of_nodes())\n",
    "print(len(BA.edges()))\n",
    "print(nx.density(BA))"
   ]
  },
  {
   "cell_type": "code",
   "execution_count": 11,
   "id": "failing-italic",
   "metadata": {},
   "outputs": [],
   "source": [
    "nx.write_adjlist(BA,\"../data/BA.adjlist\")"
   ]
  },
  {
   "cell_type": "markdown",
   "id": "binding-creator",
   "metadata": {},
   "source": [
    "### Watts Strogatz"
   ]
  },
  {
   "cell_type": "code",
   "execution_count": 46,
   "id": "opponent-football",
   "metadata": {},
   "outputs": [
    {
     "name": "stdout",
     "output_type": "stream",
     "text": [
      "15690\n",
      "6950670\n",
      "0.056472687870482506\n"
     ]
    }
   ],
   "source": [
    "n = len(G.nodes)\n",
    "k = math.floor(np.average(degrees))\n",
    "p = np.std(degrees) / np.max(degrees)\n",
    "WS = nx.watts_strogatz_graph(n, k , p, seed=None)\n",
    "\n",
    "print(WS.number_of_nodes())\n",
    "print(len(WS.edges()))\n",
    "print(nx.density(WS))"
   ]
  },
  {
   "cell_type": "code",
   "execution_count": 29,
   "id": "numerous-reasoning",
   "metadata": {},
   "outputs": [],
   "source": [
    "nx.write_adjlist(WS,\"../data/WS.adjlist\")"
   ]
  },
  {
   "cell_type": "markdown",
   "id": "civic-christopher",
   "metadata": {},
   "source": [
    "## Configuration Model"
   ]
  },
  {
   "cell_type": "code",
   "execution_count": 5,
   "id": "diverse-probability",
   "metadata": {},
   "outputs": [],
   "source": [
    "\n",
    "CM = nx.configuration_model(degrees)"
   ]
  },
  {
   "cell_type": "code",
   "execution_count": 7,
   "id": "chubby-landscape",
   "metadata": {},
   "outputs": [
    {
     "name": "stdout",
     "output_type": "stream",
     "text": [
      "15690\n",
      "6955000\n",
      "0.0565078681823775\n"
     ]
    }
   ],
   "source": [
    "print(CM.number_of_nodes())\n",
    "print(len(CM.edges()))\n",
    "print(nx.density(CM))"
   ]
  },
  {
   "cell_type": "code",
   "execution_count": 6,
   "id": "relative-gibraltar",
   "metadata": {},
   "outputs": [],
   "source": [
    "nx.write_adjlist(CM,\"../data/CM.adjlist\")"
   ]
  },
  {
   "cell_type": "markdown",
   "id": "hidden-adolescent",
   "metadata": {},
   "source": [
    "# Networks Analysis"
   ]
  },
  {
   "cell_type": "code",
   "execution_count": null,
   "id": "excess-minutes",
   "metadata": {},
   "outputs": [],
   "source": [
    "\n",
    "with open(path+\"info_rw.json\",'r') as jf:\n",
    "    RW = json.load(jf)\n",
    "    \n",
    "with open(path+\"info_er.json\",'r') as jf:\n",
    "    ER = json.load(jf)\n",
    "    \n",
    "with open(path+\"info_ba.json\",'r') as jf:\n",
    "    BA = json.load(jf)\n",
    "    \n",
    "with open(path+\"info_ws.json\",'r') as jf:\n",
    "    WS = json.load(jf)"
   ]
  },
  {
   "cell_type": "code",
   "execution_count": null,
   "id": "representative-restoration",
   "metadata": {},
   "outputs": [],
   "source": [
    "networks = {\"Real World\":RW,  \"Barabási–Albert\": BA, \"Erdős-Rényi\" : ER, \"Watts Strogatz\":WS}\n"
   ]
  },
  {
   "cell_type": "markdown",
   "id": "adjacent-louis",
   "metadata": {},
   "source": [
    "## Degree distribution analysis\n"
   ]
  },
  {
   "cell_type": "code",
   "execution_count": 48,
   "id": "breeding-denmark",
   "metadata": {},
   "outputs": [],
   "source": [
    "deg_sequences ={\"Real World\":[(n,d) for n,d in G.degree()],\"Erdős-Rényi\":[(n,d) for n,d in ER.degree()],\"Barabási–Albert\":[(n,d) for n,d in BA.degree()],\"Watts Strogatz\":[(n,d) for n,d in WS.degree()]}"
   ]
  },
  {
   "cell_type": "code",
   "execution_count": 49,
   "id": "respected-party",
   "metadata": {},
   "outputs": [],
   "source": [
    "with open(\"../data/degrees.json\",'w') as jf:\n",
    "    json.dump(deg_sequences,jf)"
   ]
  },
  {
   "cell_type": "code",
   "execution_count": null,
   "id": "duplicate-radio",
   "metadata": {},
   "outputs": [],
   "source": [
    "with open(\"../data/degrees.json\",'r') as jf:\n",
    "    deg_sequences = json.load(jf)"
   ]
  },
  {
   "cell_type": "code",
   "execution_count": 50,
   "id": "sunset-interstate",
   "metadata": {},
   "outputs": [
    {
     "data": {
      "image/png": "[encoded data removed]",
      "text/plain": [
       "<Figure size 432x288 with 1 Axes>"
      ]
     },
     "metadata": {
      "needs_background": "light"
     },
     "output_type": "display_data"
    }
   ],
   "source": [
    "for name,seq in deg_sequences.items():\n",
    "\n",
    "    degree_sequence = sorted([c for n,c in seq], reverse=True)  # degree sequence\n",
    "    degreeCount = collections.Counter(degree_sequence)\n",
    "    deg, cnt = zip(*degreeCount.items())\n",
    "\n",
    "    plt.plot(deg, cnt)\n",
    "\n",
    "\n",
    "plt.title(\"Degree distribution\")\n",
    "plt.ylabel(\"Count\")\n",
    "plt.xlabel(\"Degree\")\n",
    "plt.legend([name for name in deg_sequences.keys()])\n",
    "plt.show()\n"
   ]
  },
  {
   "cell_type": "code",
   "execution_count": null,
   "id": "lesbian-joint",
   "metadata": {},
   "outputs": [],
   "source": []
  },
  {
   "cell_type": "code",
   "execution_count": 51,
   "id": "civilian-ratio",
   "metadata": {},
   "outputs": [
    {
     "data": {
      "image/png": "[encoded data removed]",
      "text/plain": [
       "<Figure size 432x288 with 1 Axes>"
      ]
     },
     "metadata": {
      "needs_background": "light"
     },
     "output_type": "display_data"
    }
   ],
   "source": [
    "\n",
    "for name, seq in deg_sequences.items():\n",
    "\n",
    "    degree_sequence = sorted([d for n, d in seq], reverse=True)  # degree sequence\n",
    "    degreeCount = collections.Counter(degree_sequence)\n",
    "    deg, cnt = zip(*degreeCount.items())\n",
    "    normalizer = sum(cnt)\n",
    "    prob = [i/normalizer for i in cnt]\n",
    "    cumprob = [0]\n",
    "    for i, p in enumerate(prob[::-1]):\n",
    "        cumprob.append(p + cumprob[-1])\n",
    "    cumprob = cumprob[1:][::-1]\n",
    "    plt.plot(deg, cumprob, linestyle = '-')\n",
    "\n",
    "\n",
    "plt.title(\"Cumulative Degree Distribution\")\n",
    "plt.ylabel(\"Cumulative Probability\")\n",
    "plt.xlabel(\"Degree\")\n",
    "plt.legend([name for name in deg_sequences.keys()])\n",
    "plt.show()"
   ]
  },
  {
   "cell_type": "code",
   "execution_count": null,
   "id": "annoying-china",
   "metadata": {},
   "outputs": [],
   "source": [
    "for name,seq in deg_sequences.items():\n",
    "    ds = sorted([d for n, d in seq], reverse=True)  \n",
    "    print(name.upper())\n",
    "    print('max: ',np.max(ds))\n",
    "    print('min: ',np.max(ds))\n",
    "    print('avg: ',np.average(ds))\n",
    "    print('var: ',np.var(ds))\n",
    "    print('std: ',np.std(ds))\n",
    "    print('std: ',np.skew(ds))"
   ]
  },
  {
   "cell_type": "code",
   "execution_count": null,
   "id": "executed-belarus",
   "metadata": {},
   "outputs": [],
   "source": [
    "for net in [G,ER,BA,WS]:\n",
    "    plot_dist(net)"
   ]
  },
  {
   "cell_type": "code",
   "execution_count": null,
   "id": "revised-workplace",
   "metadata": {},
   "outputs": [],
   "source": [
    "plt.plot(nx.degree_histogram(G))\n",
    "plt.show()\n",
    "print('density: ', nx.density(G))\n",
    "print('average clustering coefficient: ', nx.average_clustering(G))"
   ]
  },
  {
   "cell_type": "markdown",
   "id": "functioning-freight",
   "metadata": {},
   "source": [
    "## Connected components analysis\n"
   ]
  },
  {
   "cell_type": "code",
   "execution_count": null,
   "id": "improving-auditor",
   "metadata": {},
   "outputs": [],
   "source": [
    "components =  [c for c in sorted(nx.connected_components(G), key=len, reverse=True)]\n",
    "avg_size = np.average([len(c) for c in components])\n",
    "print('average componets size: ', avg_size)\n",
    "print([len(c) for c in components[:7]],'etc...')"
   ]
  },
  {
   "cell_type": "code",
   "execution_count": null,
   "id": "sacred-conducting",
   "metadata": {},
   "outputs": [],
   "source": []
  },
  {
   "cell_type": "code",
   "execution_count": null,
   "id": "irish-gasoline",
   "metadata": {},
   "outputs": [],
   "source": []
  },
  {
   "cell_type": "markdown",
   "id": "logical-director",
   "metadata": {},
   "source": [
    "## Path analysis\n"
   ]
  },
  {
   "cell_type": "code",
   "execution_count": null,
   "id": "recreational-donor",
   "metadata": {},
   "outputs": [],
   "source": []
  },
  {
   "cell_type": "code",
   "execution_count": null,
   "id": "preceding-disability",
   "metadata": {},
   "outputs": [],
   "source": []
  },
  {
   "cell_type": "code",
   "execution_count": null,
   "id": "coated-exchange",
   "metadata": {},
   "outputs": [],
   "source": []
  },
  {
   "cell_type": "code",
   "execution_count": null,
   "id": "uniform-lunch",
   "metadata": {},
   "outputs": [],
   "source": []
  },
  {
   "cell_type": "markdown",
   "id": "sized-tutorial",
   "metadata": {},
   "source": [
    "## Clustering Coefficient, Density analysis\n"
   ]
  },
  {
   "cell_type": "code",
   "execution_count": 50,
   "id": "imperial-variety",
   "metadata": {},
   "outputs": [
    {
     "data": {
      "image/png": "[encoded data removed]",
      "text/plain": [
       "<Figure size 432x288 with 1 Axes>"
      ]
     },
     "metadata": {
      "needs_background": "light"
     },
     "output_type": "display_data"
    }
   ],
   "source": [
    "for name,seq in clustering_sequences.items():\n",
    "\n",
    "    degree_sequence = sorted([c for n,c in seq], reverse=True)  # degree sequence\n",
    "    degreeCount = collections.Counter(degree_sequence)\n",
    "    deg, cnt = zip(*degreeCount.items())\n",
    "\n",
    "    plt.plot(deg, cnt)\n",
    "\n",
    "\n",
    "plt.title(\"Degree distribution\")\n",
    "plt.ylabel(\"Count\")\n",
    "plt.xlabel(\"Clustering Coefficient\")\n",
    "plt.xscale('log')\n",
    "plt.yscale('log')\n",
    "plt.legend([name for name in clustering_sequences.keys()])\n",
    "plt.show()\n"
   ]
  },
  {
   "cell_type": "code",
   "execution_count": 51,
   "id": "alive-camping",
   "metadata": {},
   "outputs": [
    {
     "data": {
      "image/png": "[encoded data removed]",
      "text/plain": [
       "<Figure size 432x288 with 1 Axes>"
      ]
     },
     "metadata": {
      "needs_background": "light"
     },
     "output_type": "display_data"
    }
   ],
   "source": [
    "\n",
    "for name, seq in clustering_sequences.items():\n",
    "\n",
    "    degree_sequence = sorted([d for n, d in seq], reverse=True)  # degree sequence\n",
    "    degreeCount = collections.Counter(degree_sequence)\n",
    "    deg, cnt = zip(*degreeCount.items())\n",
    "    normalizer = sum(cnt)\n",
    "    prob = [i/normalizer for i in cnt]\n",
    "    cumprob = [0]\n",
    "    for i, p in enumerate(prob[::-1]):\n",
    "        cumprob.append(p + cumprob[-1])\n",
    "    cumprob = cumprob[1:][::-1]\n",
    "    plt.plot(deg, cumprob, linestyle = '-')\n",
    "\n",
    "\n",
    "plt.title(\"Cumulative Clustering Coefficient Distribution\")\n",
    "plt.ylabel(\"Cumulative Probability\")\n",
    "plt.xlabel(\"Degree\")\n",
    "plt.legend([name for name in clustering_sequences.keys()])\n",
    "plt.show()"
   ]
  },
  {
   "cell_type": "code",
   "execution_count": 50,
   "id": "forbidden-casino",
   "metadata": {},
   "outputs": [
    {
     "data": {
      "image/png": "[encoded data removed]",
      "text/plain": [
       "<Figure size 432x288 with 1 Axes>"
      ]
     },
     "metadata": {
      "needs_background": "light"
     },
     "output_type": "display_data"
    }
   ],
   "source": [
    "for name,seq in deg_sequences.items():\n",
    "\n",
    "    degree_sequence = sorted([c for n,c in seq], reverse=True)  # degree sequence\n",
    "    degreeCount = collections.Counter(degree_sequence)\n",
    "    deg, cnt = zip(*degreeCount.items())\n",
    "\n",
    "    plt.plot(deg, cnt)\n",
    "\n",
    "\n",
    "plt.title(\"Degree distribution\")\n",
    "plt.ylabel(\"Count\")\n",
    "plt.xlabel(\"Degree\")\n",
    "plt.legend([name for name in deg_sequences.keys()])\n",
    "plt.show()\n"
   ]
  },
  {
   "cell_type": "markdown",
   "id": "personal-correlation",
   "metadata": {},
   "source": [
    "## Centrality analysis"
   ]
  },
  {
   "cell_type": "code",
   "execution_count": null,
   "id": "median-plumbing",
   "metadata": {},
   "outputs": [],
   "source": []
  },
  {
   "cell_type": "code",
   "execution_count": null,
   "id": "worldwide-chicken",
   "metadata": {},
   "outputs": [],
   "source": []
  },
  {
   "cell_type": "code",
   "execution_count": null,
   "id": "brown-baghdad",
   "metadata": {},
   "outputs": [],
   "source": []
  },
  {
   "cell_type": "code",
   "execution_count": 53,
   "id": "facial-kitchen",
   "metadata": {},
   "outputs": [],
   "source": [
    "def plot_dist(G):\n",
    "    M = nx.to_scipy_sparse_matrix(G)\n",
    "    xmin = min([d[1] for d in G.degree()])\n",
    "    indegrees = M.sum(0).A[0]\n",
    "    degree = np.bincount(indegrees)\n",
    "    fit = powerlaw.Fit(np.array(degree)+1, fit_method='KS')#, xmin=xmin, xmax=max(degree)-xmin,discrete=True)\n",
    "    \n",
    "    \n",
    "    fig = plt.figure(figsize=(16, 6)) \n",
    "    \"\"\" Plot Distribution \"\"\"\n",
    "    plt.subplot(1, 3, 1)\n",
    "    plt.plot(range(len(degree)),degree,'b.')   \n",
    "    plt.loglog()\n",
    "    plt.xlim((min(degree), max(degree)))\n",
    "    plt.xlabel('Degree')\n",
    "    plt.ylabel('P(k)')\n",
    "\n",
    "\n",
    "    \"\"\" Plot CDF \"\"\"\n",
    "    plt.subplot(1, 3, 2)\n",
    "    fit.plot_cdf()\n",
    "    plt.xlabel(\"Degree\")\n",
    "    plt.ylabel('CDF')\n",
    "\n",
    "    \"\"\" Plot CCDF \"\"\"\n",
    "    plt.subplot(1, 3, 3)\n",
    "    fit.power_law.plot_pdf(color='r',linestyle='--',label='fit ccdf')\n",
    "    fit.plot_ccdf()\n",
    "    plt.ylabel('CCDF')\n",
    "    plt.xlabel('Degree')\n",
    "    plt.tight_layout()\n",
    "    plt.show()\n",
    "    print(f'alpha={fit.power_law.alpha+1} sigma={fit.power_law.sigma}')"
   ]
  },
  {
   "cell_type": "code",
   "execution_count": null,
   "id": "english-philip",
   "metadata": {},
   "outputs": [],
   "source": []
  }
 ],
 "metadata": {
  "kernelspec": {
   "display_name": "Python 3",
   "language": "python",
   "name": "python3"
  },
  "language_info": {
   "codemirror_mode": {
    "name": "ipython",
    "version": 3
   },
   "file_extension": ".py",
   "mimetype": "text/x-python",
   "name": "python",
   "nbconvert_exporter": "python",
   "pygments_lexer": "ipython3",
   "version": "3.7.10"
  }
 },
 "nbformat": 4,
 "nbformat_minor": 5
}
