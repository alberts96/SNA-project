{
 "cells": [
  {
   "cell_type": "code",
   "execution_count": 4,
   "id": "southwest-tiger",
   "metadata": {},
   "outputs": [
    {
     "ename": "ModuleNotFoundError",
     "evalue": "No module named 'linkpred'",
     "output_type": "error",
     "traceback": [
      "\u001b[1;31m---------------------------------------------------------------------------\u001b[0m",
      "\u001b[1;31mModuleNotFoundError\u001b[0m                       Traceback (most recent call last)",
      "\u001b[1;32m<ipython-input-4-728f86fb3105>\u001b[0m in \u001b[0;36m<module>\u001b[1;34m\u001b[0m\n\u001b[0;32m      3\u001b[0m \u001b[1;32mimport\u001b[0m \u001b[0mjson\u001b[0m\u001b[1;33m\u001b[0m\u001b[1;33m\u001b[0m\u001b[0m\n\u001b[0;32m      4\u001b[0m \u001b[1;32mimport\u001b[0m \u001b[0mnetworkx\u001b[0m \u001b[1;32mas\u001b[0m \u001b[0mnx\u001b[0m\u001b[1;33m\u001b[0m\u001b[1;33m\u001b[0m\u001b[0m\n\u001b[1;32m----> 5\u001b[1;33m \u001b[1;32mimport\u001b[0m \u001b[0mlinkpred\u001b[0m\u001b[1;33m\u001b[0m\u001b[1;33m\u001b[0m\u001b[0m\n\u001b[0m",
      "\u001b[1;31mModuleNotFoundError\u001b[0m: No module named 'linkpred'"
     ]
    }
   ],
   "source": [
    "import pandas as pd\n",
    "import numpy as np\n",
    "import json \n",
    "import networkx as nx \n",
    "import linkpred"
   ]
  },
  {
   "cell_type": "code",
   "execution_count": 9,
   "id": "chicken-technical",
   "metadata": {},
   "outputs": [
    {
     "data": {
      "text/plain": [
       "15863"
      ]
     },
     "execution_count": 9,
     "metadata": {},
     "output_type": "execute_result"
    }
   ],
   "source": [
    "with open('../data_collection/data/tuscany_init.json') as jf:\n",
    "    data = json.load(jf)\n",
    "    \n",
    "len(data)"
   ]
  },
  {
   "cell_type": "code",
   "execution_count": 10,
   "id": "independent-prior",
   "metadata": {},
   "outputs": [],
   "source": [
    "tuscany = dict()\n",
    "\n",
    "for restaurant, reviews in data.items():\n",
    "    if len(reviews)>0 : tuscany[restaurant] = dict()\n",
    "    else: continue\n",
    "    for review in reviews : \n",
    "        username = review['username']\n",
    "        date = review['date']\n",
    "        \n",
    "        if username not in tuscany[restaurant] : tuscany[restaurant][username] = [date]\n",
    "        else:                                    tuscany[restaurant][username].append(date)"
   ]
  },
  {
   "cell_type": "code",
   "execution_count": 11,
   "id": "approved-polyester",
   "metadata": {},
   "outputs": [],
   "source": [
    "with open('../data_collection/data/tuscany_alldates.json','w+') as jf:\n",
    "    json.dump(tuscany,jf)"
   ]
  },
  {
   "cell_type": "code",
   "execution_count": 3,
   "id": "buried-directory",
   "metadata": {},
   "outputs": [
    {
     "ename": "FileNotFoundError",
     "evalue": "[Errno 2] No such file or directory: '../data_collection/data/tuscany_alldates.json'",
     "output_type": "error",
     "traceback": [
      "\u001b[1;31m---------------------------------------------------------------------------\u001b[0m",
      "\u001b[1;31mFileNotFoundError\u001b[0m                         Traceback (most recent call last)",
      "\u001b[1;32m<ipython-input-3-ba6102fd8460>\u001b[0m in \u001b[0;36m<module>\u001b[1;34m\u001b[0m\n\u001b[1;32m----> 1\u001b[1;33m \u001b[1;32mwith\u001b[0m \u001b[0mopen\u001b[0m\u001b[1;33m(\u001b[0m\u001b[1;34m'../data_collection/data/tuscany_alldates.json'\u001b[0m\u001b[1;33m)\u001b[0m \u001b[1;32mas\u001b[0m \u001b[0mjf\u001b[0m\u001b[1;33m:\u001b[0m\u001b[1;33m\u001b[0m\u001b[1;33m\u001b[0m\u001b[0m\n\u001b[0m\u001b[0;32m      2\u001b[0m     \u001b[0mtuscany\u001b[0m \u001b[1;33m=\u001b[0m \u001b[0mjson\u001b[0m\u001b[1;33m.\u001b[0m\u001b[0mload\u001b[0m\u001b[1;33m(\u001b[0m\u001b[0mjf\u001b[0m\u001b[1;33m)\u001b[0m\u001b[1;33m\u001b[0m\u001b[1;33m\u001b[0m\u001b[0m\n",
      "\u001b[1;31mFileNotFoundError\u001b[0m: [Errno 2] No such file or directory: '../data_collection/data/tuscany_alldates.json'"
     ]
    }
   ],
   "source": [
    "with open('../data_collection/data/tuscany_alldates.json') as jf:\n",
    "    tuscany = json.load(jf)"
   ]
  },
  {
   "cell_type": "code",
   "execution_count": 71,
   "id": "experimental-winter",
   "metadata": {},
   "outputs": [
    {
     "data": {
      "text/plain": [
       "15863"
      ]
     },
     "execution_count": 71,
     "metadata": {},
     "output_type": "execute_result"
    }
   ],
   "source": [
    "len(tuscany)"
   ]
  },
  {
   "cell_type": "code",
   "execution_count": 72,
   "id": "coupled-anatomy",
   "metadata": {},
   "outputs": [],
   "source": [
    "tuscanyCovid = dict()\n",
    "for restaurant, reviews in tuscany.items():\n",
    "    tuscanyCovid[restaurant] = dict()\n",
    "    for reviewer,dates in reviews.items() : \n",
    "        tuscanyCovid[restaurant][reviewer] = [int(date) for date in dates if int(date) >= 20200000]"
   ]
  },
  {
   "cell_type": "code",
   "execution_count": 38,
   "id": "particular-purchase",
   "metadata": {},
   "outputs": [],
   "source": [
    "deleteRestaurants = []\n",
    "deleteReviewers = dict()\n",
    "for restaurant, reviews in tuscanyCovid.items():\n",
    "    if len(reviews)==0 : deleteRestaurants.append(restaurant)\n",
    "    else: \n",
    "        \n",
    "        for reviewer,dates in reviews.items() : \n",
    "            \n",
    "            if len(dates)==0: \n",
    "                if restaurant in deleteReviewers: deleteReviewers[restaurant].append(reviewer)\n",
    "                else : deleteReviewers[restaurant] = [reviewer]"
   ]
  },
  {
   "cell_type": "code",
   "execution_count": 39,
   "id": "different-closure",
   "metadata": {},
   "outputs": [],
   "source": [
    "for restaurant in deleteRestaurants: tuscanyCovid.pop(restaurant)\n"
   ]
  },
  {
   "cell_type": "code",
   "execution_count": 36,
   "id": "lightweight-banks",
   "metadata": {},
   "outputs": [],
   "source": [
    "for restaurant in deleteReviewers:\n",
    "    for reviewer in deleteReviewers[restaurant]:\n",
    "         tuscanyCovid[restaurant].pop(reviewer)"
   ]
  },
  {
   "cell_type": "code",
   "execution_count": 38,
   "id": "homeless-health",
   "metadata": {},
   "outputs": [],
   "source": [
    "deleteRestaurants = []\n",
    "deleteReviewers = dict()\n",
    "for restaurant, reviews in tuscanyCovid.items():\n",
    "    if len(reviews)==0 : deleteRestaurants.append(restaurant)\n",
    "    else: \n",
    "        \n",
    "        for reviewer,dates in reviews.items() : \n",
    "            \n",
    "            if len(dates)==0: \n",
    "                if restaurant in deleteReviewers: deleteReviewers[restaurant].append(reviewer)\n",
    "                else : deleteReviewers[restaurant] = [reviewer]"
   ]
  },
  {
   "cell_type": "code",
   "execution_count": 39,
   "id": "based-remains",
   "metadata": {},
   "outputs": [],
   "source": [
    "for restaurant in deleteRestaurants: tuscanyCovid.pop(restaurant)\n"
   ]
  },
  {
   "cell_type": "code",
   "execution_count": 80,
   "id": "everyday-expansion",
   "metadata": {},
   "outputs": [],
   "source": [
    "G = nx.MultiDiGraph()"
   ]
  },
  {
   "cell_type": "code",
   "execution_count": 75,
   "id": "impaired-dutch",
   "metadata": {},
   "outputs": [],
   "source": [
    "tuscany = tuscanyCovid"
   ]
  },
  {
   "cell_type": "code",
   "execution_count": 77,
   "id": "otherwise-mounting",
   "metadata": {},
   "outputs": [],
   "source": [
    "with open('../data_collection/data/tuscanyCovid.json','w+') as jf:\n",
    "    json.dump(tuscany,jf)"
   ]
  },
  {
   "cell_type": "code",
   "execution_count": 82,
   "id": "molecular-strike",
   "metadata": {},
   "outputs": [
    {
     "name": "stdout",
     "output_type": "stream",
     "text": [
      "0 1000 2000 3000 4000 5000 6000 7000 8000 9000 10000 11000 12000 13000 14000 15000 "
     ]
    }
   ],
   "source": [
    "for i,reviews_i in tuscany.items():\n",
    "    if int(i) % 1000 == 0: print(i, end= ' ')\n",
    "    if len(tuscany[str(i)])==0: continue\n",
    "    reviewers_i = set(reviews_i.keys())\n",
    "\n",
    "    for j, reviews_j in list(tuscany.items())[int(i)+1:]:\n",
    "        if len(tuscany[str(j)])==0: continue\n",
    "\n",
    "        reviewers_j = set(reviews_j.keys())\n",
    "       \n",
    "        intersection = list(reviewers_i.intersection(reviewers_j))\n",
    "        if len(intersection) > 0:\n",
    "            for reviewer in intersection:\n",
    "                dates_i = reviews_i[reviewer]\n",
    "                dates_j = reviews_j[reviewer]\n",
    "               \n",
    "                datepairs = []\n",
    "                for date_i in dates_i: \n",
    "                    for date_j in dates_j:\n",
    "\n",
    "                        if date_i < date_j:  G.add_edge(i,j, start=date_i,end=date_j)\n",
    "                        elif date_i > date_j:  G.add_edge(j,i, start=date_j,end=date_i)\n",
    "                        else: \n",
    "                            G.add_edge(j,i, start=date_j,end=date_i)\n",
    "                            G.add_edge(i,j, start=date_i,end=date_j)"
   ]
  },
  {
   "cell_type": "code",
   "execution_count": 84,
   "id": "patent-failure",
   "metadata": {},
   "outputs": [],
   "source": [
    "nx.write_graphml(G,'../data/multicoviddigraph.graphml')"
   ]
  },
  {
   "cell_type": "code",
   "execution_count": 86,
   "id": "christian-balance",
   "metadata": {},
   "outputs": [
    {
     "data": {
      "text/plain": [
       "225902"
      ]
     },
     "execution_count": 86,
     "metadata": {},
     "output_type": "execute_result"
    }
   ],
   "source": [
    "len(G.edges)"
   ]
  },
  {
   "cell_type": "code",
   "execution_count": 5,
   "id": "collect-utilization",
   "metadata": {},
   "outputs": [
    {
     "ename": "FileNotFoundError",
     "evalue": "[Errno 2] No such file or directory: '../data_collection/data/tuscany_alldates.json'",
     "output_type": "error",
     "traceback": [
      "\u001b[1;31m---------------------------------------------------------------------------\u001b[0m",
      "\u001b[1;31mFileNotFoundError\u001b[0m                         Traceback (most recent call last)",
      "\u001b[1;32m<ipython-input-5-ba6102fd8460>\u001b[0m in \u001b[0;36m<module>\u001b[1;34m\u001b[0m\n\u001b[1;32m----> 1\u001b[1;33m \u001b[1;32mwith\u001b[0m \u001b[0mopen\u001b[0m\u001b[1;33m(\u001b[0m\u001b[1;34m'../data_collection/data/tuscany_alldates.json'\u001b[0m\u001b[1;33m)\u001b[0m \u001b[1;32mas\u001b[0m \u001b[0mjf\u001b[0m\u001b[1;33m:\u001b[0m\u001b[1;33m\u001b[0m\u001b[1;33m\u001b[0m\u001b[0m\n\u001b[0m\u001b[0;32m      2\u001b[0m     \u001b[0mtuscany\u001b[0m \u001b[1;33m=\u001b[0m \u001b[0mjson\u001b[0m\u001b[1;33m.\u001b[0m\u001b[0mload\u001b[0m\u001b[1;33m(\u001b[0m\u001b[0mjf\u001b[0m\u001b[1;33m)\u001b[0m\u001b[1;33m\u001b[0m\u001b[1;33m\u001b[0m\u001b[0m\n",
      "\u001b[1;31mFileNotFoundError\u001b[0m: [Errno 2] No such file or directory: '../data_collection/data/tuscany_alldates.json'"
     ]
    }
   ],
   "source": [
    "with open('../data_collection/data/tuscany_alldates.json') as jf:\n",
    "    tuscany = json.load(jf)"
   ]
  },
  {
   "cell_type": "code",
   "execution_count": null,
   "id": "773d2d23",
   "metadata": {},
   "outputs": [],
   "source": []
  },
  {
   "cell_type": "code",
   "execution_count": 3,
   "id": "closing-passion",
   "metadata": {},
   "outputs": [],
   "source": [
    "tuscanyCovid = dict()\n",
    "for restaurant, reviews in tuscany.items():\n",
    "    tuscanyCovid[restaurant] = dict()\n",
    "    for reviewer,dates in reviews.items() : \n",
    "        tuscanyCovid[restaurant][reviewer] = [int(date) for date in dates if int(date) >= 20200224]"
   ]
  },
  {
   "cell_type": "code",
   "execution_count": 5,
   "id": "dedicated-ozone",
   "metadata": {},
   "outputs": [],
   "source": [
    "tuscany = tuscanyCovid"
   ]
  },
  {
   "cell_type": "code",
   "execution_count": 6,
   "id": "opened-explanation",
   "metadata": {},
   "outputs": [],
   "source": [
    "tuscanyCovid = dict()\n",
    "for restaurant, reviews in tuscany.items():\n",
    "    for reviewer,dates in reviews.items() : \n",
    "        if reviewer not in tuscanyCovid: tuscanyCovid[reviewer] = list()\n",
    "        for date in dates:\n",
    "            tuscanyCovid[reviewer].append((restaurant,date))"
   ]
  },
  {
   "cell_type": "code",
   "execution_count": 7,
   "id": "retired-america",
   "metadata": {},
   "outputs": [],
   "source": [
    "with open('../data_collection/data/tuscanyCovidReviewer.json','w+') as jf:\n",
    "    json.dump(tuscanyCovid,jf)"
   ]
  },
  {
   "cell_type": "code",
   "execution_count": 2,
   "id": "0c921bff",
   "metadata": {},
   "outputs": [
    {
     "ename": "FileNotFoundError",
     "evalue": "[Errno 2] No such file or directory: '../data_collection/data/tuscanyCovidReviewer.json'",
     "output_type": "error",
     "traceback": [
      "\u001b[1;31m---------------------------------------------------------------------------\u001b[0m",
      "\u001b[1;31mFileNotFoundError\u001b[0m                         Traceback (most recent call last)",
      "\u001b[1;32m<ipython-input-2-f94583f26701>\u001b[0m in \u001b[0;36m<module>\u001b[1;34m\u001b[0m\n\u001b[1;32m----> 1\u001b[1;33m \u001b[1;32mwith\u001b[0m \u001b[0mopen\u001b[0m\u001b[1;33m(\u001b[0m\u001b[1;34m'../data_collection/data/tuscanyCovidReviewer.json'\u001b[0m\u001b[1;33m,\u001b[0m\u001b[1;34m'w+'\u001b[0m\u001b[1;33m)\u001b[0m \u001b[1;32mas\u001b[0m \u001b[0mjf\u001b[0m\u001b[1;33m:\u001b[0m\u001b[1;33m\u001b[0m\u001b[1;33m\u001b[0m\u001b[0m\n\u001b[0m\u001b[0;32m      2\u001b[0m     \u001b[0mtuscany\u001b[0m \u001b[1;33m=\u001b[0m \u001b[0mjson\u001b[0m\u001b[1;33m.\u001b[0m\u001b[0mload\u001b[0m\u001b[1;33m(\u001b[0m\u001b[0mjf\u001b[0m\u001b[1;33m)\u001b[0m\u001b[1;33m\u001b[0m\u001b[1;33m\u001b[0m\u001b[0m\n",
      "\u001b[1;31mFileNotFoundError\u001b[0m: [Errno 2] No such file or directory: '../data_collection/data/tuscanyCovidReviewer.json'"
     ]
    }
   ],
   "source": [
    "with open('../data_collection/data/tuscanyCovidReviewer.json','w+') as jf:\n",
    "    tuscany = json.load(jf)"
   ]
  },
  {
   "cell_type": "code",
   "execution_count": 8,
   "id": "running-activation",
   "metadata": {},
   "outputs": [],
   "source": [
    "tuscany = tuscanyCovid"
   ]
  },
  {
   "cell_type": "code",
   "execution_count": null,
   "id": "f1088879",
   "metadata": {},
   "outputs": [],
   "source": []
  },
  {
   "cell_type": "code",
   "execution_count": 9,
   "id": "accomplished-iceland",
   "metadata": {},
   "outputs": [],
   "source": [
    "G = nx.MultiDiGraph()"
   ]
  },
  {
   "cell_type": "code",
   "execution_count": 22,
   "id": "piano-exhibit",
   "metadata": {},
   "outputs": [
    {
     "data": {
      "text/plain": [
       "48945"
      ]
     },
     "execution_count": 22,
     "metadata": {},
     "output_type": "execute_result"
    }
   ],
   "source": [
    "sum([len(r)-1 for r in tus.values()])"
   ]
  },
  {
   "cell_type": "code",
   "execution_count": 23,
   "id": "lovely-madison",
   "metadata": {},
   "outputs": [
    {
     "data": {
      "text/plain": [
       "24653"
      ]
     },
     "execution_count": 23,
     "metadata": {},
     "output_type": "execute_result"
    }
   ],
   "source": [
    "len(tus)"
   ]
  },
  {
   "cell_type": "code",
   "execution_count": null,
   "id": "prescription-convenience",
   "metadata": {},
   "outputs": [],
   "source": []
  },
  {
   "cell_type": "code",
   "execution_count": 7,
   "id": "perceived-mambo",
   "metadata": {},
   "outputs": [],
   "source": [
    "from tqdm.notebook import tqdm"
   ]
  },
  {
   "cell_type": "code",
   "execution_count": 24,
   "id": "nonprofit-torture",
   "metadata": {},
   "outputs": [
    {
     "data": {
      "application/vnd.jupyter.widget-view+json": {
       "model_id": "49352b8e6834412d8257c21556da6097",
       "version_major": 2,
       "version_minor": 0
      },
      "text/plain": [
       "  0%|          | 0/1021021 [00:00<?, ?it/s]"
      ]
     },
     "metadata": {},
     "output_type": "display_data"
    }
   ],
   "source": [
    "for reviewer, reviews in tqdm(tuscany.items()):\n",
    "    reviews.sort(key = lambda x: x[1])\n",
    "    for i,review in enumerate(reviews): \n",
    "        restaurant_i, date_i = review\n",
    "        if len(reviews) > i + 1 :\n",
    "            restaurant_j, date_j = reviews[i+1]\n",
    "            G.add_edge(restaurant_i,restaurant_j, start=date_i,end=date_j,user = reviewer)\n",
    "            if date_i == date_j: G.add_edge(restaurant_j,restaurant_i, start=date_j,end=date_i,user = reviewer)\n",
    "            \n",
    "        "
   ]
  },
  {
   "cell_type": "code",
   "execution_count": 25,
   "id": "distributed-running",
   "metadata": {},
   "outputs": [
    {
     "data": {
      "text/plain": [
       "72098"
      ]
     },
     "execution_count": 25,
     "metadata": {},
     "output_type": "execute_result"
    }
   ],
   "source": [
    "len(G.edges)"
   ]
  },
  {
   "cell_type": "code",
   "execution_count": 26,
   "id": "unique-utility",
   "metadata": {},
   "outputs": [],
   "source": [
    "nx.write_graphml(G,'../data/covidByUser.graphml')"
   ]
  },
  {
   "cell_type": "code",
   "execution_count": 114,
   "id": "silent-antarctica",
   "metadata": {},
   "outputs": [],
   "source": [
    "C = nx.read_graphml('../data/covidByUser.graphml')"
   ]
  },
  {
   "cell_type": "code",
   "execution_count": 117,
   "id": "graphic-bowling",
   "metadata": {},
   "outputs": [
    {
     "data": {
      "text/plain": [
       "93020"
      ]
     },
     "execution_count": 117,
     "metadata": {},
     "output_type": "execute_result"
    }
   ],
   "source": [
    "len(C.edges)"
   ]
  },
  {
   "cell_type": "code",
   "execution_count": 28,
   "id": "ahead-emperor",
   "metadata": {},
   "outputs": [
    {
     "data": {
      "application/vnd.jupyter.widget-view+json": {
       "model_id": "3229bcb79537469b8d8eebb81ce7cb69",
       "version_major": 2,
       "version_minor": 0
      },
      "text/plain": [
       "  0%|          | 0/1021021 [00:00<?, ?it/s]"
      ]
     },
     "metadata": {},
     "output_type": "display_data"
    }
   ],
   "source": [
    "tuscanyCovid = dict()\n",
    "for reviewer, reviews in tqdm(tuscany.items()):\n",
    "    if len(reviews) > 1 : tuscanyCovid[reviewer] = {review[1]: list() for review in reviews}\n",
    "    else: continue\n",
    "    for review in reviews:\n",
    "        restaurant, date = review\n",
    "        tuscanyCovid[reviewer][date].append(restaurant)\n",
    "    "
   ]
  },
  {
   "cell_type": "code",
   "execution_count": 21,
   "id": "knowing-behalf",
   "metadata": {},
   "outputs": [],
   "source": [
    "G = nx.MultiDiGraph()\n",
    "tuscany = tuscanyCovid"
   ]
  },
  {
   "cell_type": "code",
   "execution_count": 50,
   "id": "binary-reality",
   "metadata": {},
   "outputs": [
    {
     "ename": "TypeError",
     "evalue": "'int' object is not iterable",
     "output_type": "error",
     "traceback": [
      "\u001b[1;31m---------------------------------------------------------------------------\u001b[0m",
      "\u001b[1;31mTypeError\u001b[0m                                 Traceback (most recent call last)",
      "\u001b[1;32m<ipython-input-50-662025a977e3>\u001b[0m in \u001b[0;36m<module>\u001b[1;34m\u001b[0m\n\u001b[0;32m      3\u001b[0m \u001b[1;33m\u001b[0m\u001b[0m\n\u001b[0;32m      4\u001b[0m \u001b[1;33m\u001b[0m\u001b[0m\n\u001b[1;32m----> 5\u001b[1;33m \u001b[1;33m[\u001b[0m\u001b[0mi\u001b[0m \u001b[1;32mfor\u001b[0m \u001b[0mi\u001b[0m \u001b[1;32min\u001b[0m \u001b[0mproduct\u001b[0m\u001b[1;33m(\u001b[0m\u001b[0msorted\u001b[0m\u001b[1;33m(\u001b[0m\u001b[0mmydict\u001b[0m\u001b[1;33m)\u001b[0m\u001b[1;33m,\u001b[0m\u001b[1;36m2\u001b[0m\u001b[1;33m)\u001b[0m\u001b[1;33m]\u001b[0m\u001b[1;33m\u001b[0m\u001b[1;33m\u001b[0m\u001b[0m\n\u001b[0m",
      "\u001b[1;31mTypeError\u001b[0m: 'int' object is not iterable"
     ]
    }
   ],
   "source": [
    "\n",
    "from itertools import product\n",
    "from itertools import permutations \n",
    "\n",
    "\n",
    "[i for i in product(sorted(mydict),2)]"
   ]
  },
  {
   "cell_type": "code",
   "execution_count": 18,
   "id": "advised-pharmacology",
   "metadata": {},
   "outputs": [
    {
     "data": {
      "text/plain": [
       "[(1, 'a'), (1, 'b'), (2, 'a'), (2, 'b'), (3, 'a'), (3, 'b')]"
      ]
     },
     "execution_count": 18,
     "metadata": {},
     "output_type": "execute_result"
    }
   ],
   "source": [
    "\n",
    "\n",
    "from itertools import product\n",
    "from itertools import permutations\n",
    "list(product([1,2,3],['a','b']))"
   ]
  },
  {
   "cell_type": "code",
   "execution_count": 22,
   "id": "secret-street",
   "metadata": {},
   "outputs": [
    {
     "data": {
      "application/vnd.jupyter.widget-view+json": {
       "model_id": "b7eb839873d142f09666c77c4b2a00a7",
       "version_major": 2,
       "version_minor": 0
      },
      "text/plain": [
       "  0%|          | 0/24653 [00:00<?, ?it/s]"
      ]
     },
     "metadata": {},
     "output_type": "display_data"
    }
   ],
   "source": [
    "\n",
    "\n",
    "from itertools import product\n",
    "from itertools import permutations\n",
    "\n",
    "\n",
    "for reviewer, allreviews in tqdm(tuscany.items()):\n",
    "\n",
    "    allreviews = {k:v for k,v in sorted(allreviews.items())}\n",
    "    for i, date_i in enumerate(allreviews): \n",
    "        reviews_i = allreviews[date_i]\n",
    "        if len(reviews_i) > 1 :\n",
    "            newedges = permutations(reviews_i,2)\n",
    "            for u,v in newedges:\n",
    "                G.add_edge(u,v, start=date_i,end=date_i,user = reviewer)\n",
    "             \n",
    "        \n",
    "        if len(allreviews) > i + 1 :\n",
    "            date_j = list(allreviews)[i+1]\n",
    "            reviews_j = allreviews[date_j]\n",
    "            newedges = product(reviews_i,reviews_j)\n",
    "            for u,v in newedges:\n",
    "                G.add_edge(u,v, start=date_i,end=date_j,user = reviewer)\n",
    "               \n",
    "            \n",
    "        "
   ]
  },
  {
   "cell_type": "code",
   "execution_count": 36,
   "id": "voluntary-calcium",
   "metadata": {},
   "outputs": [
    {
     "name": "stdout",
     "output_type": "stream",
     "text": [
      "('8656', '14252', 0) {'start': 20200811, 'end': 20200911, 'user': 'Giu_8a'}\n",
      "('8827', '8766', 0) {'start': 20200308, 'end': 20200308, 'user': 'Giu_8a'}\n",
      "('8827', '8125', 0) {'start': 20200308, 'end': 20200713, 'user': 'Giu_8a'}\n",
      "('10842', '8656', 0) {'start': 20200809, 'end': 20200811, 'user': 'Giu_8a'}\n",
      "('14492', '8766', 0) {'start': 20200228, 'end': 20200308, 'user': 'Giu_8a'}\n",
      "('14492', '8827', 0) {'start': 20200228, 'end': 20200308, 'user': 'Giu_8a'}\n",
      "('8766', '8827', 0) {'start': 20200308, 'end': 20200308, 'user': 'Giu_8a'}\n",
      "('8766', '8125', 0) {'start': 20200308, 'end': 20200713, 'user': 'Giu_8a'}\n",
      "('8125', '8655', 0) {'start': 20200713, 'end': 20200719, 'user': 'Giu_8a'}\n",
      "('8655', '10842', 0) {'start': 20200719, 'end': 20200809, 'user': 'Giu_8a'}\n",
      "('14252', '10642', 0) {'start': 20200911, 'end': 20200913, 'user': 'Giu_8a'}\n",
      "('14252', '11418', 0) {'start': 20200911, 'end': 20200913, 'user': 'Giu_8a'}\n",
      "('10642', '11418', 0) {'start': 20200913, 'end': 20200913, 'user': 'Giu_8a'}\n",
      "('11418', '10642', 0) {'start': 20200913, 'end': 20200913, 'user': 'Giu_8a'}\n"
     ]
    }
   ],
   "source": [
    "for e in G.edges:\n",
    "    if G.edges[e]['user'] == 'Giu_8a':\n",
    "        print(e,G.edges[e])"
   ]
  },
  {
   "cell_type": "code",
   "execution_count": 38,
   "id": "unknown-latest",
   "metadata": {},
   "outputs": [],
   "source": [
    "nx.write_graphml(G,'../data/covidByUser.graphml')"
   ]
  },
  {
   "cell_type": "code",
   "execution_count": 53,
   "id": "1d17507a",
   "metadata": {},
   "outputs": [
    {
     "data": {
      "text/plain": [
       "111863"
      ]
     },
     "execution_count": 53,
     "metadata": {},
     "output_type": "execute_result"
    }
   ],
   "source": [
    "len(G.edges)"
   ]
  },
  {
   "cell_type": "code",
   "execution_count": 27,
   "id": "7d7fb882",
   "metadata": {},
   "outputs": [],
   "source": [
    "users = dict()\n",
    "\n",
    "for e in G.edges:\n",
    "    u,v,_ = e\n",
    "    username = G.edges[e]['user']\n",
    "    if username not in users: \n",
    "        users[username] = {'visited':set()}\n",
    "        \n",
    "    \n",
    "    users[username]['visited'].add(u)\n",
    "    users[username]['visited'].add(v)\n",
    "     "
   ]
  },
  {
   "cell_type": "code",
   "execution_count": null,
   "id": "0eea3c3e",
   "metadata": {},
   "outputs": [],
   "source": []
  },
  {
   "cell_type": "code",
   "execution_count": 28,
   "id": "6bd9b1bb",
   "metadata": {},
   "outputs": [],
   "source": [
    "for user in users: \n",
    "    users[user]['n_visited'] = len(users[user]['visited'])"
   ]
  },
  {
   "cell_type": "code",
   "execution_count": 30,
   "id": "7de3d7e7",
   "metadata": {},
   "outputs": [],
   "source": [
    "user = dict()\n",
    "for e in G.edges:\n",
    "    if  G.edges[e]['user'] == 'Giu_8a': \n",
    "        user[e] = G.edges[e]"
   ]
  },
  {
   "cell_type": "code",
   "execution_count": 31,
   "id": "referenced-fields",
   "metadata": {},
   "outputs": [],
   "source": [
    "nodebydate = dict()\n",
    "\n",
    "for e in user:\n",
    "    u,v,_ = e\n",
    "    start = user[e]['start']\n",
    "    end = user[e]['end']\n",
    "    if start not in nodebydate: nodebydate[start] = list()\n",
    "    if end not in nodebydate: nodebydate[end] = list()\n",
    "    nodebydate[start].append(u)\n",
    "    nodebydate[end].append(v)"
   ]
  },
  {
   "cell_type": "code",
   "execution_count": 32,
   "id": "54842e71",
   "metadata": {},
   "outputs": [],
   "source": [
    "g = nx.DiGraph()\n",
    "for e in user:\n",
    "    u,v,_ = e\n",
    "    g.add_edge(u,v)"
   ]
  },
  {
   "cell_type": "code",
   "execution_count": 44,
   "id": "15191fb4",
   "metadata": {},
   "outputs": [],
   "source": [
    "\n",
    "\n",
    "positions = dict()\n",
    "width = 10 \n",
    "height = 5\n",
    "\n",
    "for i, date in enumerate(sorted(nodebydate.keys(),reverse=False)):\n",
    "    x = i \n",
    "    reviews = nodebydate[date]\n",
    "    for j, restaurant in enumerate(reviews): \n",
    "        y = (height / (len(reviews)+1)) * (j+1)\n",
    "        positions[restaurant] = (x,y)"
   ]
  },
  {
   "cell_type": "code",
   "execution_count": 52,
   "id": "1db13675",
   "metadata": {},
   "outputs": [
    {
     "data": {
      "image/png": "[encoded data removed]",
      "text/plain": [
       "<Figure size 720x360 with 1 Axes>"
      ]
     },
     "metadata": {},
     "output_type": "display_data"
    }
   ],
   "source": [
    "from matplotlib import pyplot as plt \n",
    "\n",
    "plt.figure(figsize=(width,height))\n",
    "           \n",
    "nx.draw(g, pos= positions, with_labels=True,node_size =2000, font_color='w')"
   ]
  },
  {
   "cell_type": "code",
   "execution_count": 5,
   "id": "dadd5b20",
   "metadata": {},
   "outputs": [],
   "source": [
    "with open('../data/tuscanyCovidReviewer.json','r') as jf:\n",
    "    tuscany = json.load(jf) "
   ]
  },
  {
   "cell_type": "code",
   "execution_count": 8,
   "id": "76825a65",
   "metadata": {},
   "outputs": [
    {
     "data": {
      "application/vnd.jupyter.widget-view+json": {
       "model_id": "2b581100610e40eda1ed43ff68a30d96",
       "version_major": 2,
       "version_minor": 0
      },
      "text/plain": [
       "  0%|          | 0/1021021 [00:00<?, ?it/s]"
      ]
     },
     "metadata": {},
     "output_type": "display_data"
    }
   ],
   "source": [
    "tuscanyCovid = dict()\n",
    "for reviewer, reviews in tqdm(tuscany.items()):\n",
    "    if len(reviews) > 1 : tuscanyCovid[reviewer] = {review[1]: list() for review in reviews}\n",
    "    else: continue\n",
    "    for review in reviews:\n",
    "        restaurant, date = review\n",
    "        tuscanyCovid[reviewer][date].append(restaurant)\n",
    "    "
   ]
  },
  {
   "cell_type": "code",
   "execution_count": 14,
   "id": "9733613a",
   "metadata": {},
   "outputs": [
    {
     "data": {
      "text/plain": [
       "57"
      ]
     },
     "execution_count": 14,
     "metadata": {},
     "output_type": "execute_result"
    }
   ],
   "source": [
    "tuscanyCovid['562marim'])"
   ]
  },
  {
   "cell_type": "code",
   "execution_count": 19,
   "id": "5d2e5f64",
   "metadata": {},
   "outputs": [],
   "source": [
    "allreviews = {k:v for k,v in sorted(tuscanyCovid['Giu_8a'].items())}"
   ]
  },
  {
   "cell_type": "code",
   "execution_count": 20,
   "id": "63bf3690",
   "metadata": {},
   "outputs": [
    {
     "data": {
      "text/plain": [
       "{20200228: ['14492'],\n",
       " 20200308: ['8766', '8827'],\n",
       " 20200713: ['8125'],\n",
       " 20200719: ['8655'],\n",
       " 20200809: ['10842'],\n",
       " 20200811: ['8656'],\n",
       " 20200911: ['14252'],\n",
       " 20200913: ['10642', '11418']}"
      ]
     },
     "execution_count": 20,
     "metadata": {},
     "output_type": "execute_result"
    }
   ],
   "source": [
    "allreviews"
   ]
  },
  {
   "cell_type": "code",
   "execution_count": null,
   "id": "d9135fb2",
   "metadata": {},
   "outputs": [],
   "source": []
  }
 ],
 "metadata": {
  "kernelspec": {
   "display_name": "Python 3",
   "language": "python",
   "name": "python3"
  },
  "language_info": {
   "codemirror_mode": {
    "name": "ipython",
    "version": 3
   },
   "file_extension": ".py",
   "mimetype": "text/x-python",
   "name": "python",
   "nbconvert_exporter": "python",
   "pygments_lexer": "ipython3",
   "version": "3.8.8"
  }
 },
 "nbformat": 4,
 "nbformat_minor": 5
}
